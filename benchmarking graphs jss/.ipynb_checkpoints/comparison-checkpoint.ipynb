{
 "cells": [
  {
   "cell_type": "code",
   "execution_count": 1,
   "metadata": {},
   "outputs": [],
   "source": [
    "import pandas as pd\n",
    "import numpy as np\n",
    "import os\n",
    "from os import walk"
   ]
  },
  {
   "cell_type": "code",
   "execution_count": 53,
   "metadata": {},
   "outputs": [],
   "source": [
    "#gloabl\n",
    "makespan = 1165\n",
    "\n",
    "class technique:\n",
    "    name = \"\"\n",
    "    optimal_makespan_achieved = False\n",
    "    optimal_makespan = 0\n",
    "    optimal_makespan_run_number = 0\n",
    "    optimal_makespan_gen_num = 0\n",
    "    average_makespan = 0\n",
    "    gap = 0\n",
    "    \n",
    "    def __init__(self,name_,opt_mksp_achieved,opt_mksp,opt_mksp_gen_num,avg_mksp,gap,opt_mksp_run_num):\n",
    "        self.name = name_\n",
    "        self.optimal_makespan_achieved = opt_mksp_achieved\n",
    "        self.optimal_makespan = opt_mksp\n",
    "        self.optimal_makespan_gen_num = opt_mksp_gen_num\n",
    "        self.average_makespan = avg_mksp\n",
    "        self.gap = gap\n",
    "        self.optimal_makespan_run_number = opt_mksp_run_num\n"
   ]
  },
  {
   "cell_type": "code",
   "execution_count": 54,
   "metadata": {},
   "outputs": [],
   "source": [
    "#Reading Files\n",
    "ROOT_DIR = os.path.abspath(os.curdir)\n",
    "\n",
    "files = []\n",
    "for (dirpath, dirnames, filenames) in walk(ROOT_DIR+\"/records\"):\n",
    "    files.extend(filenames)\n",
    "   "
   ]
  },
  {
   "cell_type": "code",
   "execution_count": 55,
   "metadata": {},
   "outputs": [],
   "source": [
    "def extract_insights(df,name):\n",
    "    \n",
    "    opt_makespan_achieved = False\n",
    "    run_num = 0\n",
    "    gen_num = 0\n",
    "    curr_opt_makespan = 0\n",
    "    prev_opt_makespan = 0\n",
    "    opt_makespan = 0\n",
    "    avg_makespan = 0\n",
    "    cols = ['Run-1','Run-2','Run-3','Run-4','Run-5']\n",
    "    run_1 = df[cols[0]].tolist()\n",
    "    run_2 = df[cols[1]].tolist()\n",
    "    run_3 = df[cols[2]].tolist()\n",
    "    run_4 = df[cols[3]].tolist()\n",
    "    run_5 = df[cols[4]].tolist()\n",
    "    \n",
    "#     if(makespan in run_1 or makespan in run_2 or makespan in run_3 or makespan in run_4 or makespan in run_5):\n",
    "#         opt_makespan_achieved = True\n",
    "#         print(opt_makespan_achieved)\n",
    "   \n",
    "    for x in range(0,5):\n",
    "        if(makespan in df[cols[x]].tolist()):\n",
    "            opt_makespan_achieved = True\n",
    "        \n",
    "        if(x==0):\n",
    "            curr_opt_makespan = df[cols[x]].tolist()[-1]\n",
    "            prev_opt_makespan = df[cols[x]].tolist()[-1]\n",
    "            opt_makespan = prev_opt_makespan\n",
    "            run_num = x+1\n",
    "        else:\n",
    "            curr_opt_makespan = df[cols[x]].tolist()[-1]\n",
    "            if(prev_opt_makespan>curr_opt_makespan):\n",
    "                prev_opt_makespan = curr_opt_makespan\n",
    "                opt_makespan = prev_opt_makespan\n",
    "                run_num = x+1\n",
    "            \n",
    "    \n",
    "#     print(opt_makespan_achieved)\n",
    "#     print(opt_makespan)\n",
    "#     print(run_num)\n",
    "    \n",
    "    data = df[cols[run_num-1]].tolist()\n",
    "    gen_num = 500 * data.index(opt_makespan)\n",
    "    \n",
    "    avg_makespan = (sum(run_1)/len(run_1)) + (sum(run_2)/len(run_2)) + (sum(run_3)/len(run_3)) + (sum(run_4)/len(run_4))+(sum(run_5)/len(run_5))\n",
    "    avg_makespan = int(round(avg_makespan / 5,0))\n",
    "    \n",
    "    gap = opt_makespan-makespan\n",
    "#     print(gen_num)\n",
    "#     print(avg_makespan)\n",
    "\n",
    "    return technique(name,opt_makespan_achieved,opt_makespan,gen_num,avg_makespan,gap,run_num)"
   ]
  },
  {
   "cell_type": "code",
   "execution_count": 56,
   "metadata": {
    "scrolled": false
   },
   "outputs": [],
   "source": [
    "objects = []\n",
    "for file_ in files:\n",
    "    df = pd.read_csv(ROOT_DIR+\"/records/\"+file_,skiprows=8)\n",
    "    objects.append(extract_insights(df,file_.replace('csv',\"\")))\n",
    "\n"
   ]
  },
  {
   "cell_type": "code",
   "execution_count": 59,
   "metadata": {},
   "outputs": [
    {
     "data": {
      "text/html": [
       "<div>\n",
       "<style scoped>\n",
       "    .dataframe tbody tr th:only-of-type {\n",
       "        vertical-align: middle;\n",
       "    }\n",
       "\n",
       "    .dataframe tbody tr th {\n",
       "        vertical-align: top;\n",
       "    }\n",
       "\n",
       "    .dataframe thead th {\n",
       "        text-align: right;\n",
       "    }\n",
       "</style>\n",
       "<table border=\"1\" class=\"dataframe\">\n",
       "  <thead>\n",
       "    <tr style=\"text-align: right;\">\n",
       "      <th></th>\n",
       "      <th>Name</th>\n",
       "      <th>opt_makespan_achieved</th>\n",
       "      <th>optimal_makespan</th>\n",
       "      <th>optimal_makespan_gen_num</th>\n",
       "      <th>optimal_makespan_run_number</th>\n",
       "      <th>average_makespan</th>\n",
       "      <th>gap</th>\n",
       "    </tr>\n",
       "  </thead>\n",
       "  <tbody>\n",
       "    <tr>\n",
       "      <th>26</th>\n",
       "      <td>T_DPC2_SM.</td>\n",
       "      <td>False</td>\n",
       "      <td>1178</td>\n",
       "      <td>7000</td>\n",
       "      <td>1</td>\n",
       "      <td>1190</td>\n",
       "      <td>13</td>\n",
       "    </tr>\n",
       "    <tr>\n",
       "      <th>36</th>\n",
       "      <td>T_OC_SM.</td>\n",
       "      <td>False</td>\n",
       "      <td>1174</td>\n",
       "      <td>59000</td>\n",
       "      <td>1</td>\n",
       "      <td>1198</td>\n",
       "      <td>9</td>\n",
       "    </tr>\n",
       "    <tr>\n",
       "      <th>56</th>\n",
       "      <td>T_UC_SM.</td>\n",
       "      <td>True</td>\n",
       "      <td>1165</td>\n",
       "      <td>57000</td>\n",
       "      <td>1</td>\n",
       "      <td>1185</td>\n",
       "      <td>0</td>\n",
       "    </tr>\n",
       "  </tbody>\n",
       "</table>\n",
       "</div>"
      ],
      "text/plain": [
       "          Name  opt_makespan_achieved  optimal_makespan  \\\n",
       "26  T_DPC2_SM.                  False              1178   \n",
       "36    T_OC_SM.                  False              1174   \n",
       "56    T_UC_SM.                   True              1165   \n",
       "\n",
       "    optimal_makespan_gen_num  optimal_makespan_run_number  average_makespan  \\\n",
       "26                      7000                            1              1190   \n",
       "36                     59000                            1              1198   \n",
       "56                     57000                            1              1185   \n",
       "\n",
       "    gap  \n",
       "26   13  \n",
       "36    9  \n",
       "56    0  "
      ]
     },
     "execution_count": 59,
     "metadata": {},
     "output_type": "execute_result"
    }
   ],
   "source": [
    "#Storing objects in dataframe\n",
    "df_comp = pd.DataFrame()\n",
    "index = 0\n",
    "for x in objects:\n",
    "    df_ = pd.DataFrame({'Name':x.name,'opt_makespan_achieved':x.optimal_makespan_achieved,'optimal_makespan':x.optimal_makespan,'optimal_makespan_gen_num':x.optimal_makespan_gen_num,'optimal_makespan_run_number':x.optimal_makespan_run_number,'average_makespan':x.average_makespan,'gap':x.gap},index=[index])\n",
    "    df_comp = pd.concat([df_comp,df_])\n",
    "    index +=1\n",
    "\n",
    "# Applying different thresholds\n",
    "df_comp = df_comp.loc[df_comp['gap']<= 20] \n",
    "df_comp = df_comp.loc[df_comp['optimal_makespan_run_number']<=3]\n",
    "df_comp = df_comp.loc[df_comp['average_makespan']<=1200]\n",
    "df_comp"
   ]
  },
  {
   "cell_type": "code",
   "execution_count": null,
   "metadata": {
    "scrolled": true
   },
   "outputs": [],
   "source": []
  },
  {
   "cell_type": "code",
   "execution_count": null,
   "metadata": {},
   "outputs": [],
   "source": []
  }
 ],
 "metadata": {
  "kernelspec": {
   "display_name": "Python 3",
   "language": "python",
   "name": "python3"
  },
  "language_info": {
   "codemirror_mode": {
    "name": "ipython",
    "version": 3
   },
   "file_extension": ".py",
   "mimetype": "text/x-python",
   "name": "python",
   "nbconvert_exporter": "python",
   "pygments_lexer": "ipython3",
   "version": "3.7.2"
  }
 },
 "nbformat": 4,
 "nbformat_minor": 1
}
