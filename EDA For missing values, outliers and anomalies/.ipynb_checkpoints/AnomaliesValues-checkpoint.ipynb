{
 "cells": [
  {
   "cell_type": "markdown",
   "metadata": {},
   "source": [
    "# Importing Libraries"
   ]
  },
  {
   "cell_type": "code",
   "execution_count": 1,
   "metadata": {},
   "outputs": [],
   "source": [
    "import pandas as pd\n",
    "import numpy as np\n",
    "import datetime\n",
    "\n"
   ]
  },
  {
   "cell_type": "markdown",
   "metadata": {},
   "source": [
    "# Reading Anomaly Data"
   ]
  },
  {
   "cell_type": "code",
   "execution_count": 2,
   "metadata": {},
   "outputs": [
    {
     "data": {
      "text/html": [
       "<div>\n",
       "<style scoped>\n",
       "    .dataframe tbody tr th:only-of-type {\n",
       "        vertical-align: middle;\n",
       "    }\n",
       "\n",
       "    .dataframe tbody tr th {\n",
       "        vertical-align: top;\n",
       "    }\n",
       "\n",
       "    .dataframe thead th {\n",
       "        text-align: right;\n",
       "    }\n",
       "</style>\n",
       "<table border=\"1\" class=\"dataframe\">\n",
       "  <thead>\n",
       "    <tr style=\"text-align: right;\">\n",
       "      <th></th>\n",
       "      <th>order_id</th>\n",
       "      <th>customer_id</th>\n",
       "      <th>date</th>\n",
       "      <th>nearest_warehouse</th>\n",
       "      <th>shopping_cart</th>\n",
       "      <th>order_price</th>\n",
       "      <th>delivery_charges</th>\n",
       "      <th>customer_lat</th>\n",
       "      <th>customer_long</th>\n",
       "      <th>coupon_discount</th>\n",
       "      <th>order_total</th>\n",
       "      <th>season</th>\n",
       "      <th>is_expedited_delivery</th>\n",
       "      <th>distance_to_nearest_warehouse</th>\n",
       "      <th>latest_customer_review</th>\n",
       "      <th>is_happy_customer</th>\n",
       "    </tr>\n",
       "  </thead>\n",
       "  <tbody>\n",
       "    <tr>\n",
       "      <th>0</th>\n",
       "      <td>ORD009240</td>\n",
       "      <td>ID0361797209</td>\n",
       "      <td>06-04-2019</td>\n",
       "      <td>Nickolson</td>\n",
       "      <td>[('Olivia x460', 1), ('Universe Note', 1)]</td>\n",
       "      <td>4675</td>\n",
       "      <td>81.59</td>\n",
       "      <td>-37.807490</td>\n",
       "      <td>144.978630</td>\n",
       "      <td>0</td>\n",
       "      <td>4756.59</td>\n",
       "      <td>Autumn</td>\n",
       "      <td>True</td>\n",
       "      <td>1.4716</td>\n",
       "      <td>five stars works great</td>\n",
       "      <td>True</td>\n",
       "    </tr>\n",
       "    <tr>\n",
       "      <th>1</th>\n",
       "      <td>ORD041093</td>\n",
       "      <td>ID2699585178</td>\n",
       "      <td>2019-10-01</td>\n",
       "      <td>Nickolson</td>\n",
       "      <td>[('Olivia x460', 1), ('pearTV', 2), ('iStream'...</td>\n",
       "      <td>16940</td>\n",
       "      <td>75.97</td>\n",
       "      <td>-37.825884</td>\n",
       "      <td>144.966555</td>\n",
       "      <td>0</td>\n",
       "      <td>18520.97</td>\n",
       "      <td>Spring</td>\n",
       "      <td>False</td>\n",
       "      <td>0.8530</td>\n",
       "      <td>wonderful phone love this phone. the battery l...</td>\n",
       "      <td>True</td>\n",
       "    </tr>\n",
       "    <tr>\n",
       "      <th>2</th>\n",
       "      <td>ORD235705</td>\n",
       "      <td>ID4740822068</td>\n",
       "      <td>2019-07-20</td>\n",
       "      <td>Thompson</td>\n",
       "      <td>[('Thunder line', 1), ('Lucent 330S', 1)]</td>\n",
       "      <td>3410</td>\n",
       "      <td>64.02</td>\n",
       "      <td>-37.803573</td>\n",
       "      <td>144.949700</td>\n",
       "      <td>10</td>\n",
       "      <td>3133.02</td>\n",
       "      <td>Winter</td>\n",
       "      <td>False</td>\n",
       "      <td>1.0391</td>\n",
       "      <td>flexing on the alcons this is a fantastic repl...</td>\n",
       "      <td>True</td>\n",
       "    </tr>\n",
       "    <tr>\n",
       "      <th>3</th>\n",
       "      <td>ORD067571</td>\n",
       "      <td>ID0846591611</td>\n",
       "      <td>2019-07-17</td>\n",
       "      <td>Nickolson</td>\n",
       "      <td>[('iStream', 1), ('Universe Note', 1), ('Alcon...</td>\n",
       "      <td>27810</td>\n",
       "      <td>75.02</td>\n",
       "      <td>-37.822078</td>\n",
       "      <td>144.969508</td>\n",
       "      <td>25</td>\n",
       "      <td>20932.52</td>\n",
       "      <td>spring</td>\n",
       "      <td>True</td>\n",
       "      <td>0.3877</td>\n",
       "      <td>looked brand new for my first alcon purchase i...</td>\n",
       "      <td>True</td>\n",
       "    </tr>\n",
       "    <tr>\n",
       "      <th>4</th>\n",
       "      <td>ORD100738</td>\n",
       "      <td>ID0591432805</td>\n",
       "      <td>2019-05-27</td>\n",
       "      <td>Nickolson</td>\n",
       "      <td>[('Alcon 10', 1), ('pearTV', 1), ('Lucent 330S...</td>\n",
       "      <td>17720</td>\n",
       "      <td>65.13</td>\n",
       "      <td>-37.819440</td>\n",
       "      <td>144.963458</td>\n",
       "      <td>5</td>\n",
       "      <td>16899.13</td>\n",
       "      <td>Autumn</td>\n",
       "      <td>False</td>\n",
       "      <td>0.5440</td>\n",
       "      <td>good phone it's a good basic phone. it dont ha...</td>\n",
       "      <td>True</td>\n",
       "    </tr>\n",
       "    <tr>\n",
       "      <th>...</th>\n",
       "      <td>...</td>\n",
       "      <td>...</td>\n",
       "      <td>...</td>\n",
       "      <td>...</td>\n",
       "      <td>...</td>\n",
       "      <td>...</td>\n",
       "      <td>...</td>\n",
       "      <td>...</td>\n",
       "      <td>...</td>\n",
       "      <td>...</td>\n",
       "      <td>...</td>\n",
       "      <td>...</td>\n",
       "      <td>...</td>\n",
       "      <td>...</td>\n",
       "      <td>...</td>\n",
       "      <td>...</td>\n",
       "    </tr>\n",
       "    <tr>\n",
       "      <th>495</th>\n",
       "      <td>ORD407342</td>\n",
       "      <td>ID0247010191</td>\n",
       "      <td>2019-10-09</td>\n",
       "      <td>Nickolson</td>\n",
       "      <td>[('Universe Note', 1), ('Toshika 750', 2), ('L...</td>\n",
       "      <td>14550</td>\n",
       "      <td>88.81</td>\n",
       "      <td>-37.808916</td>\n",
       "      <td>144.968579</td>\n",
       "      <td>25</td>\n",
       "      <td>11001.31</td>\n",
       "      <td>Spring</td>\n",
       "      <td>True</td>\n",
       "      <td>1.0808</td>\n",
       "      <td>the phone gets warm when you put to charge. so...</td>\n",
       "      <td>False</td>\n",
       "    </tr>\n",
       "    <tr>\n",
       "      <th>496</th>\n",
       "      <td>ORD441050</td>\n",
       "      <td>ID0591320179</td>\n",
       "      <td>2019-26-04</td>\n",
       "      <td>Nickolson</td>\n",
       "      <td>[('Toshika 750', 2), ('Thunder line', 1), ('Lu...</td>\n",
       "      <td>13280</td>\n",
       "      <td>81.02</td>\n",
       "      <td>-37.825388</td>\n",
       "      <td>144.956911</td>\n",
       "      <td>15</td>\n",
       "      <td>11369.02</td>\n",
       "      <td>Autumn</td>\n",
       "      <td>True</td>\n",
       "      <td>1.3443</td>\n",
       "      <td>very nice phone, easy to keep in your hand vs....</td>\n",
       "      <td>True</td>\n",
       "    </tr>\n",
       "    <tr>\n",
       "      <th>497</th>\n",
       "      <td>ORD382307</td>\n",
       "      <td>ID2170946978</td>\n",
       "      <td>2019-02-24</td>\n",
       "      <td>Bakers</td>\n",
       "      <td>[('Alcon 10', 2), ('Olivia x460', 2), ('Univer...</td>\n",
       "      <td>27250</td>\n",
       "      <td>97.75</td>\n",
       "      <td>-37.801799</td>\n",
       "      <td>144.984171</td>\n",
       "      <td>10</td>\n",
       "      <td>24622.75</td>\n",
       "      <td>Summer</td>\n",
       "      <td>True</td>\n",
       "      <td>0.6346</td>\n",
       "      <td>good phone good chicle for the price.</td>\n",
       "      <td>True</td>\n",
       "    </tr>\n",
       "    <tr>\n",
       "      <th>498</th>\n",
       "      <td>ORD457002</td>\n",
       "      <td>ID0758612180</td>\n",
       "      <td>2019-06-17</td>\n",
       "      <td>Thompson</td>\n",
       "      <td>[('pearTV', 1), ('iAssist Line', 2), ('Univers...</td>\n",
       "      <td>14510</td>\n",
       "      <td>64.48</td>\n",
       "      <td>-37.821411</td>\n",
       "      <td>144.945617</td>\n",
       "      <td>0</td>\n",
       "      <td>26641.27</td>\n",
       "      <td>Winter</td>\n",
       "      <td>True</td>\n",
       "      <td>0.9810</td>\n",
       "      <td>no funciona no prende no se prende el cel y es...</td>\n",
       "      <td>False</td>\n",
       "    </tr>\n",
       "    <tr>\n",
       "      <th>499</th>\n",
       "      <td>ORD249683</td>\n",
       "      <td>ID3810637369</td>\n",
       "      <td>2019-08-01</td>\n",
       "      <td>Bakers</td>\n",
       "      <td>[('pearTV', 2), ('Universe Note', 1), ('Toshik...</td>\n",
       "      <td>24710</td>\n",
       "      <td>78.40</td>\n",
       "      <td>-37.821147</td>\n",
       "      <td>144.943288</td>\n",
       "      <td>0</td>\n",
       "      <td>24788.40</td>\n",
       "      <td>Winter</td>\n",
       "      <td>True</td>\n",
       "      <td>1.0002</td>\n",
       "      <td>just what i was looking for! serves it's purpo...</td>\n",
       "      <td>True</td>\n",
       "    </tr>\n",
       "  </tbody>\n",
       "</table>\n",
       "<p>500 rows × 16 columns</p>\n",
       "</div>"
      ],
      "text/plain": [
       "      order_id   customer_id        date nearest_warehouse  \\\n",
       "0    ORD009240  ID0361797209  06-04-2019         Nickolson   \n",
       "1    ORD041093  ID2699585178  2019-10-01         Nickolson   \n",
       "2    ORD235705  ID4740822068  2019-07-20          Thompson   \n",
       "3    ORD067571  ID0846591611  2019-07-17         Nickolson   \n",
       "4    ORD100738  ID0591432805  2019-05-27         Nickolson   \n",
       "..         ...           ...         ...               ...   \n",
       "495  ORD407342  ID0247010191  2019-10-09         Nickolson   \n",
       "496  ORD441050  ID0591320179  2019-26-04         Nickolson   \n",
       "497  ORD382307  ID2170946978  2019-02-24            Bakers   \n",
       "498  ORD457002  ID0758612180  2019-06-17          Thompson   \n",
       "499  ORD249683  ID3810637369  2019-08-01            Bakers   \n",
       "\n",
       "                                         shopping_cart  order_price  \\\n",
       "0           [('Olivia x460', 1), ('Universe Note', 1)]         4675   \n",
       "1    [('Olivia x460', 1), ('pearTV', 2), ('iStream'...        16940   \n",
       "2            [('Thunder line', 1), ('Lucent 330S', 1)]         3410   \n",
       "3    [('iStream', 1), ('Universe Note', 1), ('Alcon...        27810   \n",
       "4    [('Alcon 10', 1), ('pearTV', 1), ('Lucent 330S...        17720   \n",
       "..                                                 ...          ...   \n",
       "495  [('Universe Note', 1), ('Toshika 750', 2), ('L...        14550   \n",
       "496  [('Toshika 750', 2), ('Thunder line', 1), ('Lu...        13280   \n",
       "497  [('Alcon 10', 2), ('Olivia x460', 2), ('Univer...        27250   \n",
       "498  [('pearTV', 1), ('iAssist Line', 2), ('Univers...        14510   \n",
       "499  [('pearTV', 2), ('Universe Note', 1), ('Toshik...        24710   \n",
       "\n",
       "     delivery_charges  customer_lat  customer_long  coupon_discount  \\\n",
       "0               81.59    -37.807490     144.978630                0   \n",
       "1               75.97    -37.825884     144.966555                0   \n",
       "2               64.02    -37.803573     144.949700               10   \n",
       "3               75.02    -37.822078     144.969508               25   \n",
       "4               65.13    -37.819440     144.963458                5   \n",
       "..                ...           ...            ...              ...   \n",
       "495             88.81    -37.808916     144.968579               25   \n",
       "496             81.02    -37.825388     144.956911               15   \n",
       "497             97.75    -37.801799     144.984171               10   \n",
       "498             64.48    -37.821411     144.945617                0   \n",
       "499             78.40    -37.821147     144.943288                0   \n",
       "\n",
       "     order_total  season  is_expedited_delivery  \\\n",
       "0        4756.59  Autumn                   True   \n",
       "1       18520.97  Spring                  False   \n",
       "2        3133.02  Winter                  False   \n",
       "3       20932.52  spring                   True   \n",
       "4       16899.13  Autumn                  False   \n",
       "..           ...     ...                    ...   \n",
       "495     11001.31  Spring                   True   \n",
       "496     11369.02  Autumn                   True   \n",
       "497     24622.75  Summer                   True   \n",
       "498     26641.27  Winter                   True   \n",
       "499     24788.40  Winter                   True   \n",
       "\n",
       "     distance_to_nearest_warehouse  \\\n",
       "0                           1.4716   \n",
       "1                           0.8530   \n",
       "2                           1.0391   \n",
       "3                           0.3877   \n",
       "4                           0.5440   \n",
       "..                             ...   \n",
       "495                         1.0808   \n",
       "496                         1.3443   \n",
       "497                         0.6346   \n",
       "498                         0.9810   \n",
       "499                         1.0002   \n",
       "\n",
       "                                latest_customer_review  is_happy_customer  \n",
       "0                               five stars works great               True  \n",
       "1    wonderful phone love this phone. the battery l...               True  \n",
       "2    flexing on the alcons this is a fantastic repl...               True  \n",
       "3    looked brand new for my first alcon purchase i...               True  \n",
       "4    good phone it's a good basic phone. it dont ha...               True  \n",
       "..                                                 ...                ...  \n",
       "495  the phone gets warm when you put to charge. so...              False  \n",
       "496  very nice phone, easy to keep in your hand vs....               True  \n",
       "497              good phone good chicle for the price.               True  \n",
       "498  no funciona no prende no se prende el cel y es...              False  \n",
       "499  just what i was looking for! serves it's purpo...               True  \n",
       "\n",
       "[500 rows x 16 columns]"
      ]
     },
     "execution_count": 2,
     "metadata": {},
     "output_type": "execute_result"
    }
   ],
   "source": [
    "df  = pd.read_csv('data/AnomalyData.csv',na_filter=np.nan)\n",
    "df\n"
   ]
  },
  {
   "cell_type": "markdown",
   "metadata": {},
   "source": [
    "# Handling Anomalies in Dataset"
   ]
  },
  {
   "cell_type": "markdown",
   "metadata": {},
   "source": [
    "### Checking data type of all features"
   ]
  },
  {
   "cell_type": "code",
   "execution_count": 3,
   "metadata": {},
   "outputs": [
    {
     "name": "stdout",
     "output_type": "stream",
     "text": [
      "<class 'pandas.core.frame.DataFrame'>\n",
      "RangeIndex: 500 entries, 0 to 499\n",
      "Data columns (total 16 columns):\n",
      " #   Column                         Non-Null Count  Dtype  \n",
      "---  ------                         --------------  -----  \n",
      " 0   order_id                       500 non-null    object \n",
      " 1   customer_id                    500 non-null    object \n",
      " 2   date                           500 non-null    object \n",
      " 3   nearest_warehouse              500 non-null    object \n",
      " 4   shopping_cart                  500 non-null    object \n",
      " 5   order_price                    500 non-null    int64  \n",
      " 6   delivery_charges               500 non-null    float64\n",
      " 7   customer_lat                   500 non-null    float64\n",
      " 8   customer_long                  500 non-null    float64\n",
      " 9   coupon_discount                500 non-null    int64  \n",
      " 10  order_total                    500 non-null    float64\n",
      " 11  season                         500 non-null    object \n",
      " 12  is_expedited_delivery          500 non-null    bool   \n",
      " 13  distance_to_nearest_warehouse  500 non-null    float64\n",
      " 14  latest_customer_review         500 non-null    object \n",
      " 15  is_happy_customer              500 non-null    bool   \n",
      "dtypes: bool(2), float64(5), int64(2), object(7)\n",
      "memory usage: 55.8+ KB\n"
     ]
    }
   ],
   "source": [
    "df.info()"
   ]
  },
  {
   "cell_type": "markdown",
   "metadata": {},
   "source": [
    "### First we need to convert date column into \"date-type\""
   ]
  },
  {
   "cell_type": "code",
   "execution_count": 4,
   "metadata": {},
   "outputs": [
    {
     "name": "stdout",
     "output_type": "stream",
     "text": [
      "<class 'pandas.core.frame.DataFrame'>\n",
      "RangeIndex: 500 entries, 0 to 499\n",
      "Data columns (total 16 columns):\n",
      " #   Column                         Non-Null Count  Dtype         \n",
      "---  ------                         --------------  -----         \n",
      " 0   order_id                       500 non-null    object        \n",
      " 1   customer_id                    500 non-null    object        \n",
      " 2   date                           500 non-null    datetime64[ns]\n",
      " 3   nearest_warehouse              500 non-null    object        \n",
      " 4   shopping_cart                  500 non-null    object        \n",
      " 5   order_price                    500 non-null    int64         \n",
      " 6   delivery_charges               500 non-null    float64       \n",
      " 7   customer_lat                   500 non-null    float64       \n",
      " 8   customer_long                  500 non-null    float64       \n",
      " 9   coupon_discount                500 non-null    int64         \n",
      " 10  order_total                    500 non-null    float64       \n",
      " 11  season                         500 non-null    object        \n",
      " 12  is_expedited_delivery          500 non-null    bool          \n",
      " 13  distance_to_nearest_warehouse  500 non-null    float64       \n",
      " 14  latest_customer_review         500 non-null    object        \n",
      " 15  is_happy_customer              500 non-null    bool          \n",
      "dtypes: bool(2), datetime64[ns](1), float64(5), int64(2), object(6)\n",
      "memory usage: 55.8+ KB\n"
     ]
    }
   ],
   "source": [
    "dates = []\n",
    "#2019-28-12\n",
    "for x in range(0,len(df)):\n",
    "    try:\n",
    "        df.at[x,'date'] = pd.to_datetime(df.iloc[x]['date']).date()\n",
    "        \n",
    "    except:\n",
    "        date_string = df.iloc[x]['date']\n",
    "        date_string = date_string.split('-')\n",
    "        new_date = date_string[0]+\"-\"+date_string[2]+\"-\"+date_string[1]\n",
    "        df.at[x,'date'] = pd.to_datetime(new_date).date()\n",
    "\n",
    "                       \n",
    "df['date'] = pd.to_datetime(df['date'])\n",
    "df.info()"
   ]
  },
  {
   "cell_type": "markdown",
   "metadata": {},
   "source": [
    "### Checking order-id & customer-id format\n",
    "\n",
    "### In order-id, the first three chracters should be ORD and all upcoming should be numbers.\n",
    "### In customer-id, the first two chracters should be ID and all upcoming should be numbers."
   ]
  },
  {
   "cell_type": "code",
   "execution_count": 5,
   "metadata": {},
   "outputs": [
    {
     "name": "stdout",
     "output_type": "stream",
     "text": [
      "True True\n"
     ]
    }
   ],
   "source": [
    "flag_order = True\n",
    "flag_customer = True\n",
    "\n",
    "for x in range(0,len(df)):\n",
    "    order_id = df.iloc[x]['order_id']\n",
    "    customer_id = df.iloc[x]['customer_id']\n",
    "    if(order_id[:3]==\"ORD\"):\n",
    "        try:\n",
    "            num = int(order_id[3:])\n",
    "        except:\n",
    "            flag_order = False\n",
    "    else:\n",
    "        flag_order = False\n",
    "    \n",
    "    if(customer_id[:2]==\"ID\"):\n",
    "        try:\n",
    "                num = int(customer_id[2:])\n",
    "        except:\n",
    "                flag_customer = False\n",
    "    else:\n",
    "        flag_customer = False\n",
    "        \n",
    "print(flag_order,flag_customer)"
   ]
  },
  {
   "cell_type": "markdown",
   "metadata": {},
   "source": [
    "### So we have concluded that there is no issue in order-id & customer-id"
   ]
  },
  {
   "cell_type": "markdown",
   "metadata": {},
   "source": [
    "### Checking Nearest Warehouse Values"
   ]
  },
  {
   "cell_type": "code",
   "execution_count": 6,
   "metadata": {},
   "outputs": [
    {
     "data": {
      "text/plain": [
       "array(['Nickolson', 'Thompson', 'Bakers', 'thompson', 'nickolson',\n",
       "       'bakers'], dtype=object)"
      ]
     },
     "execution_count": 6,
     "metadata": {},
     "output_type": "execute_result"
    }
   ],
   "source": [
    "df['nearest_warehouse'].unique()"
   ]
  },
  {
   "cell_type": "markdown",
   "metadata": {},
   "source": [
    "### So there is issue in values. We have to convert all lower-caps values"
   ]
  },
  {
   "cell_type": "code",
   "execution_count": 7,
   "metadata": {},
   "outputs": [],
   "source": [
    "def process_nearest_warehouse(x):\n",
    "    if(x==\"thompson\"):\n",
    "        return \"Thompson\"\n",
    "    elif(x==\"nickolson\"):\n",
    "        return \"Nickolson\"\n",
    "    elif(x==\"bakers\"):\n",
    "        return \"Bakers\"\n",
    "    else:\n",
    "        return x\n",
    "\n",
    "\n",
    "df['nearest_warehouse'] = df['nearest_warehouse'].apply(lambda x:process_nearest_warehouse(x))"
   ]
  },
  {
   "cell_type": "code",
   "execution_count": 8,
   "metadata": {},
   "outputs": [
    {
     "data": {
      "text/plain": [
       "array(['Nickolson', 'Thompson', 'Bakers'], dtype=object)"
      ]
     },
     "execution_count": 8,
     "metadata": {},
     "output_type": "execute_result"
    }
   ],
   "source": [
    "df['nearest_warehouse'].unique()"
   ]
  },
  {
   "cell_type": "markdown",
   "metadata": {},
   "source": [
    "###  Both longitude and latitude are angles measured with the center of the earth as an origin. A longitude is an angle from the prime merdian, measured to the east (longitudes to the west are negative). Latitudes measure an angle up from the equator (latitudes to the south are negative)\n",
    "\n",
    "\n",
    "\n",
    "### Checking Season feature"
   ]
  },
  {
   "cell_type": "code",
   "execution_count": 9,
   "metadata": {},
   "outputs": [
    {
     "data": {
      "text/plain": [
       "array(['Autumn', 'Spring', 'Winter', 'spring', 'Summer', 'autumn',\n",
       "       'winter', 'summer'], dtype=object)"
      ]
     },
     "execution_count": 9,
     "metadata": {},
     "output_type": "execute_result"
    }
   ],
   "source": [
    "df['season'].unique()"
   ]
  },
  {
   "cell_type": "markdown",
   "metadata": {},
   "source": [
    "### So there is issue in values. We have to convert all lower-caps values"
   ]
  },
  {
   "cell_type": "code",
   "execution_count": 10,
   "metadata": {},
   "outputs": [],
   "source": [
    "def process_season(x):\n",
    "    if(x==\"spring\"):\n",
    "        return \"Spring\"\n",
    "    elif(x==\"winter\"):\n",
    "        return \"Winter\"\n",
    "    elif(x==\"summer\"):\n",
    "        return \"Summer\"\n",
    "    elif(x==\"autumn\"):\n",
    "        return \"Autumn\"\n",
    "    else:\n",
    "        return x\n",
    "\n",
    "df['season'] = df['season'].apply(lambda x:process_season(x))\n"
   ]
  },
  {
   "cell_type": "code",
   "execution_count": 11,
   "metadata": {},
   "outputs": [
    {
     "data": {
      "text/plain": [
       "array(['Autumn', 'Spring', 'Winter', 'Summer'], dtype=object)"
      ]
     },
     "execution_count": 11,
     "metadata": {},
     "output_type": "execute_result"
    }
   ],
   "source": [
    "df['season'].unique()"
   ]
  },
  {
   "cell_type": "markdown",
   "metadata": {},
   "source": [
    "### Order-price, Order-total, Delivery-charge,Coupon-discount & Distance to nearest warehouse can never be less than zero\n"
   ]
  },
  {
   "cell_type": "code",
   "execution_count": 12,
   "metadata": {},
   "outputs": [
    {
     "name": "stdout",
     "output_type": "stream",
     "text": [
      "True True True True True\n"
     ]
    }
   ],
   "source": [
    "flag_order_price = True\n",
    "flag_order_total = True\n",
    "flag_deliver = True\n",
    "flag_coupon = True\n",
    "flag_distance = True\n",
    "\n",
    "for x in range(0,len(df)):\n",
    "    if(df.iloc[x]['order_price']<0):\n",
    "        flag_order_price = False\n",
    "    if(df.iloc[x]['order_total']<0):\n",
    "        flag_order_total = False\n",
    "    if(df.iloc[x]['delivery_charges']<0):\n",
    "        flag_deliver = False\n",
    "    if(df.iloc[x]['coupon_discount']<0):\n",
    "        flag_coupon = False\n",
    "    if(df.iloc[x]['distance_to_nearest_warehouse']<0):\n",
    "        flag_coupon = False\n",
    "\n",
    "print(flag_order_price,flag_order_total,flag_deliver,flag_coupon,flag_distance)"
   ]
  },
  {
   "cell_type": "markdown",
   "metadata": {},
   "source": [
    "### Checking expected_delivery & is_happy customer values"
   ]
  },
  {
   "cell_type": "code",
   "execution_count": 13,
   "metadata": {},
   "outputs": [
    {
     "name": "stdout",
     "output_type": "stream",
     "text": [
      "True True\n"
     ]
    }
   ],
   "source": [
    "flag_expected = True\n",
    "flag_happy = True\n",
    "\n",
    "for x in range(0,len(df)):\n",
    "    value_ = df.iloc[x]['is_expedited_delivery']\n",
    "    if(value_!=True and value_!=False):\n",
    "        flag_expected = False\n",
    "    \n",
    "    value_ = df.iloc[x]['is_happy_customer']\n",
    "    if(value_!=True and value_!=False):\n",
    "        flag_happy = False\n",
    "\n",
    "print(flag_expected,flag_expected)"
   ]
  },
  {
   "cell_type": "markdown",
   "metadata": {},
   "source": [
    "### Now its time to save the dataset"
   ]
  },
  {
   "cell_type": "code",
   "execution_count": 15,
   "metadata": {},
   "outputs": [],
   "source": [
    "df.to_csv('Anomaly-output.csv')"
   ]
  },
  {
   "cell_type": "code",
   "execution_count": null,
   "metadata": {},
   "outputs": [],
   "source": []
  }
 ],
 "metadata": {
  "kernelspec": {
   "display_name": "Python 3",
   "language": "python",
   "name": "python3"
  },
  "language_info": {
   "codemirror_mode": {
    "name": "ipython",
    "version": 3
   },
   "file_extension": ".py",
   "mimetype": "text/x-python",
   "name": "python",
   "nbconvert_exporter": "python",
   "pygments_lexer": "ipython3",
   "version": "3.7.2"
  }
 },
 "nbformat": 4,
 "nbformat_minor": 4
}
