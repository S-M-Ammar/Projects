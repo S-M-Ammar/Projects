{
 "cells": [
  {
   "cell_type": "code",
   "execution_count": 41,
   "metadata": {},
   "outputs": [
    {
     "name": "stderr",
     "output_type": "stream",
     "text": [
      "C:\\Users\\S.M.Ammar\\AppData\\Roaming\\Python\\Python37\\site-packages\\ipykernel_launcher.py:12: FutureWarning: Passing a negative integer is deprecated in version 1.0 and will not be supported in future version. Instead, use None to not limit the column width.\n",
      "  if sys.path[0] == '':\n"
     ]
    }
   ],
   "source": [
    "import requests\n",
    "import json\n",
    "import pandas as pd\n",
    "from matplotlib import pyplot as plt\n",
    "import pandasql as ps\n",
    "import numpy as np\n",
    "%matplotlib inline\n",
    "\n",
    "pd.set_option('display.max_rows', 200)\n",
    "pd.set_option('display.max_columns', None)\n",
    "pd.set_option('display.width', None)\n",
    "pd.set_option('display.max_colwidth', -1)"
   ]
  },
  {
   "cell_type": "code",
   "execution_count": 71,
   "metadata": {},
   "outputs": [
    {
     "name": "stdout",
     "output_type": "stream",
     "text": [
      "200\n",
      "Data has been fetch successfully\n"
     ]
    }
   ],
   "source": [
    "# 530 is champions league code\n",
    "# \n",
    "\n",
    "url = \"https://www.api-football.com/demo/v2/fixtures/rounds/530\"\n",
    "response = requests.request(\"GET\", url,headers=headers)\n",
    "print(response.status_code)\n",
    "if(response.status_code == 200):\n",
    "    print(\"Data has been fetch successfully\")\n",
    "else:\n",
    "    print(\"No Data Found !\")\n"
   ]
  },
  {
   "cell_type": "code",
   "execution_count": 72,
   "metadata": {},
   "outputs": [
    {
     "data": {
      "text/plain": [
       "{'api': {'fixtures': ['Preliminary_Round_-_Semi-finals',\n",
       "   'Preliminary_Round_-_Final',\n",
       "   '1st_Qualifying_Round',\n",
       "   '2nd_Qualifying_Round',\n",
       "   '3rd_Qualifying_Round',\n",
       "   'Play-offs',\n",
       "   'Group_Stage_-_1',\n",
       "   'Group_Stage_-_2',\n",
       "   'Group_Stage_-_3',\n",
       "   'Group_Stage_-_4',\n",
       "   'Group_Stage_-_5',\n",
       "   'Group_Stage_-_6'],\n",
       "  'results': 12,\n",
       "  'version': 'v2',\n",
       "  'warning': 'This is a demo and does not represent the entire API. The data is limited and not up to date and serves only as an example. for production environement use : https://api-football-v1.p.rapidapi.com/v2/'}}"
      ]
     },
     "execution_count": 72,
     "metadata": {},
     "output_type": "execute_result"
    }
   ],
   "source": [
    "json_data = json.loads(response.text)\n",
    "json_data "
   ]
  },
  {
   "cell_type": "code",
   "execution_count": null,
   "metadata": {},
   "outputs": [],
   "source": [
    "\n"
   ]
  },
  {
   "cell_type": "code",
   "execution_count": 105,
   "metadata": {},
   "outputs": [
    {
     "name": "stdout",
     "output_type": "stream",
     "text": [
      "200\n",
      "Data has been fetch successfully\n",
      "200\n",
      "Data has been fetch successfully\n"
     ]
    }
   ],
   "source": [
    "# 530 is champions league code\n",
    "# \n",
    "\n",
    "url = \"https://www.api-football.com/demo/v2/fixtures/league/530/3rd_Qualifying_Round\"\n",
    "response = requests.request(\"GET\", url,headers=headers)\n",
    "print(response.status_code)\n",
    "if(response.status_code == 200):\n",
    "    print(\"Data has been fetch successfully\")\n",
    "else:\n",
    "    print(\"No Data Found !\")\n",
    "\n",
    "json_data = json.loads(response.text)\n",
    "json_data = json_data['api']\n",
    "fixture = json_data['fixtures'][1]\n",
    "\n",
    "#///------------------------------------------------//----------------------------------//----------------------\n",
    "\n",
    "url = \"https://www.api-football.com/demo/v2/statistics/fixture/1196\"\n",
    "response = requests.request(\"GET\", url,headers=headers)\n",
    "print(response.status_code)\n",
    "if(response.status_code == 200):\n",
    "    print(\"Data has been fetch successfully\")\n",
    "else:\n",
    "    print(\"No Data Found !\")\n",
    "json_data = json.loads(response.text)\n",
    "json_data = json_data['api']\n",
    "stats = json_data['statistics']"
   ]
  },
  {
   "cell_type": "code",
   "execution_count": 131,
   "metadata": {},
   "outputs": [],
   "source": [
    "df = pd.DataFrame({'League_id':[fixture['league_id']],'Fixture_ID':[fixture['fixture_id']],'Away_ID':[fixture['awayTeam']['team_id']],'Home_ID':[fixture['homeTeam']['team_id']],'First_Half_Start':[fixture['firstHalfStart']],'Second_Half_Start':[fixture['secondHalfStart']],'Away_Team_Name':fixture['awayTeam']['team_name'],'Home_Team_Name':fixture['homeTeam']['team_name'],'Away_Ball_Poss':stats['Ball Possession']['away'],'Home_Ball_Poss':stats['Ball Possession']['home'],'Away_Blocked_Shots':stats['Blocked Shots']['away'],'Home_Blocked_Shots':stats['Blocked Shots']['home'],'Away_Corner_Kicks':stats['Corner Kicks']['away'],'Home_Corner_Kicks':stats['Corner Kicks']['home'],'Away_fouls':stats['Fouls']['away'],'Home_fouls':stats['Fouls']['home'],'Away_Keeper_Saves':stats['Goalkeeper Saves']['away'],'Home_Keeper_Saves':stats['Goalkeeper Saves']['home'],'Away_offsides':stats['Offsides']['away'],'Home_offsides':stats['Offsides']['home'],'Away_Passes_Accurate':stats['Passes accurate']['away'],'Home_Passes_Accurate':stats['Passes accurate']['home'],'Away_Red_Cards':stats['Red Cards']['away'],'home_Red_Cards':stats['Red Cards']['home'],'Away_Shots_InsideBox':stats['Shots insidebox']['away'],'Home_Shots_InsideBox':stats['Shots insidebox']['home'],'Away_shots_OFFGoal':stats['Shots off Goal']['away'],'Home_shots_OFFGoal':stats['Shots off Goal']['home'],'Away_shots_ONGoal':stats['Shots on Goal']['away'],'Home_shots_ONGoal':stats['Shots on Goal']['home'],'Away_shots_OutSideBox':stats['Shots outsidebox']['away'],'Home_shots_OutSideBox':stats['Shots outsidebox']['home'],'Away_Total_Shots':stats['Total Shots']['away'],'Home_Total_Shots':stats['Total Shots']['home'],'Away_Total_Passes':stats['Total passes']['away'],'Home_Total_Passes':stats['Total passes']['home'],'Away_Yellow_Cards':stats['Yellow Cards']['away'],'Home_Yellow_Cards':stats['Yellow Cards']['home'],'Away_Goals':fixture['goalsAwayTeam'],'Home_Goals':fixture['goalsHomeTeam']})\n"
   ]
  },
  {
   "cell_type": "code",
   "execution_count": 84,
   "metadata": {},
   "outputs": [
    {
     "name": "stdout",
     "output_type": "stream",
     "text": [
      "200\n",
      "Data has been fetch successfully\n"
     ]
    },
    {
     "data": {
      "text/plain": [
       "{'results': 16,\n",
       " 'statistics': {'Ball Possession': {'away': '68%', 'home': '32%'},\n",
       "  'Blocked Shots': {'away': '4', 'home': '1'},\n",
       "  'Corner Kicks': {'away': '5', 'home': '0'},\n",
       "  'Fouls': {'away': '13', 'home': '12'},\n",
       "  'Goalkeeper Saves': {'away': '1', 'home': '4'},\n",
       "  'Offsides': {'away': '2', 'home': '2'},\n",
       "  'Passes %': {'away': None, 'home': None},\n",
       "  'Passes accurate': {'away': '481', 'home': '194'},\n",
       "  'Red Cards': {'away': None, 'home': None},\n",
       "  'Shots insidebox': {'away': '6', 'home': '4'},\n",
       "  'Shots off Goal': {'away': '7', 'home': '3'},\n",
       "  'Shots on Goal': {'away': '6', 'home': '3'},\n",
       "  'Shots outsidebox': {'away': '11', 'home': '3'},\n",
       "  'Total Shots': {'away': '17', 'home': '7'},\n",
       "  'Total passes': {'away': '553', 'home': '269'},\n",
       "  'Yellow Cards': {'away': '1', 'home': '1'}},\n",
       " 'version': 'v2',\n",
       " 'warning': 'This is a demo and does not represent the entire API. The data is limited and not up to date and serves only as an example. for production environement use : https://api-football-v1.p.rapidapi.com/v2/'}"
      ]
     },
     "execution_count": 84,
     "metadata": {},
     "output_type": "execute_result"
    }
   ],
   "source": [
    "url = \"https://www.api-football.com/demo/v2/statistics/fixture/1196\"\n",
    "response = requests.request(\"GET\", url,headers=headers)\n",
    "print(response.status_code)\n",
    "if(response.status_code == 200):\n",
    "    print(\"Data has been fetch successfully\")\n",
    "else:\n",
    "    print(\"No Data Found !\")\n",
    "json_data = json.loads(response.text)\n",
    "json_data = json_data['api']\n",
    "json_data"
   ]
  },
  {
   "cell_type": "code",
   "execution_count": 114,
   "metadata": {},
   "outputs": [
    {
     "name": "stdout",
     "output_type": "stream",
     "text": [
      "200\n",
      "Data has been fetch successfully\n"
     ]
    },
    {
     "data": {
      "text/plain": [
       "{'awayTeam': {'logo': 'Not available in demo',\n",
       "  'team_id': 43,\n",
       "  'team_name': 'Ajax'},\n",
       " 'elapsed': 90,\n",
       " 'event_date': '2019-08-06T17:00:00+00:00',\n",
       " 'event_timestamp': 1565110800,\n",
       " 'firstHalfStart': 1565110800,\n",
       " 'fixture_id': 1196,\n",
       " 'goalsAwayTeam': 2,\n",
       " 'goalsHomeTeam': 2,\n",
       " 'homeTeam': {'logo': 'Not available in demo',\n",
       "  'team_id': 112,\n",
       "  'team_name': 'PAOK'},\n",
       " 'league': {'country': 'World',\n",
       "  'flag': 'Not available in demo',\n",
       "  'logo': 'Not available in demo',\n",
       "  'name': 'Champions League'},\n",
       " 'league_id': 530,\n",
       " 'referee': 'Slavko Vincic, Slovenia',\n",
       " 'round': '3rd Qualifying Round',\n",
       " 'score': {'extratime': None,\n",
       "  'fulltime': '2-2',\n",
       "  'halftime': '2-1',\n",
       "  'penalty': None},\n",
       " 'secondHalfStart': 1565114400,\n",
       " 'status': 'Match Finished',\n",
       " 'statusShort': 'FT',\n",
       " 'venue': 'Toumba Stadium, Thessaloniki'}"
      ]
     },
     "execution_count": 114,
     "metadata": {},
     "output_type": "execute_result"
    }
   ],
   "source": [
    "# 530 is champions league code\n",
    "# \n",
    "\n",
    "url = \"https://www.api-football.com/demo/v2/fixtures/league/530/3rd_Qualifying_Round\"\n",
    "response = requests.request(\"GET\", url,headers=headers)\n",
    "print(response.status_code)\n",
    "if(response.status_code == 200):\n",
    "    print(\"Data has been fetch successfully\")\n",
    "else:\n",
    "    print(\"No Data Found !\")\n",
    "\n",
    "json_data = json.loads(response.text)\n",
    "json_data = json_data['api']\n",
    "fixture = json_data['fixtures'][1]\n",
    "fixture"
   ]
  },
  {
   "cell_type": "code",
   "execution_count": 132,
   "metadata": {},
   "outputs": [],
   "source": [
    "df.to_csv('sample-data.csv')"
   ]
  },
  {
   "cell_type": "code",
   "execution_count": null,
   "metadata": {},
   "outputs": [],
   "source": []
  }
 ],
 "metadata": {
  "kernelspec": {
   "display_name": "Python 3",
   "language": "python",
   "name": "python3"
  },
  "language_info": {
   "codemirror_mode": {
    "name": "ipython",
    "version": 3
   },
   "file_extension": ".py",
   "mimetype": "text/x-python",
   "name": "python",
   "nbconvert_exporter": "python",
   "pygments_lexer": "ipython3",
   "version": "3.7.2"
  }
 },
 "nbformat": 4,
 "nbformat_minor": 1
}
