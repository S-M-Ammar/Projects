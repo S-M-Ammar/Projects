{
 "cells": [
  {
   "cell_type": "code",
   "execution_count": 48,
   "metadata": {},
   "outputs": [],
   "source": [
    "import re\n",
    "import sys\n"
   ]
  },
  {
   "cell_type": "code",
   "execution_count": 49,
   "metadata": {},
   "outputs": [],
   "source": [
    "# EMOJI_PATTERN = re.compile(\n",
    "#     \"[\"\n",
    "#     \"\\U0001F1E0-\\U0001F1FF\"  # flags (iOS)\n",
    "#     \"\\U0001F300-\\U0001F5FF\"  # symbols & pictographs\n",
    "#     \"\\U0001F600-\\U0001F64F\"  # emoticons\n",
    "#     \"\\U0001F680-\\U0001F6FF\"  # transport & map symbols\n",
    "#     \"\\U0001F700-\\U0001F77F\"  # alchemical symbols\n",
    "#     \"\\U0001F780-\\U0001F7FF\"  # Geometric Shapes Extended\n",
    "#     \"\\U0001F800-\\U0001F8FF\"  # Supplemental Arrows-C\n",
    "#     \"\\U0001F900-\\U0001F9FF\"  # Supplemental Symbols and Pictographs\n",
    "#     \"\\U0001FA00-\\U0001FA6F\"  # Chess Symbols\n",
    "#     \"\\U0001FA70-\\U0001FAFF\"  # Symbols and Pictographs Extended-A\n",
    "#     \"\\U00002702-\\U000027B0\"  # Dingbats\n",
    "#     \"\\U000024C2-\\U0001F251\" \n",
    "#     \"]+\"\n",
    "# )"
   ]
  },
  {
   "cell_type": "code",
   "execution_count": 50,
   "metadata": {},
   "outputs": [],
   "source": [
    "input_list =['input1.txt','input2.txt','input3.txt','input4.txt','input5.txt','input5.txt']"
   ]
  },
  {
   "cell_type": "code",
   "execution_count": 51,
   "metadata": {},
   "outputs": [
    {
     "data": {
      "text/plain": [
       "'\\ufeffHello how are you ? I am fine👍. Have a 😆. Just doing fun 😅🤣🤣😂😆 !!!.'"
      ]
     },
     "execution_count": 51,
     "metadata": {},
     "output_type": "execute_result"
    }
   ],
   "source": [
    "file1 = open('test.txt','r',encoding='utf-8')\n",
    "text = file1.read()\n",
    "text"
   ]
  },
  {
   "cell_type": "code",
   "execution_count": 52,
   "metadata": {},
   "outputs": [
    {
     "name": "stdout",
     "output_type": "stream",
     "text": [
      "👍\n",
      "😆\n",
      "😅\n",
      "🤣\n",
      "🤣\n",
      "😂\n",
      "😆\n"
     ]
    }
   ],
   "source": [
    "RE_EMOJI = re.findall('[\\U00010000-\\U0010ffff]',string=text,flags=re.UNICODE)\n",
    "for x in RE_EMOJI:\n",
    "        print(x)"
   ]
  },
  {
   "cell_type": "code",
   "execution_count": 56,
   "metadata": {},
   "outputs": [
    {
     "data": {
      "text/plain": [
       "{1: ['👍', 30]}"
      ]
     },
     "execution_count": 56,
     "metadata": {},
     "output_type": "execute_result"
    }
   ],
   "source": [
    "save_tweet_emojis ={}\n",
    "\n",
    "\n",
    "#save_tweet_emojis[1] = [(emoji,index),(emoji,index)]\n",
    "save_tweet_emojis[1]  = [RE_EMOJI[0],text.index(RE_EMOJI[0])]\n",
    "save_tweet_emojis"
   ]
  },
  {
   "cell_type": "code",
   "execution_count": 47,
   "metadata": {},
   "outputs": [],
   "source": [
    "with open('out.xml','w',encoding='utf-8-sig') as f:\n",
    "    f.write(\"<?xml version=\"+'\"'+\"1.0\"+'\"?>')\n",
    "    f.write(\"<data>\")\n",
    "    f.write(  \"<tweet id=\"+'\"'+RE_EMOJI[0]+'\"> There is emoji in id')#2 spaces\n",
    "    f.write(  \"</tweet>\")\n",
    "    f.write(\"</data>\")"
   ]
  },
  {
   "cell_type": "code",
   "execution_count": null,
   "metadata": {},
   "outputs": [],
   "source": []
  },
  {
   "cell_type": "code",
   "execution_count": 35,
   "metadata": {},
   "outputs": [],
   "source": [
    "# for x in input_list:\n",
    "#     file1 = open(x,'r',encoding='utf-8')\n",
    "#     text = file1.read()\n",
    "#     RE_EMOJI = re.findall('[\\U00010000-\\U0010ffff]',string=text,flags=re.UNICODE)\n",
    "#     for y in RE_EMOJI:\n",
    "#         print(y)"
   ]
  },
  {
   "cell_type": "code",
   "execution_count": 36,
   "metadata": {},
   "outputs": [],
   "source": []
  },
  {
   "cell_type": "code",
   "execution_count": null,
   "metadata": {},
   "outputs": [],
   "source": []
  }
 ],
 "metadata": {
  "kernelspec": {
   "display_name": "Python 3",
   "language": "python",
   "name": "python3"
  },
  "language_info": {
   "codemirror_mode": {
    "name": "ipython",
    "version": 3
   },
   "file_extension": ".py",
   "mimetype": "text/x-python",
   "name": "python",
   "nbconvert_exporter": "python",
   "pygments_lexer": "ipython3",
   "version": "3.7.2"
  }
 },
 "nbformat": 4,
 "nbformat_minor": 1
}
