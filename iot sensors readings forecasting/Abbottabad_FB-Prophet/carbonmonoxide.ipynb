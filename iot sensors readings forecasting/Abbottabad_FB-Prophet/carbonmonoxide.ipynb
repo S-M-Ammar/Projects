{
  "nbformat": 4,
  "nbformat_minor": 0,
  "metadata": {
    "colab": {
      "name": "carbonmonoxide.ipynb",
      "provenance": [],
      "collapsed_sections": []
    },
    "kernelspec": {
      "name": "python3",
      "display_name": "Python 3"
    },
    "language_info": {
      "name": "python"
    }
  },
  "cells": [
    {
      "cell_type": "code",
      "metadata": {
        "id": "0_pDud-Ka4oy"
      },
      "source": [
        "import fbprophet\n",
        "import pandas as pd\n",
        "import matplotlib.pyplot as plt\n",
        "%matplotlib inline"
      ],
      "execution_count": 1,
      "outputs": []
    },
    {
      "cell_type": "code",
      "metadata": {
        "colab": {
          "base_uri": "https://localhost:8080/",
          "height": 419
        },
        "id": "smDgosRobNoB",
        "outputId": "99f2b847-7a0e-464f-b0e9-44a26b0154cb"
      },
      "source": [
        "df = pd.read_excel(\"/content/carbon monoxide.xlsx\")\n",
        "df = df[['Sensor Value']]\n",
        "df"
      ],
      "execution_count": 2,
      "outputs": [
        {
          "output_type": "execute_result",
          "data": {
            "text/html": [
              "<div>\n",
              "<style scoped>\n",
              "    .dataframe tbody tr th:only-of-type {\n",
              "        vertical-align: middle;\n",
              "    }\n",
              "\n",
              "    .dataframe tbody tr th {\n",
              "        vertical-align: top;\n",
              "    }\n",
              "\n",
              "    .dataframe thead th {\n",
              "        text-align: right;\n",
              "    }\n",
              "</style>\n",
              "<table border=\"1\" class=\"dataframe\">\n",
              "  <thead>\n",
              "    <tr style=\"text-align: right;\">\n",
              "      <th></th>\n",
              "      <th>Sensor Value</th>\n",
              "    </tr>\n",
              "  </thead>\n",
              "  <tbody>\n",
              "    <tr>\n",
              "      <th>0</th>\n",
              "      <td>637</td>\n",
              "    </tr>\n",
              "    <tr>\n",
              "      <th>1</th>\n",
              "      <td>637</td>\n",
              "    </tr>\n",
              "    <tr>\n",
              "      <th>2</th>\n",
              "      <td>634</td>\n",
              "    </tr>\n",
              "    <tr>\n",
              "      <th>3</th>\n",
              "      <td>637</td>\n",
              "    </tr>\n",
              "    <tr>\n",
              "      <th>4</th>\n",
              "      <td>631</td>\n",
              "    </tr>\n",
              "    <tr>\n",
              "      <th>...</th>\n",
              "      <td>...</td>\n",
              "    </tr>\n",
              "    <tr>\n",
              "      <th>1018</th>\n",
              "      <td>835</td>\n",
              "    </tr>\n",
              "    <tr>\n",
              "      <th>1019</th>\n",
              "      <td>835</td>\n",
              "    </tr>\n",
              "    <tr>\n",
              "      <th>1020</th>\n",
              "      <td>831</td>\n",
              "    </tr>\n",
              "    <tr>\n",
              "      <th>1021</th>\n",
              "      <td>831</td>\n",
              "    </tr>\n",
              "    <tr>\n",
              "      <th>1022</th>\n",
              "      <td>831</td>\n",
              "    </tr>\n",
              "  </tbody>\n",
              "</table>\n",
              "<p>1023 rows × 1 columns</p>\n",
              "</div>"
            ],
            "text/plain": [
              "      Sensor Value\n",
              "0              637\n",
              "1              637\n",
              "2              634\n",
              "3              637\n",
              "4              631\n",
              "...            ...\n",
              "1018           835\n",
              "1019           835\n",
              "1020           831\n",
              "1021           831\n",
              "1022           831\n",
              "\n",
              "[1023 rows x 1 columns]"
            ]
          },
          "metadata": {
            "tags": []
          },
          "execution_count": 2
        }
      ]
    },
    {
      "cell_type": "code",
      "metadata": {
        "colab": {
          "base_uri": "https://localhost:8080/",
          "height": 419
        },
        "id": "DIjf7Xn7bTdB",
        "outputId": "9f0e403e-2a2e-4b02-99e4-24d1d0755e0b"
      },
      "source": [
        "Days = pd.date_range(start=\"2017-09-07\",end=\"2020-06-25\")\n",
        "dataframe = pd.DataFrame()\n",
        "dataframe['ds'] = Days\n",
        "dataframe['ds'] = dataframe['ds'].dt.date\n",
        "dataframe['y'] = df[['Sensor Value']]\n",
        "dataframe"
      ],
      "execution_count": null,
      "outputs": [
        {
          "output_type": "execute_result",
          "data": {
            "text/html": [
              "<div>\n",
              "<style scoped>\n",
              "    .dataframe tbody tr th:only-of-type {\n",
              "        vertical-align: middle;\n",
              "    }\n",
              "\n",
              "    .dataframe tbody tr th {\n",
              "        vertical-align: top;\n",
              "    }\n",
              "\n",
              "    .dataframe thead th {\n",
              "        text-align: right;\n",
              "    }\n",
              "</style>\n",
              "<table border=\"1\" class=\"dataframe\">\n",
              "  <thead>\n",
              "    <tr style=\"text-align: right;\">\n",
              "      <th></th>\n",
              "      <th>ds</th>\n",
              "      <th>y</th>\n",
              "    </tr>\n",
              "  </thead>\n",
              "  <tbody>\n",
              "    <tr>\n",
              "      <th>0</th>\n",
              "      <td>2017-09-07</td>\n",
              "      <td>637</td>\n",
              "    </tr>\n",
              "    <tr>\n",
              "      <th>1</th>\n",
              "      <td>2017-09-08</td>\n",
              "      <td>637</td>\n",
              "    </tr>\n",
              "    <tr>\n",
              "      <th>2</th>\n",
              "      <td>2017-09-09</td>\n",
              "      <td>634</td>\n",
              "    </tr>\n",
              "    <tr>\n",
              "      <th>3</th>\n",
              "      <td>2017-09-10</td>\n",
              "      <td>637</td>\n",
              "    </tr>\n",
              "    <tr>\n",
              "      <th>4</th>\n",
              "      <td>2017-09-11</td>\n",
              "      <td>631</td>\n",
              "    </tr>\n",
              "    <tr>\n",
              "      <th>...</th>\n",
              "      <td>...</td>\n",
              "      <td>...</td>\n",
              "    </tr>\n",
              "    <tr>\n",
              "      <th>1018</th>\n",
              "      <td>2020-06-21</td>\n",
              "      <td>835</td>\n",
              "    </tr>\n",
              "    <tr>\n",
              "      <th>1019</th>\n",
              "      <td>2020-06-22</td>\n",
              "      <td>835</td>\n",
              "    </tr>\n",
              "    <tr>\n",
              "      <th>1020</th>\n",
              "      <td>2020-06-23</td>\n",
              "      <td>831</td>\n",
              "    </tr>\n",
              "    <tr>\n",
              "      <th>1021</th>\n",
              "      <td>2020-06-24</td>\n",
              "      <td>831</td>\n",
              "    </tr>\n",
              "    <tr>\n",
              "      <th>1022</th>\n",
              "      <td>2020-06-25</td>\n",
              "      <td>831</td>\n",
              "    </tr>\n",
              "  </tbody>\n",
              "</table>\n",
              "<p>1023 rows × 2 columns</p>\n",
              "</div>"
            ],
            "text/plain": [
              "              ds    y\n",
              "0     2017-09-07  637\n",
              "1     2017-09-08  637\n",
              "2     2017-09-09  634\n",
              "3     2017-09-10  637\n",
              "4     2017-09-11  631\n",
              "...          ...  ...\n",
              "1018  2020-06-21  835\n",
              "1019  2020-06-22  835\n",
              "1020  2020-06-23  831\n",
              "1021  2020-06-24  831\n",
              "1022  2020-06-25  831\n",
              "\n",
              "[1023 rows x 2 columns]"
            ]
          },
          "metadata": {
            "tags": []
          },
          "execution_count": 4
        }
      ]
    },
    {
      "cell_type": "code",
      "metadata": {
        "colab": {
          "base_uri": "https://localhost:8080/",
          "height": 283
        },
        "id": "h_ZbO8iVbTfW",
        "outputId": "c5fed35d-be6f-452a-81cb-8a1b27c363b6"
      },
      "source": [
        "dataframe.plot()"
      ],
      "execution_count": null,
      "outputs": [
        {
          "output_type": "execute_result",
          "data": {
            "text/plain": [
              "<matplotlib.axes._subplots.AxesSubplot at 0x7fc56c61e390>"
            ]
          },
          "metadata": {
            "tags": []
          },
          "execution_count": 5
        },
        {
          "output_type": "display_data",
          "data": {
            "image/png": "[encoded data removed]",
            "text/plain": [
              "<Figure size 432x288 with 1 Axes>"
            ]
          },
          "metadata": {
            "tags": [],
            "needs_background": "light"
          }
        }
      ]
    },
    {
      "cell_type": "code",
      "metadata": {
        "id": "2STLM0DMbTh3"
      },
      "source": [
        "from fbprophet import Prophet\n",
        "size = (70/100) * len(dataframe)\n",
        "train = dataframe[0:int(size)]\n",
        "test = dataframe[int(size):]\n",
        "model = Prophet()"
      ],
      "execution_count": null,
      "outputs": []
    },
    {
      "cell_type": "code",
      "metadata": {
        "colab": {
          "base_uri": "https://localhost:8080/"
        },
        "id": "KR5E3-2JbTkH",
        "outputId": "b4cb991f-057b-44f4-e295-b62183064058"
      },
      "source": [
        "model.fit(train)"
      ],
      "execution_count": null,
      "outputs": [
        {
          "output_type": "stream",
          "text": [
            "INFO:fbprophet:Disabling yearly seasonality. Run prophet with yearly_seasonality=True to override this.\n",
            "INFO:fbprophet:Disabling daily seasonality. Run prophet with daily_seasonality=True to override this.\n"
          ],
          "name": "stderr"
        },
        {
          "output_type": "execute_result",
          "data": {
            "text/plain": [
              "<fbprophet.forecaster.Prophet at 0x7fc572ccac90>"
            ]
          },
          "metadata": {
            "tags": []
          },
          "execution_count": 22
        }
      ]
    },
    {
      "cell_type": "code",
      "metadata": {
        "colab": {
          "base_uri": "https://localhost:8080/"
        },
        "id": "ehu6Psn-bTmR",
        "outputId": "0f379a75-5631-49c5-9adf-456e0093bf81"
      },
      "source": [
        "model.component_modes"
      ],
      "execution_count": null,
      "outputs": [
        {
          "output_type": "execute_result",
          "data": {
            "text/plain": [
              "{'additive': ['weekly',\n",
              "  'additive_terms',\n",
              "  'extra_regressors_additive',\n",
              "  'holidays'],\n",
              " 'multiplicative': ['multiplicative_terms', 'extra_regressors_multiplicative']}"
            ]
          },
          "metadata": {
            "tags": []
          },
          "execution_count": 23
        }
      ]
    },
    {
      "cell_type": "code",
      "metadata": {
        "colab": {
          "base_uri": "https://localhost:8080/",
          "height": 609
        },
        "id": "4ATKdfcvbToS",
        "outputId": "7f456bec-6882-4263-9662-b905eca88c66"
      },
      "source": [
        "futureDates = model.make_future_dataframe(periods=len(test))\n",
        "predictions = model.predict(futureDates)\n",
        "predictions = predictions.tail(len(test))\n",
        "predictions"
      ],
      "execution_count": null,
      "outputs": [
        {
          "output_type": "execute_result",
          "data": {
            "text/html": [
              "<div>\n",
              "<style scoped>\n",
              "    .dataframe tbody tr th:only-of-type {\n",
              "        vertical-align: middle;\n",
              "    }\n",
              "\n",
              "    .dataframe tbody tr th {\n",
              "        vertical-align: top;\n",
              "    }\n",
              "\n",
              "    .dataframe thead th {\n",
              "        text-align: right;\n",
              "    }\n",
              "</style>\n",
              "<table border=\"1\" class=\"dataframe\">\n",
              "  <thead>\n",
              "    <tr style=\"text-align: right;\">\n",
              "      <th></th>\n",
              "      <th>ds</th>\n",
              "      <th>trend</th>\n",
              "      <th>yhat_lower</th>\n",
              "      <th>yhat_upper</th>\n",
              "      <th>trend_lower</th>\n",
              "      <th>trend_upper</th>\n",
              "      <th>additive_terms</th>\n",
              "      <th>additive_terms_lower</th>\n",
              "      <th>additive_terms_upper</th>\n",
              "      <th>weekly</th>\n",
              "      <th>weekly_lower</th>\n",
              "      <th>weekly_upper</th>\n",
              "      <th>multiplicative_terms</th>\n",
              "      <th>multiplicative_terms_lower</th>\n",
              "      <th>multiplicative_terms_upper</th>\n",
              "      <th>yhat</th>\n",
              "    </tr>\n",
              "  </thead>\n",
              "  <tbody>\n",
              "    <tr>\n",
              "      <th>716</th>\n",
              "      <td>2019-08-24</td>\n",
              "      <td>481.047879</td>\n",
              "      <td>346.395790</td>\n",
              "      <td>611.917434</td>\n",
              "      <td>481.047879</td>\n",
              "      <td>481.047879</td>\n",
              "      <td>-0.551129</td>\n",
              "      <td>-0.551129</td>\n",
              "      <td>-0.551129</td>\n",
              "      <td>-0.551129</td>\n",
              "      <td>-0.551129</td>\n",
              "      <td>-0.551129</td>\n",
              "      <td>0.0</td>\n",
              "      <td>0.0</td>\n",
              "      <td>0.0</td>\n",
              "      <td>480.496750</td>\n",
              "    </tr>\n",
              "    <tr>\n",
              "      <th>717</th>\n",
              "      <td>2019-08-25</td>\n",
              "      <td>480.745950</td>\n",
              "      <td>357.815791</td>\n",
              "      <td>626.260070</td>\n",
              "      <td>480.745950</td>\n",
              "      <td>480.745950</td>\n",
              "      <td>3.978495</td>\n",
              "      <td>3.978495</td>\n",
              "      <td>3.978495</td>\n",
              "      <td>3.978495</td>\n",
              "      <td>3.978495</td>\n",
              "      <td>3.978495</td>\n",
              "      <td>0.0</td>\n",
              "      <td>0.0</td>\n",
              "      <td>0.0</td>\n",
              "      <td>484.724444</td>\n",
              "    </tr>\n",
              "    <tr>\n",
              "      <th>718</th>\n",
              "      <td>2019-08-26</td>\n",
              "      <td>480.444021</td>\n",
              "      <td>365.073453</td>\n",
              "      <td>616.586382</td>\n",
              "      <td>480.444021</td>\n",
              "      <td>480.444021</td>\n",
              "      <td>0.664422</td>\n",
              "      <td>0.664422</td>\n",
              "      <td>0.664422</td>\n",
              "      <td>0.664422</td>\n",
              "      <td>0.664422</td>\n",
              "      <td>0.664422</td>\n",
              "      <td>0.0</td>\n",
              "      <td>0.0</td>\n",
              "      <td>0.0</td>\n",
              "      <td>481.108442</td>\n",
              "    </tr>\n",
              "    <tr>\n",
              "      <th>719</th>\n",
              "      <td>2019-08-27</td>\n",
              "      <td>480.142092</td>\n",
              "      <td>351.416493</td>\n",
              "      <td>614.371926</td>\n",
              "      <td>480.142092</td>\n",
              "      <td>480.142092</td>\n",
              "      <td>2.530982</td>\n",
              "      <td>2.530982</td>\n",
              "      <td>2.530982</td>\n",
              "      <td>2.530982</td>\n",
              "      <td>2.530982</td>\n",
              "      <td>2.530982</td>\n",
              "      <td>0.0</td>\n",
              "      <td>0.0</td>\n",
              "      <td>0.0</td>\n",
              "      <td>482.673074</td>\n",
              "    </tr>\n",
              "    <tr>\n",
              "      <th>720</th>\n",
              "      <td>2019-08-28</td>\n",
              "      <td>479.840163</td>\n",
              "      <td>339.589057</td>\n",
              "      <td>613.456883</td>\n",
              "      <td>479.840163</td>\n",
              "      <td>479.840163</td>\n",
              "      <td>-0.148472</td>\n",
              "      <td>-0.148472</td>\n",
              "      <td>-0.148472</td>\n",
              "      <td>-0.148472</td>\n",
              "      <td>-0.148472</td>\n",
              "      <td>-0.148472</td>\n",
              "      <td>0.0</td>\n",
              "      <td>0.0</td>\n",
              "      <td>0.0</td>\n",
              "      <td>479.691691</td>\n",
              "    </tr>\n",
              "    <tr>\n",
              "      <th>...</th>\n",
              "      <td>...</td>\n",
              "      <td>...</td>\n",
              "      <td>...</td>\n",
              "      <td>...</td>\n",
              "      <td>...</td>\n",
              "      <td>...</td>\n",
              "      <td>...</td>\n",
              "      <td>...</td>\n",
              "      <td>...</td>\n",
              "      <td>...</td>\n",
              "      <td>...</td>\n",
              "      <td>...</td>\n",
              "      <td>...</td>\n",
              "      <td>...</td>\n",
              "      <td>...</td>\n",
              "      <td>...</td>\n",
              "    </tr>\n",
              "    <tr>\n",
              "      <th>1018</th>\n",
              "      <td>2020-06-21</td>\n",
              "      <td>389.865342</td>\n",
              "      <td>146.537686</td>\n",
              "      <td>641.423677</td>\n",
              "      <td>187.271726</td>\n",
              "      <td>591.722625</td>\n",
              "      <td>3.978495</td>\n",
              "      <td>3.978495</td>\n",
              "      <td>3.978495</td>\n",
              "      <td>3.978495</td>\n",
              "      <td>3.978495</td>\n",
              "      <td>3.978495</td>\n",
              "      <td>0.0</td>\n",
              "      <td>0.0</td>\n",
              "      <td>0.0</td>\n",
              "      <td>393.843837</td>\n",
              "    </tr>\n",
              "    <tr>\n",
              "      <th>1019</th>\n",
              "      <td>2020-06-22</td>\n",
              "      <td>389.563413</td>\n",
              "      <td>153.388885</td>\n",
              "      <td>626.360791</td>\n",
              "      <td>185.538836</td>\n",
              "      <td>592.445454</td>\n",
              "      <td>0.664422</td>\n",
              "      <td>0.664422</td>\n",
              "      <td>0.664422</td>\n",
              "      <td>0.664422</td>\n",
              "      <td>0.664422</td>\n",
              "      <td>0.664422</td>\n",
              "      <td>0.0</td>\n",
              "      <td>0.0</td>\n",
              "      <td>0.0</td>\n",
              "      <td>390.227835</td>\n",
              "    </tr>\n",
              "    <tr>\n",
              "      <th>1020</th>\n",
              "      <td>2020-06-23</td>\n",
              "      <td>389.261484</td>\n",
              "      <td>155.199021</td>\n",
              "      <td>635.703124</td>\n",
              "      <td>184.875051</td>\n",
              "      <td>593.053751</td>\n",
              "      <td>2.530982</td>\n",
              "      <td>2.530982</td>\n",
              "      <td>2.530982</td>\n",
              "      <td>2.530982</td>\n",
              "      <td>2.530982</td>\n",
              "      <td>2.530982</td>\n",
              "      <td>0.0</td>\n",
              "      <td>0.0</td>\n",
              "      <td>0.0</td>\n",
              "      <td>391.792466</td>\n",
              "    </tr>\n",
              "    <tr>\n",
              "      <th>1021</th>\n",
              "      <td>2020-06-24</td>\n",
              "      <td>388.959555</td>\n",
              "      <td>144.407560</td>\n",
              "      <td>642.908168</td>\n",
              "      <td>184.149532</td>\n",
              "      <td>593.775613</td>\n",
              "      <td>-0.148472</td>\n",
              "      <td>-0.148472</td>\n",
              "      <td>-0.148472</td>\n",
              "      <td>-0.148472</td>\n",
              "      <td>-0.148472</td>\n",
              "      <td>-0.148472</td>\n",
              "      <td>0.0</td>\n",
              "      <td>0.0</td>\n",
              "      <td>0.0</td>\n",
              "      <td>388.811083</td>\n",
              "    </tr>\n",
              "    <tr>\n",
              "      <th>1022</th>\n",
              "      <td>2020-06-25</td>\n",
              "      <td>388.657626</td>\n",
              "      <td>146.078408</td>\n",
              "      <td>646.796105</td>\n",
              "      <td>182.632651</td>\n",
              "      <td>594.339892</td>\n",
              "      <td>-3.115577</td>\n",
              "      <td>-3.115577</td>\n",
              "      <td>-3.115577</td>\n",
              "      <td>-3.115577</td>\n",
              "      <td>-3.115577</td>\n",
              "      <td>-3.115577</td>\n",
              "      <td>0.0</td>\n",
              "      <td>0.0</td>\n",
              "      <td>0.0</td>\n",
              "      <td>385.542049</td>\n",
              "    </tr>\n",
              "  </tbody>\n",
              "</table>\n",
              "<p>307 rows × 16 columns</p>\n",
              "</div>"
            ],
            "text/plain": [
              "             ds       trend  ...  multiplicative_terms_upper        yhat\n",
              "716  2019-08-24  481.047879  ...                         0.0  480.496750\n",
              "717  2019-08-25  480.745950  ...                         0.0  484.724444\n",
              "718  2019-08-26  480.444021  ...                         0.0  481.108442\n",
              "719  2019-08-27  480.142092  ...                         0.0  482.673074\n",
              "720  2019-08-28  479.840163  ...                         0.0  479.691691\n",
              "...         ...         ...  ...                         ...         ...\n",
              "1018 2020-06-21  389.865342  ...                         0.0  393.843837\n",
              "1019 2020-06-22  389.563413  ...                         0.0  390.227835\n",
              "1020 2020-06-23  389.261484  ...                         0.0  391.792466\n",
              "1021 2020-06-24  388.959555  ...                         0.0  388.811083\n",
              "1022 2020-06-25  388.657626  ...                         0.0  385.542049\n",
              "\n",
              "[307 rows x 16 columns]"
            ]
          },
          "metadata": {
            "tags": []
          },
          "execution_count": 24
        }
      ]
    },
    {
      "cell_type": "code",
      "metadata": {
        "colab": {
          "base_uri": "https://localhost:8080/"
        },
        "id": "Rg9ExiI0bTqT",
        "outputId": "bc57cdab-b5c4-4566-e19d-4f3a2e94288a"
      },
      "source": [
        "from sklearn.metrics import mean_squared_error\n",
        "mse = mean_squared_error(test[['y']],predictions[['yhat']])\n",
        "mse"
      ],
      "execution_count": null,
      "outputs": [
        {
          "output_type": "execute_result",
          "data": {
            "text/plain": [
              "96212.9823105947"
            ]
          },
          "metadata": {
            "tags": []
          },
          "execution_count": 25
        }
      ]
    },
    {
      "cell_type": "code",
      "metadata": {
        "id": "s3vq7BVjcSfs"
      },
      "source": [
        "import pickle\n",
        "import pickle\n",
        "with open('/content/carbonmonoxide_model_fbprohpet.pkl', 'wb') as fid:\n",
        "    pickle.dump(model, fid)"
      ],
      "execution_count": null,
      "outputs": []
    },
    {
      "cell_type": "code",
      "metadata": {
        "id": "6-oq8GhkbTtn"
      },
      "source": [
        "preds = predictions['yhat'].tolist()"
      ],
      "execution_count": null,
      "outputs": []
    },
    {
      "cell_type": "code",
      "metadata": {
        "id": "3dlvpkH-OGXD"
      },
      "source": [
        "forecasting={\n",
        "    \n",
        "    'Day-1':preds[0],\n",
        "    'Day-2':preds[1],\n",
        "    'Day-3':preds[2],\n",
        "    'Day-4':preds[3],\n",
        "    'Day-5':preds[4],\n",
        "    'Day-6':preds[5],\n",
        "    'Day-7':preds[6],\n",
        "    'MSE': mse\n",
        "}"
      ],
      "execution_count": null,
      "outputs": []
    },
    {
      "cell_type": "code",
      "metadata": {
        "id": "va2dDWo4OKTs"
      },
      "source": [
        "import firebase_admin\n",
        "from firebase_admin import credentials\n",
        "from firebase_admin import db\n",
        "cred = credentials.Certificate(\"../config/sensors-forecasting-fc27d-firebase-adminsdk-krgvi-403182645e.json\")\n",
        "firebase_admin.initialize_app(cred,{'databaseURL':'https://sensors-forecasting-fc27d-default-rtdb.firebaseio.com/'})\n",
        "ref = db.reference(\"/Models/fbProphet\")\n",
        "upload_ref = ref.child('Carbonmonoxide')\n",
        "upload_ref.update(forecasting)"
      ],
      "execution_count": null,
      "outputs": []
    }
  ]
}