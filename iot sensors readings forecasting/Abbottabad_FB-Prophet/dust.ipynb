{
  "nbformat": 4,
  "nbformat_minor": 0,
  "metadata": {
    "colab": {
      "name": "dust.ipynb",
      "provenance": []
    },
    "kernelspec": {
      "name": "python3",
      "display_name": "Python 3"
    },
    "language_info": {
      "name": "python"
    }
  },
  "cells": [
    {
      "cell_type": "code",
      "metadata": {
        "id": "4F0xXDO7UkyS"
      },
      "source": [
        "import fbprophet\n",
        "import pandas as pd\n",
        "import matplotlib.pyplot as plt\n",
        "%matplotlib inline"
      ],
      "execution_count": 1,
      "outputs": []
    },
    {
      "cell_type": "code",
      "metadata": {
        "colab": {
          "base_uri": "https://localhost:8080/",
          "height": 419
        },
        "id": "ajU7_Ew3U7Ke",
        "outputId": "fc6cd76f-df45-4462-e18d-e766f58baf14"
      },
      "source": [
        "df = pd.read_excel(\"/content/dust.xlsx\")\n",
        "df = df[['Sensor Value']]\n",
        "df"
      ],
      "execution_count": 3,
      "outputs": [
        {
          "output_type": "execute_result",
          "data": {
            "text/html": [
              "<div>\n",
              "<style scoped>\n",
              "    .dataframe tbody tr th:only-of-type {\n",
              "        vertical-align: middle;\n",
              "    }\n",
              "\n",
              "    .dataframe tbody tr th {\n",
              "        vertical-align: top;\n",
              "    }\n",
              "\n",
              "    .dataframe thead th {\n",
              "        text-align: right;\n",
              "    }\n",
              "</style>\n",
              "<table border=\"1\" class=\"dataframe\">\n",
              "  <thead>\n",
              "    <tr style=\"text-align: right;\">\n",
              "      <th></th>\n",
              "      <th>Sensor Value</th>\n",
              "    </tr>\n",
              "  </thead>\n",
              "  <tbody>\n",
              "    <tr>\n",
              "      <th>0</th>\n",
              "      <td>0.10</td>\n",
              "    </tr>\n",
              "    <tr>\n",
              "      <th>1</th>\n",
              "      <td>0.10</td>\n",
              "    </tr>\n",
              "    <tr>\n",
              "      <th>2</th>\n",
              "      <td>0.10</td>\n",
              "    </tr>\n",
              "    <tr>\n",
              "      <th>3</th>\n",
              "      <td>0.10</td>\n",
              "    </tr>\n",
              "    <tr>\n",
              "      <th>4</th>\n",
              "      <td>0.10</td>\n",
              "    </tr>\n",
              "    <tr>\n",
              "      <th>...</th>\n",
              "      <td>...</td>\n",
              "    </tr>\n",
              "    <tr>\n",
              "      <th>1238</th>\n",
              "      <td>0.12</td>\n",
              "    </tr>\n",
              "    <tr>\n",
              "      <th>1239</th>\n",
              "      <td>0.12</td>\n",
              "    </tr>\n",
              "    <tr>\n",
              "      <th>1240</th>\n",
              "      <td>0.12</td>\n",
              "    </tr>\n",
              "    <tr>\n",
              "      <th>1241</th>\n",
              "      <td>0.13</td>\n",
              "    </tr>\n",
              "    <tr>\n",
              "      <th>1242</th>\n",
              "      <td>0.12</td>\n",
              "    </tr>\n",
              "  </tbody>\n",
              "</table>\n",
              "<p>1243 rows × 1 columns</p>\n",
              "</div>"
            ],
            "text/plain": [
              "      Sensor Value\n",
              "0             0.10\n",
              "1             0.10\n",
              "2             0.10\n",
              "3             0.10\n",
              "4             0.10\n",
              "...            ...\n",
              "1238          0.12\n",
              "1239          0.12\n",
              "1240          0.12\n",
              "1241          0.13\n",
              "1242          0.12\n",
              "\n",
              "[1243 rows x 1 columns]"
            ]
          },
          "metadata": {
            "tags": []
          },
          "execution_count": 3
        }
      ]
    },
    {
      "cell_type": "code",
      "metadata": {
        "colab": {
          "base_uri": "https://localhost:8080/",
          "height": 419
        },
        "id": "SkK7zMzlVkZp",
        "outputId": "12fbca7b-d363-4d5b-e8da-a590c5a7ef87"
      },
      "source": [
        "Days = pd.date_range(start=\"2017-09-07\",end=\"2020-06-25\")\n",
        "dataframe = pd.DataFrame()\n",
        "dataframe['ds'] = Days\n",
        "dataframe['ds'] = dataframe['ds'].dt.date\n",
        "dataframe['y'] = df[['Sensor Value']]\n",
        "dataframe"
      ],
      "execution_count": 4,
      "outputs": [
        {
          "output_type": "execute_result",
          "data": {
            "text/html": [
              "<div>\n",
              "<style scoped>\n",
              "    .dataframe tbody tr th:only-of-type {\n",
              "        vertical-align: middle;\n",
              "    }\n",
              "\n",
              "    .dataframe tbody tr th {\n",
              "        vertical-align: top;\n",
              "    }\n",
              "\n",
              "    .dataframe thead th {\n",
              "        text-align: right;\n",
              "    }\n",
              "</style>\n",
              "<table border=\"1\" class=\"dataframe\">\n",
              "  <thead>\n",
              "    <tr style=\"text-align: right;\">\n",
              "      <th></th>\n",
              "      <th>ds</th>\n",
              "      <th>y</th>\n",
              "    </tr>\n",
              "  </thead>\n",
              "  <tbody>\n",
              "    <tr>\n",
              "      <th>0</th>\n",
              "      <td>2017-09-07</td>\n",
              "      <td>0.10</td>\n",
              "    </tr>\n",
              "    <tr>\n",
              "      <th>1</th>\n",
              "      <td>2017-09-08</td>\n",
              "      <td>0.10</td>\n",
              "    </tr>\n",
              "    <tr>\n",
              "      <th>2</th>\n",
              "      <td>2017-09-09</td>\n",
              "      <td>0.10</td>\n",
              "    </tr>\n",
              "    <tr>\n",
              "      <th>3</th>\n",
              "      <td>2017-09-10</td>\n",
              "      <td>0.10</td>\n",
              "    </tr>\n",
              "    <tr>\n",
              "      <th>4</th>\n",
              "      <td>2017-09-11</td>\n",
              "      <td>0.10</td>\n",
              "    </tr>\n",
              "    <tr>\n",
              "      <th>...</th>\n",
              "      <td>...</td>\n",
              "      <td>...</td>\n",
              "    </tr>\n",
              "    <tr>\n",
              "      <th>1018</th>\n",
              "      <td>2020-06-21</td>\n",
              "      <td>0.14</td>\n",
              "    </tr>\n",
              "    <tr>\n",
              "      <th>1019</th>\n",
              "      <td>2020-06-22</td>\n",
              "      <td>0.12</td>\n",
              "    </tr>\n",
              "    <tr>\n",
              "      <th>1020</th>\n",
              "      <td>2020-06-23</td>\n",
              "      <td>0.13</td>\n",
              "    </tr>\n",
              "    <tr>\n",
              "      <th>1021</th>\n",
              "      <td>2020-06-24</td>\n",
              "      <td>0.17</td>\n",
              "    </tr>\n",
              "    <tr>\n",
              "      <th>1022</th>\n",
              "      <td>2020-06-25</td>\n",
              "      <td>0.14</td>\n",
              "    </tr>\n",
              "  </tbody>\n",
              "</table>\n",
              "<p>1023 rows × 2 columns</p>\n",
              "</div>"
            ],
            "text/plain": [
              "              ds     y\n",
              "0     2017-09-07  0.10\n",
              "1     2017-09-08  0.10\n",
              "2     2017-09-09  0.10\n",
              "3     2017-09-10  0.10\n",
              "4     2017-09-11  0.10\n",
              "...          ...   ...\n",
              "1018  2020-06-21  0.14\n",
              "1019  2020-06-22  0.12\n",
              "1020  2020-06-23  0.13\n",
              "1021  2020-06-24  0.17\n",
              "1022  2020-06-25  0.14\n",
              "\n",
              "[1023 rows x 2 columns]"
            ]
          },
          "metadata": {
            "tags": []
          },
          "execution_count": 4
        }
      ]
    },
    {
      "cell_type": "code",
      "metadata": {
        "colab": {
          "base_uri": "https://localhost:8080/",
          "height": 282
        },
        "id": "ZdYtE3ImVpGA",
        "outputId": "13f42c76-82a1-4246-adb3-9b008db0bbc1"
      },
      "source": [
        "dataframe.plot()"
      ],
      "execution_count": 5,
      "outputs": [
        {
          "output_type": "execute_result",
          "data": {
            "text/plain": [
              "<matplotlib.axes._subplots.AxesSubplot at 0x7f3321b32590>"
            ]
          },
          "metadata": {
            "tags": []
          },
          "execution_count": 5
        },
        {
          "output_type": "display_data",
          "data": {
            "image/png": "[encoded data removed]",
            "text/plain": [
              "<Figure size 432x288 with 1 Axes>"
            ]
          },
          "metadata": {
            "tags": [],
            "needs_background": "light"
          }
        }
      ]
    },
    {
      "cell_type": "code",
      "metadata": {
        "colab": {
          "base_uri": "https://localhost:8080/"
        },
        "id": "FaFmhbOpV53o",
        "outputId": "8e94d5c3-4db6-4cab-a1be-7d4e97e7bcbd"
      },
      "source": [
        "from fbprophet import Prophet\n",
        "dir(Prophet)"
      ],
      "execution_count": 6,
      "outputs": [
        {
          "output_type": "execute_result",
          "data": {
            "text/plain": [
              "['__class__',\n",
              " '__delattr__',\n",
              " '__dict__',\n",
              " '__dir__',\n",
              " '__doc__',\n",
              " '__eq__',\n",
              " '__format__',\n",
              " '__ge__',\n",
              " '__getattribute__',\n",
              " '__gt__',\n",
              " '__hash__',\n",
              " '__init__',\n",
              " '__init_subclass__',\n",
              " '__le__',\n",
              " '__lt__',\n",
              " '__module__',\n",
              " '__ne__',\n",
              " '__new__',\n",
              " '__reduce__',\n",
              " '__reduce_ex__',\n",
              " '__repr__',\n",
              " '__setattr__',\n",
              " '__sizeof__',\n",
              " '__str__',\n",
              " '__subclasshook__',\n",
              " '__weakref__',\n",
              " '_load_stan_backend',\n",
              " 'add_country_holidays',\n",
              " 'add_group_component',\n",
              " 'add_regressor',\n",
              " 'add_seasonality',\n",
              " 'construct_holiday_dataframe',\n",
              " 'fit',\n",
              " 'flat_growth_init',\n",
              " 'flat_trend',\n",
              " 'fourier_series',\n",
              " 'initialize_scales',\n",
              " 'linear_growth_init',\n",
              " 'logistic_growth_init',\n",
              " 'make_all_seasonality_features',\n",
              " 'make_future_dataframe',\n",
              " 'make_holiday_features',\n",
              " 'make_seasonality_features',\n",
              " 'parse_seasonality_args',\n",
              " 'percentile',\n",
              " 'piecewise_linear',\n",
              " 'piecewise_logistic',\n",
              " 'plot',\n",
              " 'plot_components',\n",
              " 'predict',\n",
              " 'predict_seasonal_components',\n",
              " 'predict_trend',\n",
              " 'predict_uncertainty',\n",
              " 'predictive_samples',\n",
              " 'regressor_column_matrix',\n",
              " 'sample_model',\n",
              " 'sample_posterior_predictive',\n",
              " 'sample_predictive_trend',\n",
              " 'set_auto_seasonalities',\n",
              " 'set_changepoints',\n",
              " 'setup_dataframe',\n",
              " 'validate_column_name',\n",
              " 'validate_inputs']"
            ]
          },
          "metadata": {
            "tags": []
          },
          "execution_count": 6
        }
      ]
    },
    {
      "cell_type": "code",
      "metadata": {
        "id": "sccCWFrhWpHf"
      },
      "source": [
        "size = (70/100) * len(dataframe)\n",
        "train = dataframe[0:int(size)]\n",
        "test = dataframe[int(size):]"
      ],
      "execution_count": 7,
      "outputs": []
    },
    {
      "cell_type": "code",
      "metadata": {
        "id": "I28XpSsvWBQ5"
      },
      "source": [
        "model = Prophet()"
      ],
      "execution_count": 8,
      "outputs": []
    },
    {
      "cell_type": "code",
      "metadata": {
        "colab": {
          "base_uri": "https://localhost:8080/"
        },
        "id": "chxHI2TkWHTn",
        "outputId": "795baf40-2719-424c-aab6-f4becb82bcb9"
      },
      "source": [
        "model.fit(train)"
      ],
      "execution_count": 9,
      "outputs": [
        {
          "output_type": "stream",
          "text": [
            "INFO:numexpr.utils:NumExpr defaulting to 2 threads.\n",
            "INFO:fbprophet:Disabling yearly seasonality. Run prophet with yearly_seasonality=True to override this.\n",
            "INFO:fbprophet:Disabling daily seasonality. Run prophet with daily_seasonality=True to override this.\n"
          ],
          "name": "stderr"
        },
        {
          "output_type": "execute_result",
          "data": {
            "text/plain": [
              "<fbprophet.forecaster.Prophet at 0x7f33219f6450>"
            ]
          },
          "metadata": {
            "tags": []
          },
          "execution_count": 9
        }
      ]
    },
    {
      "cell_type": "code",
      "metadata": {
        "colab": {
          "base_uri": "https://localhost:8080/"
        },
        "id": "DrMuwZM3WgNZ",
        "outputId": "3452ff5b-1706-4905-bb99-0d8cb35af8da"
      },
      "source": [
        "model.component_modes"
      ],
      "execution_count": 10,
      "outputs": [
        {
          "output_type": "execute_result",
          "data": {
            "text/plain": [
              "{'additive': ['weekly',\n",
              "  'additive_terms',\n",
              "  'extra_regressors_additive',\n",
              "  'holidays'],\n",
              " 'multiplicative': ['multiplicative_terms', 'extra_regressors_multiplicative']}"
            ]
          },
          "metadata": {
            "tags": []
          },
          "execution_count": 10
        }
      ]
    },
    {
      "cell_type": "code",
      "metadata": {
        "colab": {
          "base_uri": "https://localhost:8080/",
          "height": 609
        },
        "id": "Tm4JwctfWjwF",
        "outputId": "2af7d812-8b89-45b2-be55-d37b6c0635cb"
      },
      "source": [
        "futureDates = model.make_future_dataframe(periods=len(test))\n",
        "predictions = model.predict(futureDates)\n",
        "predictions = predictions.tail(len(test))\n",
        "predictions"
      ],
      "execution_count": 11,
      "outputs": [
        {
          "output_type": "execute_result",
          "data": {
            "text/html": [
              "<div>\n",
              "<style scoped>\n",
              "    .dataframe tbody tr th:only-of-type {\n",
              "        vertical-align: middle;\n",
              "    }\n",
              "\n",
              "    .dataframe tbody tr th {\n",
              "        vertical-align: top;\n",
              "    }\n",
              "\n",
              "    .dataframe thead th {\n",
              "        text-align: right;\n",
              "    }\n",
              "</style>\n",
              "<table border=\"1\" class=\"dataframe\">\n",
              "  <thead>\n",
              "    <tr style=\"text-align: right;\">\n",
              "      <th></th>\n",
              "      <th>ds</th>\n",
              "      <th>trend</th>\n",
              "      <th>yhat_lower</th>\n",
              "      <th>yhat_upper</th>\n",
              "      <th>trend_lower</th>\n",
              "      <th>trend_upper</th>\n",
              "      <th>additive_terms</th>\n",
              "      <th>additive_terms_lower</th>\n",
              "      <th>additive_terms_upper</th>\n",
              "      <th>weekly</th>\n",
              "      <th>weekly_lower</th>\n",
              "      <th>weekly_upper</th>\n",
              "      <th>multiplicative_terms</th>\n",
              "      <th>multiplicative_terms_lower</th>\n",
              "      <th>multiplicative_terms_upper</th>\n",
              "      <th>yhat</th>\n",
              "    </tr>\n",
              "  </thead>\n",
              "  <tbody>\n",
              "    <tr>\n",
              "      <th>716</th>\n",
              "      <td>2019-08-24</td>\n",
              "      <td>0.085189</td>\n",
              "      <td>-0.031203</td>\n",
              "      <td>0.206657</td>\n",
              "      <td>0.085189</td>\n",
              "      <td>0.085189</td>\n",
              "      <td>0.003488</td>\n",
              "      <td>0.003488</td>\n",
              "      <td>0.003488</td>\n",
              "      <td>0.003488</td>\n",
              "      <td>0.003488</td>\n",
              "      <td>0.003488</td>\n",
              "      <td>0.0</td>\n",
              "      <td>0.0</td>\n",
              "      <td>0.0</td>\n",
              "      <td>0.088677</td>\n",
              "    </tr>\n",
              "    <tr>\n",
              "      <th>717</th>\n",
              "      <td>2019-08-25</td>\n",
              "      <td>0.085137</td>\n",
              "      <td>-0.031238</td>\n",
              "      <td>0.206593</td>\n",
              "      <td>0.085137</td>\n",
              "      <td>0.085137</td>\n",
              "      <td>0.003816</td>\n",
              "      <td>0.003816</td>\n",
              "      <td>0.003816</td>\n",
              "      <td>0.003816</td>\n",
              "      <td>0.003816</td>\n",
              "      <td>0.003816</td>\n",
              "      <td>0.0</td>\n",
              "      <td>0.0</td>\n",
              "      <td>0.0</td>\n",
              "      <td>0.088954</td>\n",
              "    </tr>\n",
              "    <tr>\n",
              "      <th>718</th>\n",
              "      <td>2019-08-26</td>\n",
              "      <td>0.085085</td>\n",
              "      <td>-0.043891</td>\n",
              "      <td>0.196619</td>\n",
              "      <td>0.085085</td>\n",
              "      <td>0.085085</td>\n",
              "      <td>-0.008494</td>\n",
              "      <td>-0.008494</td>\n",
              "      <td>-0.008494</td>\n",
              "      <td>-0.008494</td>\n",
              "      <td>-0.008494</td>\n",
              "      <td>-0.008494</td>\n",
              "      <td>0.0</td>\n",
              "      <td>0.0</td>\n",
              "      <td>0.0</td>\n",
              "      <td>0.076592</td>\n",
              "    </tr>\n",
              "    <tr>\n",
              "      <th>719</th>\n",
              "      <td>2019-08-27</td>\n",
              "      <td>0.085033</td>\n",
              "      <td>-0.037646</td>\n",
              "      <td>0.190175</td>\n",
              "      <td>0.085033</td>\n",
              "      <td>0.085033</td>\n",
              "      <td>-0.008557</td>\n",
              "      <td>-0.008557</td>\n",
              "      <td>-0.008557</td>\n",
              "      <td>-0.008557</td>\n",
              "      <td>-0.008557</td>\n",
              "      <td>-0.008557</td>\n",
              "      <td>0.0</td>\n",
              "      <td>0.0</td>\n",
              "      <td>0.0</td>\n",
              "      <td>0.076476</td>\n",
              "    </tr>\n",
              "    <tr>\n",
              "      <th>720</th>\n",
              "      <td>2019-08-28</td>\n",
              "      <td>0.084982</td>\n",
              "      <td>-0.028820</td>\n",
              "      <td>0.199345</td>\n",
              "      <td>0.084982</td>\n",
              "      <td>0.084982</td>\n",
              "      <td>0.003626</td>\n",
              "      <td>0.003626</td>\n",
              "      <td>0.003626</td>\n",
              "      <td>0.003626</td>\n",
              "      <td>0.003626</td>\n",
              "      <td>0.003626</td>\n",
              "      <td>0.0</td>\n",
              "      <td>0.0</td>\n",
              "      <td>0.0</td>\n",
              "      <td>0.088608</td>\n",
              "    </tr>\n",
              "    <tr>\n",
              "      <th>...</th>\n",
              "      <td>...</td>\n",
              "      <td>...</td>\n",
              "      <td>...</td>\n",
              "      <td>...</td>\n",
              "      <td>...</td>\n",
              "      <td>...</td>\n",
              "      <td>...</td>\n",
              "      <td>...</td>\n",
              "      <td>...</td>\n",
              "      <td>...</td>\n",
              "      <td>...</td>\n",
              "      <td>...</td>\n",
              "      <td>...</td>\n",
              "      <td>...</td>\n",
              "      <td>...</td>\n",
              "      <td>...</td>\n",
              "    </tr>\n",
              "    <tr>\n",
              "      <th>1018</th>\n",
              "      <td>2020-06-21</td>\n",
              "      <td>0.069524</td>\n",
              "      <td>-0.048516</td>\n",
              "      <td>0.186741</td>\n",
              "      <td>0.068071</td>\n",
              "      <td>0.070985</td>\n",
              "      <td>0.003816</td>\n",
              "      <td>0.003816</td>\n",
              "      <td>0.003816</td>\n",
              "      <td>0.003816</td>\n",
              "      <td>0.003816</td>\n",
              "      <td>0.003816</td>\n",
              "      <td>0.0</td>\n",
              "      <td>0.0</td>\n",
              "      <td>0.0</td>\n",
              "      <td>0.073340</td>\n",
              "    </tr>\n",
              "    <tr>\n",
              "      <th>1019</th>\n",
              "      <td>2020-06-22</td>\n",
              "      <td>0.069472</td>\n",
              "      <td>-0.061557</td>\n",
              "      <td>0.181559</td>\n",
              "      <td>0.068014</td>\n",
              "      <td>0.070939</td>\n",
              "      <td>-0.008494</td>\n",
              "      <td>-0.008494</td>\n",
              "      <td>-0.008494</td>\n",
              "      <td>-0.008494</td>\n",
              "      <td>-0.008494</td>\n",
              "      <td>-0.008494</td>\n",
              "      <td>0.0</td>\n",
              "      <td>0.0</td>\n",
              "      <td>0.0</td>\n",
              "      <td>0.060978</td>\n",
              "    </tr>\n",
              "    <tr>\n",
              "      <th>1020</th>\n",
              "      <td>2020-06-23</td>\n",
              "      <td>0.069420</td>\n",
              "      <td>-0.052295</td>\n",
              "      <td>0.181514</td>\n",
              "      <td>0.067954</td>\n",
              "      <td>0.070893</td>\n",
              "      <td>-0.008557</td>\n",
              "      <td>-0.008557</td>\n",
              "      <td>-0.008557</td>\n",
              "      <td>-0.008557</td>\n",
              "      <td>-0.008557</td>\n",
              "      <td>-0.008557</td>\n",
              "      <td>0.0</td>\n",
              "      <td>0.0</td>\n",
              "      <td>0.0</td>\n",
              "      <td>0.060863</td>\n",
              "    </tr>\n",
              "    <tr>\n",
              "      <th>1021</th>\n",
              "      <td>2020-06-24</td>\n",
              "      <td>0.069368</td>\n",
              "      <td>-0.041089</td>\n",
              "      <td>0.188080</td>\n",
              "      <td>0.067894</td>\n",
              "      <td>0.070849</td>\n",
              "      <td>0.003626</td>\n",
              "      <td>0.003626</td>\n",
              "      <td>0.003626</td>\n",
              "      <td>0.003626</td>\n",
              "      <td>0.003626</td>\n",
              "      <td>0.003626</td>\n",
              "      <td>0.0</td>\n",
              "      <td>0.0</td>\n",
              "      <td>0.0</td>\n",
              "      <td>0.072995</td>\n",
              "    </tr>\n",
              "    <tr>\n",
              "      <th>1022</th>\n",
              "      <td>2020-06-25</td>\n",
              "      <td>0.069316</td>\n",
              "      <td>-0.050391</td>\n",
              "      <td>0.198488</td>\n",
              "      <td>0.067831</td>\n",
              "      <td>0.070806</td>\n",
              "      <td>0.003528</td>\n",
              "      <td>0.003528</td>\n",
              "      <td>0.003528</td>\n",
              "      <td>0.003528</td>\n",
              "      <td>0.003528</td>\n",
              "      <td>0.003528</td>\n",
              "      <td>0.0</td>\n",
              "      <td>0.0</td>\n",
              "      <td>0.0</td>\n",
              "      <td>0.072844</td>\n",
              "    </tr>\n",
              "  </tbody>\n",
              "</table>\n",
              "<p>307 rows × 16 columns</p>\n",
              "</div>"
            ],
            "text/plain": [
              "             ds     trend  ...  multiplicative_terms_upper      yhat\n",
              "716  2019-08-24  0.085189  ...                         0.0  0.088677\n",
              "717  2019-08-25  0.085137  ...                         0.0  0.088954\n",
              "718  2019-08-26  0.085085  ...                         0.0  0.076592\n",
              "719  2019-08-27  0.085033  ...                         0.0  0.076476\n",
              "720  2019-08-28  0.084982  ...                         0.0  0.088608\n",
              "...         ...       ...  ...                         ...       ...\n",
              "1018 2020-06-21  0.069524  ...                         0.0  0.073340\n",
              "1019 2020-06-22  0.069472  ...                         0.0  0.060978\n",
              "1020 2020-06-23  0.069420  ...                         0.0  0.060863\n",
              "1021 2020-06-24  0.069368  ...                         0.0  0.072995\n",
              "1022 2020-06-25  0.069316  ...                         0.0  0.072844\n",
              "\n",
              "[307 rows x 16 columns]"
            ]
          },
          "metadata": {
            "tags": []
          },
          "execution_count": 11
        }
      ]
    },
    {
      "cell_type": "code",
      "metadata": {
        "colab": {
          "base_uri": "https://localhost:8080/"
        },
        "id": "HpOlBSc5XsVN",
        "outputId": "2416e0b6-18ee-4c8b-cf51-7629e020dd68"
      },
      "source": [
        "from sklearn.metrics import mean_squared_error\n",
        "mse = mean_squared_error(test[['y']],predictions[['yhat']])\n",
        "mse\n"
      ],
      "execution_count": 15,
      "outputs": [
        {
          "output_type": "execute_result",
          "data": {
            "text/plain": [
              "0.010654052676232578"
            ]
          },
          "metadata": {
            "tags": []
          },
          "execution_count": 15
        }
      ]
    },
    {
      "cell_type": "code",
      "metadata": {
        "id": "ByLhrjR6ZCUF"
      },
      "source": [
        "import pickle\n",
        "import pickle\n",
        "with open('/content/dust_model_fbprohpet.pkl', 'wb') as fid:\n",
        "    pickle.dump(model, fid)"
      ],
      "execution_count": 13,
      "outputs": []
    },
    {
      "cell_type": "code",
      "metadata": {
        "id": "j6hqkOrXJU6P"
      },
      "source": [
        "preds = predictions['yhat'].tolist()"
      ],
      "execution_count": 14,
      "outputs": []
    },
    {
      "cell_type": "code",
      "metadata": {
        "id": "QGU_7evTJpqW"
      },
      "source": [
        "forecasting={\n",
        "    \n",
        "    'Day-1':preds[0],\n",
        "    'Day-2':preds[1],\n",
        "    'Day-3':preds[2],\n",
        "    'Day-4':preds[3],\n",
        "    'Day-5':preds[4],\n",
        "    'Day-6':preds[5],\n",
        "    'Day-7':preds[6],\n",
        "    'MSE': mse\n",
        "}"
      ],
      "execution_count": 18,
      "outputs": []
    },
    {
      "cell_type": "code",
      "metadata": {
        "id": "z-T-Hw_HJeCd"
      },
      "source": [
        "import firebase_admin\n",
        "from firebase_admin import credentials\n",
        "from firebase_admin import db\n",
        "cred = credentials.Certificate(\"../content/sensors-forecasting-fc27d-firebase-adminsdk-krgvi-403182645e.json\")\n",
        "firebase_admin.initialize_app(cred,{'databaseURL':'https://sensors-forecasting-fc27d-default-rtdb.firebaseio.com/'})\n",
        "ref = db.reference(\"/Models/fbProphet\")\n",
        "upload_ref = ref.child('Dust')\n",
        "upload_ref.update(forecasting)"
      ],
      "execution_count": 20,
      "outputs": []
    }
  ]
}