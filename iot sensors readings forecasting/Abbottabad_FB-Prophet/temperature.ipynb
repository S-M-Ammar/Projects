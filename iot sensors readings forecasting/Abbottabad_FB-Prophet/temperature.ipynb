{
  "nbformat": 4,
  "nbformat_minor": 0,
  "metadata": {
    "colab": {
      "name": "temperature.ipynb",
      "provenance": [],
      "collapsed_sections": []
    },
    "kernelspec": {
      "name": "python3",
      "display_name": "Python 3"
    },
    "language_info": {
      "name": "python"
    }
  },
  "cells": [
    {
      "cell_type": "code",
      "metadata": {
        "id": "0_pDud-Ka4oy"
      },
      "source": [
        "import fbprophet\n",
        "import pandas as pd\n",
        "import matplotlib.pyplot as plt\n",
        "%matplotlib inline"
      ],
      "execution_count": 1,
      "outputs": []
    },
    {
      "cell_type": "code",
      "metadata": {
        "colab": {
          "base_uri": "https://localhost:8080/",
          "height": 419
        },
        "id": "smDgosRobNoB",
        "outputId": "bb98a379-34d3-4449-bb24-d105fb9f8617"
      },
      "source": [
        "df = pd.read_excel(\"/content/temp.xlsx\")\n",
        "df = df[['Sensor Value']]\n",
        "df"
      ],
      "execution_count": 2,
      "outputs": [
        {
          "output_type": "execute_result",
          "data": {
            "text/html": [
              "<div>\n",
              "<style scoped>\n",
              "    .dataframe tbody tr th:only-of-type {\n",
              "        vertical-align: middle;\n",
              "    }\n",
              "\n",
              "    .dataframe tbody tr th {\n",
              "        vertical-align: top;\n",
              "    }\n",
              "\n",
              "    .dataframe thead th {\n",
              "        text-align: right;\n",
              "    }\n",
              "</style>\n",
              "<table border=\"1\" class=\"dataframe\">\n",
              "  <thead>\n",
              "    <tr style=\"text-align: right;\">\n",
              "      <th></th>\n",
              "      <th>Sensor Value</th>\n",
              "    </tr>\n",
              "  </thead>\n",
              "  <tbody>\n",
              "    <tr>\n",
              "      <th>0</th>\n",
              "      <td>18</td>\n",
              "    </tr>\n",
              "    <tr>\n",
              "      <th>1</th>\n",
              "      <td>18</td>\n",
              "    </tr>\n",
              "    <tr>\n",
              "      <th>2</th>\n",
              "      <td>18</td>\n",
              "    </tr>\n",
              "    <tr>\n",
              "      <th>3</th>\n",
              "      <td>18</td>\n",
              "    </tr>\n",
              "    <tr>\n",
              "      <th>4</th>\n",
              "      <td>18</td>\n",
              "    </tr>\n",
              "    <tr>\n",
              "      <th>...</th>\n",
              "      <td>...</td>\n",
              "    </tr>\n",
              "    <tr>\n",
              "      <th>996</th>\n",
              "      <td>29</td>\n",
              "    </tr>\n",
              "    <tr>\n",
              "      <th>997</th>\n",
              "      <td>29</td>\n",
              "    </tr>\n",
              "    <tr>\n",
              "      <th>998</th>\n",
              "      <td>29</td>\n",
              "    </tr>\n",
              "    <tr>\n",
              "      <th>999</th>\n",
              "      <td>29</td>\n",
              "    </tr>\n",
              "    <tr>\n",
              "      <th>1000</th>\n",
              "      <td>29</td>\n",
              "    </tr>\n",
              "  </tbody>\n",
              "</table>\n",
              "<p>1001 rows × 1 columns</p>\n",
              "</div>"
            ],
            "text/plain": [
              "      Sensor Value\n",
              "0               18\n",
              "1               18\n",
              "2               18\n",
              "3               18\n",
              "4               18\n",
              "...            ...\n",
              "996             29\n",
              "997             29\n",
              "998             29\n",
              "999             29\n",
              "1000            29\n",
              "\n",
              "[1001 rows x 1 columns]"
            ]
          },
          "metadata": {
            "tags": []
          },
          "execution_count": 2
        }
      ]
    },
    {
      "cell_type": "code",
      "metadata": {
        "colab": {
          "base_uri": "https://localhost:8080/",
          "height": 419
        },
        "id": "DIjf7Xn7bTdB",
        "outputId": "5e9c5da0-8c71-47fc-b89f-d0f7657a37b6"
      },
      "source": [
        "Days = pd.date_range(start=\"2017-09-07\",end=\"2020-06-25\")\n",
        "dataframe = pd.DataFrame()\n",
        "dataframe['ds'] = Days\n",
        "dataframe['ds'] = dataframe['ds'].dt.date\n",
        "dataframe['y'] = df[['Sensor Value']]\n",
        "dataframe"
      ],
      "execution_count": 3,
      "outputs": [
        {
          "output_type": "execute_result",
          "data": {
            "text/html": [
              "<div>\n",
              "<style scoped>\n",
              "    .dataframe tbody tr th:only-of-type {\n",
              "        vertical-align: middle;\n",
              "    }\n",
              "\n",
              "    .dataframe tbody tr th {\n",
              "        vertical-align: top;\n",
              "    }\n",
              "\n",
              "    .dataframe thead th {\n",
              "        text-align: right;\n",
              "    }\n",
              "</style>\n",
              "<table border=\"1\" class=\"dataframe\">\n",
              "  <thead>\n",
              "    <tr style=\"text-align: right;\">\n",
              "      <th></th>\n",
              "      <th>ds</th>\n",
              "      <th>y</th>\n",
              "    </tr>\n",
              "  </thead>\n",
              "  <tbody>\n",
              "    <tr>\n",
              "      <th>0</th>\n",
              "      <td>2017-09-07</td>\n",
              "      <td>18.0</td>\n",
              "    </tr>\n",
              "    <tr>\n",
              "      <th>1</th>\n",
              "      <td>2017-09-08</td>\n",
              "      <td>18.0</td>\n",
              "    </tr>\n",
              "    <tr>\n",
              "      <th>2</th>\n",
              "      <td>2017-09-09</td>\n",
              "      <td>18.0</td>\n",
              "    </tr>\n",
              "    <tr>\n",
              "      <th>3</th>\n",
              "      <td>2017-09-10</td>\n",
              "      <td>18.0</td>\n",
              "    </tr>\n",
              "    <tr>\n",
              "      <th>4</th>\n",
              "      <td>2017-09-11</td>\n",
              "      <td>18.0</td>\n",
              "    </tr>\n",
              "    <tr>\n",
              "      <th>...</th>\n",
              "      <td>...</td>\n",
              "      <td>...</td>\n",
              "    </tr>\n",
              "    <tr>\n",
              "      <th>1018</th>\n",
              "      <td>2020-06-21</td>\n",
              "      <td>NaN</td>\n",
              "    </tr>\n",
              "    <tr>\n",
              "      <th>1019</th>\n",
              "      <td>2020-06-22</td>\n",
              "      <td>NaN</td>\n",
              "    </tr>\n",
              "    <tr>\n",
              "      <th>1020</th>\n",
              "      <td>2020-06-23</td>\n",
              "      <td>NaN</td>\n",
              "    </tr>\n",
              "    <tr>\n",
              "      <th>1021</th>\n",
              "      <td>2020-06-24</td>\n",
              "      <td>NaN</td>\n",
              "    </tr>\n",
              "    <tr>\n",
              "      <th>1022</th>\n",
              "      <td>2020-06-25</td>\n",
              "      <td>NaN</td>\n",
              "    </tr>\n",
              "  </tbody>\n",
              "</table>\n",
              "<p>1023 rows × 2 columns</p>\n",
              "</div>"
            ],
            "text/plain": [
              "              ds     y\n",
              "0     2017-09-07  18.0\n",
              "1     2017-09-08  18.0\n",
              "2     2017-09-09  18.0\n",
              "3     2017-09-10  18.0\n",
              "4     2017-09-11  18.0\n",
              "...          ...   ...\n",
              "1018  2020-06-21   NaN\n",
              "1019  2020-06-22   NaN\n",
              "1020  2020-06-23   NaN\n",
              "1021  2020-06-24   NaN\n",
              "1022  2020-06-25   NaN\n",
              "\n",
              "[1023 rows x 2 columns]"
            ]
          },
          "metadata": {
            "tags": []
          },
          "execution_count": 3
        }
      ]
    },
    {
      "cell_type": "code",
      "metadata": {
        "colab": {
          "base_uri": "https://localhost:8080/",
          "height": 282
        },
        "id": "h_ZbO8iVbTfW",
        "outputId": "debc6b05-4b98-48ff-80ca-0d4b8bdcc524"
      },
      "source": [
        "dataframe.dropna(axis=0,inplace=True)\n",
        "dataframe.plot()"
      ],
      "execution_count": 4,
      "outputs": [
        {
          "output_type": "execute_result",
          "data": {
            "text/plain": [
              "<matplotlib.axes._subplots.AxesSubplot at 0x7fd3981a0b50>"
            ]
          },
          "metadata": {
            "tags": []
          },
          "execution_count": 4
        },
        {
          "output_type": "display_data",
          "data": {
            "image/png": "[encoded data removed]",
            "text/plain": [
              "<Figure size 432x288 with 1 Axes>"
            ]
          },
          "metadata": {
            "tags": [],
            "needs_background": "light"
          }
        }
      ]
    },
    {
      "cell_type": "code",
      "metadata": {
        "id": "2STLM0DMbTh3"
      },
      "source": [
        "from fbprophet import Prophet\n",
        "size = (70/100) * len(dataframe)\n",
        "train = dataframe[0:int(size)]\n",
        "test = dataframe[int(size):]\n",
        "model = Prophet()"
      ],
      "execution_count": 5,
      "outputs": []
    },
    {
      "cell_type": "code",
      "metadata": {
        "colab": {
          "base_uri": "https://localhost:8080/"
        },
        "id": "KR5E3-2JbTkH",
        "outputId": "6bdbbc51-54f0-4727-bfe8-4aba79e753b0"
      },
      "source": [
        "model.fit(train)"
      ],
      "execution_count": 6,
      "outputs": [
        {
          "output_type": "stream",
          "text": [
            "INFO:fbprophet:Disabling yearly seasonality. Run prophet with yearly_seasonality=True to override this.\n",
            "INFO:fbprophet:Disabling daily seasonality. Run prophet with daily_seasonality=True to override this.\n"
          ],
          "name": "stderr"
        },
        {
          "output_type": "execute_result",
          "data": {
            "text/plain": [
              "<fbprophet.forecaster.Prophet at 0x7fd39826bb50>"
            ]
          },
          "metadata": {
            "tags": []
          },
          "execution_count": 6
        }
      ]
    },
    {
      "cell_type": "code",
      "metadata": {
        "colab": {
          "base_uri": "https://localhost:8080/"
        },
        "id": "ehu6Psn-bTmR",
        "outputId": "e349d304-0934-4b2d-b91e-139c13a2915b"
      },
      "source": [
        "model.component_modes"
      ],
      "execution_count": 7,
      "outputs": [
        {
          "output_type": "execute_result",
          "data": {
            "text/plain": [
              "{'additive': ['weekly',\n",
              "  'additive_terms',\n",
              "  'extra_regressors_additive',\n",
              "  'holidays'],\n",
              " 'multiplicative': ['multiplicative_terms', 'extra_regressors_multiplicative']}"
            ]
          },
          "metadata": {
            "tags": []
          },
          "execution_count": 7
        }
      ]
    },
    {
      "cell_type": "code",
      "metadata": {
        "colab": {
          "base_uri": "https://localhost:8080/",
          "height": 609
        },
        "id": "4ATKdfcvbToS",
        "outputId": "b8e16b63-cfd0-430c-8e90-bf0b051f855e"
      },
      "source": [
        "futureDates = model.make_future_dataframe(periods=len(test))\n",
        "predictions = model.predict(futureDates)\n",
        "predictions = predictions.tail(len(test))\n",
        "predictions"
      ],
      "execution_count": 8,
      "outputs": [
        {
          "output_type": "execute_result",
          "data": {
            "text/html": [
              "<div>\n",
              "<style scoped>\n",
              "    .dataframe tbody tr th:only-of-type {\n",
              "        vertical-align: middle;\n",
              "    }\n",
              "\n",
              "    .dataframe tbody tr th {\n",
              "        vertical-align: top;\n",
              "    }\n",
              "\n",
              "    .dataframe thead th {\n",
              "        text-align: right;\n",
              "    }\n",
              "</style>\n",
              "<table border=\"1\" class=\"dataframe\">\n",
              "  <thead>\n",
              "    <tr style=\"text-align: right;\">\n",
              "      <th></th>\n",
              "      <th>ds</th>\n",
              "      <th>trend</th>\n",
              "      <th>yhat_lower</th>\n",
              "      <th>yhat_upper</th>\n",
              "      <th>trend_lower</th>\n",
              "      <th>trend_upper</th>\n",
              "      <th>additive_terms</th>\n",
              "      <th>additive_terms_lower</th>\n",
              "      <th>additive_terms_upper</th>\n",
              "      <th>weekly</th>\n",
              "      <th>weekly_lower</th>\n",
              "      <th>weekly_upper</th>\n",
              "      <th>multiplicative_terms</th>\n",
              "      <th>multiplicative_terms_lower</th>\n",
              "      <th>multiplicative_terms_upper</th>\n",
              "      <th>yhat</th>\n",
              "    </tr>\n",
              "  </thead>\n",
              "  <tbody>\n",
              "    <tr>\n",
              "      <th>700</th>\n",
              "      <td>2019-08-08</td>\n",
              "      <td>17.550677</td>\n",
              "      <td>11.631295</td>\n",
              "      <td>23.419343</td>\n",
              "      <td>17.550677</td>\n",
              "      <td>17.550677</td>\n",
              "      <td>-0.028684</td>\n",
              "      <td>-0.028684</td>\n",
              "      <td>-0.028684</td>\n",
              "      <td>-0.028684</td>\n",
              "      <td>-0.028684</td>\n",
              "      <td>-0.028684</td>\n",
              "      <td>0.0</td>\n",
              "      <td>0.0</td>\n",
              "      <td>0.0</td>\n",
              "      <td>17.521993</td>\n",
              "    </tr>\n",
              "    <tr>\n",
              "      <th>701</th>\n",
              "      <td>2019-08-09</td>\n",
              "      <td>17.535718</td>\n",
              "      <td>11.631272</td>\n",
              "      <td>23.318869</td>\n",
              "      <td>17.535718</td>\n",
              "      <td>17.535718</td>\n",
              "      <td>0.000465</td>\n",
              "      <td>0.000465</td>\n",
              "      <td>0.000465</td>\n",
              "      <td>0.000465</td>\n",
              "      <td>0.000465</td>\n",
              "      <td>0.000465</td>\n",
              "      <td>0.0</td>\n",
              "      <td>0.0</td>\n",
              "      <td>0.0</td>\n",
              "      <td>17.536183</td>\n",
              "    </tr>\n",
              "    <tr>\n",
              "      <th>702</th>\n",
              "      <td>2019-08-10</td>\n",
              "      <td>17.520759</td>\n",
              "      <td>11.632070</td>\n",
              "      <td>22.832230</td>\n",
              "      <td>17.520759</td>\n",
              "      <td>17.520759</td>\n",
              "      <td>0.039637</td>\n",
              "      <td>0.039637</td>\n",
              "      <td>0.039637</td>\n",
              "      <td>0.039637</td>\n",
              "      <td>0.039637</td>\n",
              "      <td>0.039637</td>\n",
              "      <td>0.0</td>\n",
              "      <td>0.0</td>\n",
              "      <td>0.0</td>\n",
              "      <td>17.560396</td>\n",
              "    </tr>\n",
              "    <tr>\n",
              "      <th>703</th>\n",
              "      <td>2019-08-11</td>\n",
              "      <td>17.505800</td>\n",
              "      <td>11.768988</td>\n",
              "      <td>23.452989</td>\n",
              "      <td>17.505800</td>\n",
              "      <td>17.505800</td>\n",
              "      <td>0.058745</td>\n",
              "      <td>0.058745</td>\n",
              "      <td>0.058745</td>\n",
              "      <td>0.058745</td>\n",
              "      <td>0.058745</td>\n",
              "      <td>0.058745</td>\n",
              "      <td>0.0</td>\n",
              "      <td>0.0</td>\n",
              "      <td>0.0</td>\n",
              "      <td>17.564545</td>\n",
              "    </tr>\n",
              "    <tr>\n",
              "      <th>704</th>\n",
              "      <td>2019-08-12</td>\n",
              "      <td>17.490841</td>\n",
              "      <td>11.286823</td>\n",
              "      <td>23.603829</td>\n",
              "      <td>17.490841</td>\n",
              "      <td>17.490841</td>\n",
              "      <td>0.017577</td>\n",
              "      <td>0.017577</td>\n",
              "      <td>0.017577</td>\n",
              "      <td>0.017577</td>\n",
              "      <td>0.017577</td>\n",
              "      <td>0.017577</td>\n",
              "      <td>0.0</td>\n",
              "      <td>0.0</td>\n",
              "      <td>0.0</td>\n",
              "      <td>17.508418</td>\n",
              "    </tr>\n",
              "    <tr>\n",
              "      <th>...</th>\n",
              "      <td>...</td>\n",
              "      <td>...</td>\n",
              "      <td>...</td>\n",
              "      <td>...</td>\n",
              "      <td>...</td>\n",
              "      <td>...</td>\n",
              "      <td>...</td>\n",
              "      <td>...</td>\n",
              "      <td>...</td>\n",
              "      <td>...</td>\n",
              "      <td>...</td>\n",
              "      <td>...</td>\n",
              "      <td>...</td>\n",
              "      <td>...</td>\n",
              "      <td>...</td>\n",
              "      <td>...</td>\n",
              "    </tr>\n",
              "    <tr>\n",
              "      <th>996</th>\n",
              "      <td>2020-05-30</td>\n",
              "      <td>13.122822</td>\n",
              "      <td>6.425670</td>\n",
              "      <td>20.443548</td>\n",
              "      <td>9.221084</td>\n",
              "      <td>17.159767</td>\n",
              "      <td>0.039637</td>\n",
              "      <td>0.039637</td>\n",
              "      <td>0.039637</td>\n",
              "      <td>0.039637</td>\n",
              "      <td>0.039637</td>\n",
              "      <td>0.039637</td>\n",
              "      <td>0.0</td>\n",
              "      <td>0.0</td>\n",
              "      <td>0.0</td>\n",
              "      <td>13.162459</td>\n",
              "    </tr>\n",
              "    <tr>\n",
              "      <th>997</th>\n",
              "      <td>2020-05-31</td>\n",
              "      <td>13.107863</td>\n",
              "      <td>5.524303</td>\n",
              "      <td>20.610659</td>\n",
              "      <td>9.191198</td>\n",
              "      <td>17.161601</td>\n",
              "      <td>0.058745</td>\n",
              "      <td>0.058745</td>\n",
              "      <td>0.058745</td>\n",
              "      <td>0.058745</td>\n",
              "      <td>0.058745</td>\n",
              "      <td>0.058745</td>\n",
              "      <td>0.0</td>\n",
              "      <td>0.0</td>\n",
              "      <td>0.0</td>\n",
              "      <td>13.166608</td>\n",
              "    </tr>\n",
              "    <tr>\n",
              "      <th>998</th>\n",
              "      <td>2020-06-01</td>\n",
              "      <td>13.092904</td>\n",
              "      <td>6.870145</td>\n",
              "      <td>20.617290</td>\n",
              "      <td>9.160940</td>\n",
              "      <td>17.184382</td>\n",
              "      <td>0.017577</td>\n",
              "      <td>0.017577</td>\n",
              "      <td>0.017577</td>\n",
              "      <td>0.017577</td>\n",
              "      <td>0.017577</td>\n",
              "      <td>0.017577</td>\n",
              "      <td>0.0</td>\n",
              "      <td>0.0</td>\n",
              "      <td>0.0</td>\n",
              "      <td>13.110481</td>\n",
              "    </tr>\n",
              "    <tr>\n",
              "      <th>999</th>\n",
              "      <td>2020-06-02</td>\n",
              "      <td>13.077945</td>\n",
              "      <td>6.597139</td>\n",
              "      <td>20.224102</td>\n",
              "      <td>9.120970</td>\n",
              "      <td>17.198866</td>\n",
              "      <td>-0.013458</td>\n",
              "      <td>-0.013458</td>\n",
              "      <td>-0.013458</td>\n",
              "      <td>-0.013458</td>\n",
              "      <td>-0.013458</td>\n",
              "      <td>-0.013458</td>\n",
              "      <td>0.0</td>\n",
              "      <td>0.0</td>\n",
              "      <td>0.0</td>\n",
              "      <td>13.064487</td>\n",
              "    </tr>\n",
              "    <tr>\n",
              "      <th>1000</th>\n",
              "      <td>2020-06-03</td>\n",
              "      <td>13.062986</td>\n",
              "      <td>6.009429</td>\n",
              "      <td>20.029719</td>\n",
              "      <td>9.092179</td>\n",
              "      <td>17.207798</td>\n",
              "      <td>-0.074283</td>\n",
              "      <td>-0.074283</td>\n",
              "      <td>-0.074283</td>\n",
              "      <td>-0.074283</td>\n",
              "      <td>-0.074283</td>\n",
              "      <td>-0.074283</td>\n",
              "      <td>0.0</td>\n",
              "      <td>0.0</td>\n",
              "      <td>0.0</td>\n",
              "      <td>12.988703</td>\n",
              "    </tr>\n",
              "  </tbody>\n",
              "</table>\n",
              "<p>301 rows × 16 columns</p>\n",
              "</div>"
            ],
            "text/plain": [
              "             ds      trend  ...  multiplicative_terms_upper       yhat\n",
              "700  2019-08-08  17.550677  ...                         0.0  17.521993\n",
              "701  2019-08-09  17.535718  ...                         0.0  17.536183\n",
              "702  2019-08-10  17.520759  ...                         0.0  17.560396\n",
              "703  2019-08-11  17.505800  ...                         0.0  17.564545\n",
              "704  2019-08-12  17.490841  ...                         0.0  17.508418\n",
              "...         ...        ...  ...                         ...        ...\n",
              "996  2020-05-30  13.122822  ...                         0.0  13.162459\n",
              "997  2020-05-31  13.107863  ...                         0.0  13.166608\n",
              "998  2020-06-01  13.092904  ...                         0.0  13.110481\n",
              "999  2020-06-02  13.077945  ...                         0.0  13.064487\n",
              "1000 2020-06-03  13.062986  ...                         0.0  12.988703\n",
              "\n",
              "[301 rows x 16 columns]"
            ]
          },
          "metadata": {
            "tags": []
          },
          "execution_count": 8
        }
      ]
    },
    {
      "cell_type": "code",
      "metadata": {
        "colab": {
          "base_uri": "https://localhost:8080/"
        },
        "id": "Rg9ExiI0bTqT",
        "outputId": "feac65bc-73f1-4844-a3c6-69905afe7c43"
      },
      "source": [
        "from sklearn.metrics import mean_squared_error\n",
        "mse = mean_squared_error(test[['y']],predictions[['yhat']])\n",
        "mse"
      ],
      "execution_count": 9,
      "outputs": [
        {
          "output_type": "execute_result",
          "data": {
            "text/plain": [
              "107.71670680520552"
            ]
          },
          "metadata": {
            "tags": []
          },
          "execution_count": 9
        }
      ]
    },
    {
      "cell_type": "code",
      "metadata": {
        "id": "s3vq7BVjcSfs"
      },
      "source": [
        "import pickle\n",
        "import pickle\n",
        "with open('/content/temp_model_fbprohpet.pkl', 'wb') as fid:\n",
        "    pickle.dump(model, fid)"
      ],
      "execution_count": 10,
      "outputs": []
    },
    {
      "cell_type": "code",
      "metadata": {
        "id": "6-oq8GhkbTtn"
      },
      "source": [
        "preds = predictions['yhat'].tolist()"
      ],
      "execution_count": 13,
      "outputs": []
    },
    {
      "cell_type": "code",
      "metadata": {
        "id": "cGi_gFXcNDTb"
      },
      "source": [
        "forecasting={\n",
        "    \n",
        "    'Day-1':preds[0],\n",
        "    'Day-2':preds[1],\n",
        "    'Day-3':preds[2],\n",
        "    'Day-4':preds[3],\n",
        "    'Day-5':preds[4],\n",
        "    'Day-6':preds[5],\n",
        "    'Day-7':preds[6],\n",
        "    'MSE': mse\n",
        "}"
      ],
      "execution_count": 14,
      "outputs": []
    },
    {
      "cell_type": "code",
      "metadata": {
        "id": "8lcfkFnnNKIO"
      },
      "source": [
        "import firebase_admin\n",
        "from firebase_admin import credentials\n",
        "from firebase_admin import db\n",
        "cred = credentials.Certificate(\"../config/sensors-forecasting-fc27d-firebase-adminsdk-krgvi-403182645e.json\")\n",
        "firebase_admin.initialize_app(cred,{'databaseURL':'https://sensors-forecasting-fc27d-default-rtdb.firebaseio.com/'})\n",
        "ref = db.reference(\"/Models/fbProphet\")\n",
        "upload_ref = ref.child('Temperature')\n",
        "upload_ref.update(forecasting)"
      ],
      "execution_count": null,
      "outputs": []
    }
  ]
}