{
  "nbformat": 4,
  "nbformat_minor": 0,
  "metadata": {
    "colab": {
      "name": "gas.ipynb",
      "provenance": [],
      "collapsed_sections": []
    },
    "kernelspec": {
      "name": "python3",
      "display_name": "Python 3"
    },
    "language_info": {
      "name": "python"
    }
  },
  "cells": [
    {
      "cell_type": "code",
      "metadata": {
        "id": "0_pDud-Ka4oy"
      },
      "source": [
        "import fbprophet\n",
        "import pandas as pd\n",
        "import matplotlib.pyplot as plt\n",
        "%matplotlib inline"
      ],
      "execution_count": 1,
      "outputs": []
    },
    {
      "cell_type": "code",
      "metadata": {
        "colab": {
          "base_uri": "https://localhost:8080/",
          "height": 419
        },
        "id": "smDgosRobNoB",
        "outputId": "cd043770-27b1-4129-c7fe-93f501fba875"
      },
      "source": [
        "df = pd.read_excel(\"/content/gas.xlsx\")\n",
        "df = df[['Sensor Value']]\n",
        "df"
      ],
      "execution_count": 2,
      "outputs": [
        {
          "output_type": "execute_result",
          "data": {
            "text/html": [
              "<div>\n",
              "<style scoped>\n",
              "    .dataframe tbody tr th:only-of-type {\n",
              "        vertical-align: middle;\n",
              "    }\n",
              "\n",
              "    .dataframe tbody tr th {\n",
              "        vertical-align: top;\n",
              "    }\n",
              "\n",
              "    .dataframe thead th {\n",
              "        text-align: right;\n",
              "    }\n",
              "</style>\n",
              "<table border=\"1\" class=\"dataframe\">\n",
              "  <thead>\n",
              "    <tr style=\"text-align: right;\">\n",
              "      <th></th>\n",
              "      <th>Sensor Value</th>\n",
              "    </tr>\n",
              "  </thead>\n",
              "  <tbody>\n",
              "    <tr>\n",
              "      <th>0</th>\n",
              "      <td>53</td>\n",
              "    </tr>\n",
              "    <tr>\n",
              "      <th>1</th>\n",
              "      <td>54</td>\n",
              "    </tr>\n",
              "    <tr>\n",
              "      <th>2</th>\n",
              "      <td>53</td>\n",
              "    </tr>\n",
              "    <tr>\n",
              "      <th>3</th>\n",
              "      <td>53</td>\n",
              "    </tr>\n",
              "    <tr>\n",
              "      <th>4</th>\n",
              "      <td>53</td>\n",
              "    </tr>\n",
              "    <tr>\n",
              "      <th>...</th>\n",
              "      <td>...</td>\n",
              "    </tr>\n",
              "    <tr>\n",
              "      <th>1157</th>\n",
              "      <td>93</td>\n",
              "    </tr>\n",
              "    <tr>\n",
              "      <th>1158</th>\n",
              "      <td>96</td>\n",
              "    </tr>\n",
              "    <tr>\n",
              "      <th>1159</th>\n",
              "      <td>93</td>\n",
              "    </tr>\n",
              "    <tr>\n",
              "      <th>1160</th>\n",
              "      <td>93</td>\n",
              "    </tr>\n",
              "    <tr>\n",
              "      <th>1161</th>\n",
              "      <td>92</td>\n",
              "    </tr>\n",
              "  </tbody>\n",
              "</table>\n",
              "<p>1162 rows × 1 columns</p>\n",
              "</div>"
            ],
            "text/plain": [
              "      Sensor Value\n",
              "0               53\n",
              "1               54\n",
              "2               53\n",
              "3               53\n",
              "4               53\n",
              "...            ...\n",
              "1157            93\n",
              "1158            96\n",
              "1159            93\n",
              "1160            93\n",
              "1161            92\n",
              "\n",
              "[1162 rows x 1 columns]"
            ]
          },
          "metadata": {
            "tags": []
          },
          "execution_count": 2
        }
      ]
    },
    {
      "cell_type": "code",
      "metadata": {
        "colab": {
          "base_uri": "https://localhost:8080/",
          "height": 419
        },
        "id": "DIjf7Xn7bTdB",
        "outputId": "e73b39da-f80a-42fe-998a-14fa8c0c0505"
      },
      "source": [
        "Days = pd.date_range(start=\"2017-09-07\",end=\"2020-06-25\")\n",
        "dataframe = pd.DataFrame()\n",
        "dataframe['ds'] = Days\n",
        "dataframe['ds'] = dataframe['ds'].dt.date\n",
        "dataframe['y'] = df[['Sensor Value']]\n",
        "dataframe"
      ],
      "execution_count": 3,
      "outputs": [
        {
          "output_type": "execute_result",
          "data": {
            "text/html": [
              "<div>\n",
              "<style scoped>\n",
              "    .dataframe tbody tr th:only-of-type {\n",
              "        vertical-align: middle;\n",
              "    }\n",
              "\n",
              "    .dataframe tbody tr th {\n",
              "        vertical-align: top;\n",
              "    }\n",
              "\n",
              "    .dataframe thead th {\n",
              "        text-align: right;\n",
              "    }\n",
              "</style>\n",
              "<table border=\"1\" class=\"dataframe\">\n",
              "  <thead>\n",
              "    <tr style=\"text-align: right;\">\n",
              "      <th></th>\n",
              "      <th>ds</th>\n",
              "      <th>y</th>\n",
              "    </tr>\n",
              "  </thead>\n",
              "  <tbody>\n",
              "    <tr>\n",
              "      <th>0</th>\n",
              "      <td>2017-09-07</td>\n",
              "      <td>53</td>\n",
              "    </tr>\n",
              "    <tr>\n",
              "      <th>1</th>\n",
              "      <td>2017-09-08</td>\n",
              "      <td>54</td>\n",
              "    </tr>\n",
              "    <tr>\n",
              "      <th>2</th>\n",
              "      <td>2017-09-09</td>\n",
              "      <td>53</td>\n",
              "    </tr>\n",
              "    <tr>\n",
              "      <th>3</th>\n",
              "      <td>2017-09-10</td>\n",
              "      <td>53</td>\n",
              "    </tr>\n",
              "    <tr>\n",
              "      <th>4</th>\n",
              "      <td>2017-09-11</td>\n",
              "      <td>53</td>\n",
              "    </tr>\n",
              "    <tr>\n",
              "      <th>...</th>\n",
              "      <td>...</td>\n",
              "      <td>...</td>\n",
              "    </tr>\n",
              "    <tr>\n",
              "      <th>1018</th>\n",
              "      <td>2020-06-21</td>\n",
              "      <td>114</td>\n",
              "    </tr>\n",
              "    <tr>\n",
              "      <th>1019</th>\n",
              "      <td>2020-06-22</td>\n",
              "      <td>114</td>\n",
              "    </tr>\n",
              "    <tr>\n",
              "      <th>1020</th>\n",
              "      <td>2020-06-23</td>\n",
              "      <td>114</td>\n",
              "    </tr>\n",
              "    <tr>\n",
              "      <th>1021</th>\n",
              "      <td>2020-06-24</td>\n",
              "      <td>113</td>\n",
              "    </tr>\n",
              "    <tr>\n",
              "      <th>1022</th>\n",
              "      <td>2020-06-25</td>\n",
              "      <td>113</td>\n",
              "    </tr>\n",
              "  </tbody>\n",
              "</table>\n",
              "<p>1023 rows × 2 columns</p>\n",
              "</div>"
            ],
            "text/plain": [
              "              ds    y\n",
              "0     2017-09-07   53\n",
              "1     2017-09-08   54\n",
              "2     2017-09-09   53\n",
              "3     2017-09-10   53\n",
              "4     2017-09-11   53\n",
              "...          ...  ...\n",
              "1018  2020-06-21  114\n",
              "1019  2020-06-22  114\n",
              "1020  2020-06-23  114\n",
              "1021  2020-06-24  113\n",
              "1022  2020-06-25  113\n",
              "\n",
              "[1023 rows x 2 columns]"
            ]
          },
          "metadata": {
            "tags": []
          },
          "execution_count": 3
        }
      ]
    },
    {
      "cell_type": "code",
      "metadata": {
        "colab": {
          "base_uri": "https://localhost:8080/",
          "height": 282
        },
        "id": "h_ZbO8iVbTfW",
        "outputId": "ae2a836a-917d-411c-89db-b0560aad355c"
      },
      "source": [
        "dataframe.plot()"
      ],
      "execution_count": 4,
      "outputs": [
        {
          "output_type": "execute_result",
          "data": {
            "text/plain": [
              "<matplotlib.axes._subplots.AxesSubplot at 0x7fb0e3071090>"
            ]
          },
          "metadata": {
            "tags": []
          },
          "execution_count": 4
        },
        {
          "output_type": "display_data",
          "data": {
            "image/png": "[encoded data removed]",
            "text/plain": [
              "<Figure size 432x288 with 1 Axes>"
            ]
          },
          "metadata": {
            "tags": [],
            "needs_background": "light"
          }
        }
      ]
    },
    {
      "cell_type": "code",
      "metadata": {
        "id": "2STLM0DMbTh3"
      },
      "source": [
        "from fbprophet import Prophet\n",
        "size = (70/100) * len(dataframe)\n",
        "train = dataframe[0:int(size)]\n",
        "test = dataframe[int(size):]\n",
        "model = Prophet()"
      ],
      "execution_count": 5,
      "outputs": []
    },
    {
      "cell_type": "code",
      "metadata": {
        "colab": {
          "base_uri": "https://localhost:8080/"
        },
        "id": "KR5E3-2JbTkH",
        "outputId": "a9c4fb7e-18f2-4e3e-8e0e-f25a9c85696c"
      },
      "source": [
        "model.fit(train)"
      ],
      "execution_count": 6,
      "outputs": [
        {
          "output_type": "stream",
          "text": [
            "INFO:numexpr.utils:NumExpr defaulting to 2 threads.\n",
            "INFO:fbprophet:Disabling yearly seasonality. Run prophet with yearly_seasonality=True to override this.\n",
            "INFO:fbprophet:Disabling daily seasonality. Run prophet with daily_seasonality=True to override this.\n"
          ],
          "name": "stderr"
        },
        {
          "output_type": "execute_result",
          "data": {
            "text/plain": [
              "<fbprophet.forecaster.Prophet at 0x7fb0e2fcc210>"
            ]
          },
          "metadata": {
            "tags": []
          },
          "execution_count": 6
        }
      ]
    },
    {
      "cell_type": "code",
      "metadata": {
        "colab": {
          "base_uri": "https://localhost:8080/"
        },
        "id": "ehu6Psn-bTmR",
        "outputId": "5390272c-cfd9-46de-a06c-fd94ccaa4066"
      },
      "source": [
        "model.component_modes"
      ],
      "execution_count": 7,
      "outputs": [
        {
          "output_type": "execute_result",
          "data": {
            "text/plain": [
              "{'additive': ['weekly',\n",
              "  'additive_terms',\n",
              "  'extra_regressors_additive',\n",
              "  'holidays'],\n",
              " 'multiplicative': ['multiplicative_terms', 'extra_regressors_multiplicative']}"
            ]
          },
          "metadata": {
            "tags": []
          },
          "execution_count": 7
        }
      ]
    },
    {
      "cell_type": "code",
      "metadata": {
        "colab": {
          "base_uri": "https://localhost:8080/",
          "height": 609
        },
        "id": "4ATKdfcvbToS",
        "outputId": "79cff4b4-c30f-4596-fd78-72006131664c"
      },
      "source": [
        "futureDates = model.make_future_dataframe(periods=len(test))\n",
        "predictions = model.predict(futureDates)\n",
        "predictions = predictions.tail(len(test))\n",
        "predictions"
      ],
      "execution_count": 8,
      "outputs": [
        {
          "output_type": "execute_result",
          "data": {
            "text/html": [
              "<div>\n",
              "<style scoped>\n",
              "    .dataframe tbody tr th:only-of-type {\n",
              "        vertical-align: middle;\n",
              "    }\n",
              "\n",
              "    .dataframe tbody tr th {\n",
              "        vertical-align: top;\n",
              "    }\n",
              "\n",
              "    .dataframe thead th {\n",
              "        text-align: right;\n",
              "    }\n",
              "</style>\n",
              "<table border=\"1\" class=\"dataframe\">\n",
              "  <thead>\n",
              "    <tr style=\"text-align: right;\">\n",
              "      <th></th>\n",
              "      <th>ds</th>\n",
              "      <th>trend</th>\n",
              "      <th>yhat_lower</th>\n",
              "      <th>yhat_upper</th>\n",
              "      <th>trend_lower</th>\n",
              "      <th>trend_upper</th>\n",
              "      <th>additive_terms</th>\n",
              "      <th>additive_terms_lower</th>\n",
              "      <th>additive_terms_upper</th>\n",
              "      <th>weekly</th>\n",
              "      <th>weekly_lower</th>\n",
              "      <th>weekly_upper</th>\n",
              "      <th>multiplicative_terms</th>\n",
              "      <th>multiplicative_terms_lower</th>\n",
              "      <th>multiplicative_terms_upper</th>\n",
              "      <th>yhat</th>\n",
              "    </tr>\n",
              "  </thead>\n",
              "  <tbody>\n",
              "    <tr>\n",
              "      <th>716</th>\n",
              "      <td>2019-08-24</td>\n",
              "      <td>49.511016</td>\n",
              "      <td>35.882982</td>\n",
              "      <td>61.839938</td>\n",
              "      <td>49.511016</td>\n",
              "      <td>49.511016</td>\n",
              "      <td>-0.481402</td>\n",
              "      <td>-0.481402</td>\n",
              "      <td>-0.481402</td>\n",
              "      <td>-0.481402</td>\n",
              "      <td>-0.481402</td>\n",
              "      <td>-0.481402</td>\n",
              "      <td>0.0</td>\n",
              "      <td>0.0</td>\n",
              "      <td>0.0</td>\n",
              "      <td>49.029613</td>\n",
              "    </tr>\n",
              "    <tr>\n",
              "      <th>717</th>\n",
              "      <td>2019-08-25</td>\n",
              "      <td>49.490533</td>\n",
              "      <td>35.649847</td>\n",
              "      <td>61.757282</td>\n",
              "      <td>49.490533</td>\n",
              "      <td>49.490533</td>\n",
              "      <td>-0.932378</td>\n",
              "      <td>-0.932378</td>\n",
              "      <td>-0.932378</td>\n",
              "      <td>-0.932378</td>\n",
              "      <td>-0.932378</td>\n",
              "      <td>-0.932378</td>\n",
              "      <td>0.0</td>\n",
              "      <td>0.0</td>\n",
              "      <td>0.0</td>\n",
              "      <td>48.558155</td>\n",
              "    </tr>\n",
              "    <tr>\n",
              "      <th>718</th>\n",
              "      <td>2019-08-26</td>\n",
              "      <td>49.470050</td>\n",
              "      <td>36.577719</td>\n",
              "      <td>62.982293</td>\n",
              "      <td>49.470050</td>\n",
              "      <td>49.470050</td>\n",
              "      <td>0.662151</td>\n",
              "      <td>0.662151</td>\n",
              "      <td>0.662151</td>\n",
              "      <td>0.662151</td>\n",
              "      <td>0.662151</td>\n",
              "      <td>0.662151</td>\n",
              "      <td>0.0</td>\n",
              "      <td>0.0</td>\n",
              "      <td>0.0</td>\n",
              "      <td>50.132201</td>\n",
              "    </tr>\n",
              "    <tr>\n",
              "      <th>719</th>\n",
              "      <td>2019-08-27</td>\n",
              "      <td>49.449567</td>\n",
              "      <td>36.434705</td>\n",
              "      <td>62.994728</td>\n",
              "      <td>49.449567</td>\n",
              "      <td>49.449567</td>\n",
              "      <td>-0.072731</td>\n",
              "      <td>-0.072731</td>\n",
              "      <td>-0.072731</td>\n",
              "      <td>-0.072731</td>\n",
              "      <td>-0.072731</td>\n",
              "      <td>-0.072731</td>\n",
              "      <td>0.0</td>\n",
              "      <td>0.0</td>\n",
              "      <td>0.0</td>\n",
              "      <td>49.376836</td>\n",
              "    </tr>\n",
              "    <tr>\n",
              "      <th>720</th>\n",
              "      <td>2019-08-28</td>\n",
              "      <td>49.429084</td>\n",
              "      <td>37.290452</td>\n",
              "      <td>62.973657</td>\n",
              "      <td>49.429084</td>\n",
              "      <td>49.429084</td>\n",
              "      <td>0.718792</td>\n",
              "      <td>0.718792</td>\n",
              "      <td>0.718792</td>\n",
              "      <td>0.718792</td>\n",
              "      <td>0.718792</td>\n",
              "      <td>0.718792</td>\n",
              "      <td>0.0</td>\n",
              "      <td>0.0</td>\n",
              "      <td>0.0</td>\n",
              "      <td>50.147877</td>\n",
              "    </tr>\n",
              "    <tr>\n",
              "      <th>...</th>\n",
              "      <td>...</td>\n",
              "      <td>...</td>\n",
              "      <td>...</td>\n",
              "      <td>...</td>\n",
              "      <td>...</td>\n",
              "      <td>...</td>\n",
              "      <td>...</td>\n",
              "      <td>...</td>\n",
              "      <td>...</td>\n",
              "      <td>...</td>\n",
              "      <td>...</td>\n",
              "      <td>...</td>\n",
              "      <td>...</td>\n",
              "      <td>...</td>\n",
              "      <td>...</td>\n",
              "      <td>...</td>\n",
              "    </tr>\n",
              "    <tr>\n",
              "      <th>1018</th>\n",
              "      <td>2020-06-21</td>\n",
              "      <td>43.325203</td>\n",
              "      <td>21.884795</td>\n",
              "      <td>62.128749</td>\n",
              "      <td>27.964510</td>\n",
              "      <td>58.298293</td>\n",
              "      <td>-0.932378</td>\n",
              "      <td>-0.932378</td>\n",
              "      <td>-0.932378</td>\n",
              "      <td>-0.932378</td>\n",
              "      <td>-0.932378</td>\n",
              "      <td>-0.932378</td>\n",
              "      <td>0.0</td>\n",
              "      <td>0.0</td>\n",
              "      <td>0.0</td>\n",
              "      <td>42.392825</td>\n",
              "    </tr>\n",
              "    <tr>\n",
              "      <th>1019</th>\n",
              "      <td>2020-06-22</td>\n",
              "      <td>43.304720</td>\n",
              "      <td>22.513201</td>\n",
              "      <td>65.064979</td>\n",
              "      <td>27.871020</td>\n",
              "      <td>58.329967</td>\n",
              "      <td>0.662151</td>\n",
              "      <td>0.662151</td>\n",
              "      <td>0.662151</td>\n",
              "      <td>0.662151</td>\n",
              "      <td>0.662151</td>\n",
              "      <td>0.662151</td>\n",
              "      <td>0.0</td>\n",
              "      <td>0.0</td>\n",
              "      <td>0.0</td>\n",
              "      <td>43.966871</td>\n",
              "    </tr>\n",
              "    <tr>\n",
              "      <th>1020</th>\n",
              "      <td>2020-06-23</td>\n",
              "      <td>43.284237</td>\n",
              "      <td>22.729378</td>\n",
              "      <td>63.931857</td>\n",
              "      <td>27.734992</td>\n",
              "      <td>58.361641</td>\n",
              "      <td>-0.072731</td>\n",
              "      <td>-0.072731</td>\n",
              "      <td>-0.072731</td>\n",
              "      <td>-0.072731</td>\n",
              "      <td>-0.072731</td>\n",
              "      <td>-0.072731</td>\n",
              "      <td>0.0</td>\n",
              "      <td>0.0</td>\n",
              "      <td>0.0</td>\n",
              "      <td>43.211507</td>\n",
              "    </tr>\n",
              "    <tr>\n",
              "      <th>1021</th>\n",
              "      <td>2020-06-24</td>\n",
              "      <td>43.263754</td>\n",
              "      <td>22.439478</td>\n",
              "      <td>64.374887</td>\n",
              "      <td>27.621807</td>\n",
              "      <td>58.409431</td>\n",
              "      <td>0.718792</td>\n",
              "      <td>0.718792</td>\n",
              "      <td>0.718792</td>\n",
              "      <td>0.718792</td>\n",
              "      <td>0.718792</td>\n",
              "      <td>0.718792</td>\n",
              "      <td>0.0</td>\n",
              "      <td>0.0</td>\n",
              "      <td>0.0</td>\n",
              "      <td>43.982547</td>\n",
              "    </tr>\n",
              "    <tr>\n",
              "      <th>1022</th>\n",
              "      <td>2020-06-25</td>\n",
              "      <td>43.243272</td>\n",
              "      <td>21.913274</td>\n",
              "      <td>64.379066</td>\n",
              "      <td>27.529286</td>\n",
              "      <td>58.456645</td>\n",
              "      <td>0.294799</td>\n",
              "      <td>0.294799</td>\n",
              "      <td>0.294799</td>\n",
              "      <td>0.294799</td>\n",
              "      <td>0.294799</td>\n",
              "      <td>0.294799</td>\n",
              "      <td>0.0</td>\n",
              "      <td>0.0</td>\n",
              "      <td>0.0</td>\n",
              "      <td>43.538071</td>\n",
              "    </tr>\n",
              "  </tbody>\n",
              "</table>\n",
              "<p>307 rows × 16 columns</p>\n",
              "</div>"
            ],
            "text/plain": [
              "             ds      trend  ...  multiplicative_terms_upper       yhat\n",
              "716  2019-08-24  49.511016  ...                         0.0  49.029613\n",
              "717  2019-08-25  49.490533  ...                         0.0  48.558155\n",
              "718  2019-08-26  49.470050  ...                         0.0  50.132201\n",
              "719  2019-08-27  49.449567  ...                         0.0  49.376836\n",
              "720  2019-08-28  49.429084  ...                         0.0  50.147877\n",
              "...         ...        ...  ...                         ...        ...\n",
              "1018 2020-06-21  43.325203  ...                         0.0  42.392825\n",
              "1019 2020-06-22  43.304720  ...                         0.0  43.966871\n",
              "1020 2020-06-23  43.284237  ...                         0.0  43.211507\n",
              "1021 2020-06-24  43.263754  ...                         0.0  43.982547\n",
              "1022 2020-06-25  43.243272  ...                         0.0  43.538071\n",
              "\n",
              "[307 rows x 16 columns]"
            ]
          },
          "metadata": {
            "tags": []
          },
          "execution_count": 8
        }
      ]
    },
    {
      "cell_type": "code",
      "metadata": {
        "colab": {
          "base_uri": "https://localhost:8080/"
        },
        "id": "Rg9ExiI0bTqT",
        "outputId": "e6bfb6e0-6c97-40d0-c7ee-653a4bddc542"
      },
      "source": [
        "from sklearn.metrics import mean_squared_error\n",
        "mse = mean_squared_error(test[['y']],predictions[['yhat']])\n",
        "mse"
      ],
      "execution_count": 10,
      "outputs": [
        {
          "output_type": "execute_result",
          "data": {
            "text/plain": [
              "491.0193972213114"
            ]
          },
          "metadata": {
            "tags": []
          },
          "execution_count": 10
        }
      ]
    },
    {
      "cell_type": "code",
      "metadata": {
        "id": "s3vq7BVjcSfs"
      },
      "source": [
        "import pickle\n",
        "import pickle\n",
        "with open('/content/gas_model_fbprohpet.pkl', 'wb') as fid:\n",
        "    pickle.dump(model, fid)"
      ],
      "execution_count": 11,
      "outputs": []
    },
    {
      "cell_type": "code",
      "metadata": {
        "id": "6-oq8GhkbTtn"
      },
      "source": [
        "preds = predictions['yhat'].tolist()"
      ],
      "execution_count": 12,
      "outputs": []
    },
    {
      "cell_type": "code",
      "metadata": {
        "id": "kMCr2ZVhIpBB"
      },
      "source": [
        "forecasting={\n",
        "    \n",
        "    'Day-1':preds[0],\n",
        "    'Day-2':preds[1],\n",
        "    'Day-3':preds[2],\n",
        "    'Day-4':preds[3],\n",
        "    'Day-5':preds[4],\n",
        "    'Day-6':preds[5],\n",
        "    'Day-7':preds[6],\n",
        "    'MSE': mse\n",
        "}"
      ],
      "execution_count": 13,
      "outputs": []
    },
    {
      "cell_type": "code",
      "metadata": {
        "id": "ilbf6WyTItP4"
      },
      "source": [
        "import firebase_admin\n",
        "from firebase_admin import credentials\n",
        "from firebase_admin import db\n",
        "cred = credentials.Certificate(\"../content/sensors-forecasting-fc27d-firebase-adminsdk-krgvi-403182645e.json\")\n",
        "firebase_admin.initialize_app(cred,{'databaseURL':'https://sensors-forecasting-fc27d-default-rtdb.firebaseio.com/'})\n",
        "ref = db.reference(\"/Models/fbProphet\")\n",
        "upload_ref = ref.child('SuiGas')\n",
        "upload_ref.update(forecasting)"
      ],
      "execution_count": 14,
      "outputs": []
    }
  ]
}