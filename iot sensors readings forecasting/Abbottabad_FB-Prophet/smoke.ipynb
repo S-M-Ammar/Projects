{
  "nbformat": 4,
  "nbformat_minor": 0,
  "metadata": {
    "colab": {
      "name": "smoke.ipynb",
      "provenance": [],
      "collapsed_sections": []
    },
    "kernelspec": {
      "name": "python3",
      "display_name": "Python 3"
    },
    "language_info": {
      "name": "python"
    }
  },
  "cells": [
    {
      "cell_type": "code",
      "metadata": {
        "id": "0_pDud-Ka4oy"
      },
      "source": [
        "import fbprophet\n",
        "import pandas as pd\n",
        "import matplotlib.pyplot as plt\n",
        "%matplotlib inline"
      ],
      "execution_count": 1,
      "outputs": []
    },
    {
      "cell_type": "code",
      "metadata": {
        "colab": {
          "base_uri": "https://localhost:8080/",
          "height": 419
        },
        "id": "smDgosRobNoB",
        "outputId": "0977123e-9034-492c-b712-d1ae0404cb6a"
      },
      "source": [
        "df = pd.read_excel(\"/content/smoke.xlsx\")\n",
        "df = df[['Sensor Value']]\n",
        "df"
      ],
      "execution_count": 2,
      "outputs": [
        {
          "output_type": "execute_result",
          "data": {
            "text/html": [
              "<div>\n",
              "<style scoped>\n",
              "    .dataframe tbody tr th:only-of-type {\n",
              "        vertical-align: middle;\n",
              "    }\n",
              "\n",
              "    .dataframe tbody tr th {\n",
              "        vertical-align: top;\n",
              "    }\n",
              "\n",
              "    .dataframe thead th {\n",
              "        text-align: right;\n",
              "    }\n",
              "</style>\n",
              "<table border=\"1\" class=\"dataframe\">\n",
              "  <thead>\n",
              "    <tr style=\"text-align: right;\">\n",
              "      <th></th>\n",
              "      <th>Sensor Value</th>\n",
              "    </tr>\n",
              "  </thead>\n",
              "  <tbody>\n",
              "    <tr>\n",
              "      <th>0</th>\n",
              "      <td>161</td>\n",
              "    </tr>\n",
              "    <tr>\n",
              "      <th>1</th>\n",
              "      <td>160</td>\n",
              "    </tr>\n",
              "    <tr>\n",
              "      <th>2</th>\n",
              "      <td>157</td>\n",
              "    </tr>\n",
              "    <tr>\n",
              "      <th>3</th>\n",
              "      <td>153</td>\n",
              "    </tr>\n",
              "    <tr>\n",
              "      <th>4</th>\n",
              "      <td>149</td>\n",
              "    </tr>\n",
              "    <tr>\n",
              "      <th>...</th>\n",
              "      <td>...</td>\n",
              "    </tr>\n",
              "    <tr>\n",
              "      <th>1123</th>\n",
              "      <td>355</td>\n",
              "    </tr>\n",
              "    <tr>\n",
              "      <th>1124</th>\n",
              "      <td>354</td>\n",
              "    </tr>\n",
              "    <tr>\n",
              "      <th>1125</th>\n",
              "      <td>353</td>\n",
              "    </tr>\n",
              "    <tr>\n",
              "      <th>1126</th>\n",
              "      <td>352</td>\n",
              "    </tr>\n",
              "    <tr>\n",
              "      <th>1127</th>\n",
              "      <td>351</td>\n",
              "    </tr>\n",
              "  </tbody>\n",
              "</table>\n",
              "<p>1128 rows × 1 columns</p>\n",
              "</div>"
            ],
            "text/plain": [
              "      Sensor Value\n",
              "0              161\n",
              "1              160\n",
              "2              157\n",
              "3              153\n",
              "4              149\n",
              "...            ...\n",
              "1123           355\n",
              "1124           354\n",
              "1125           353\n",
              "1126           352\n",
              "1127           351\n",
              "\n",
              "[1128 rows x 1 columns]"
            ]
          },
          "metadata": {
            "tags": []
          },
          "execution_count": 2
        }
      ]
    },
    {
      "cell_type": "code",
      "metadata": {
        "colab": {
          "base_uri": "https://localhost:8080/",
          "height": 419
        },
        "id": "DIjf7Xn7bTdB",
        "outputId": "e894bf65-c3b2-4cdd-8a2e-54e41639ba39"
      },
      "source": [
        "Days = pd.date_range(start=\"2017-09-07\",end=\"2020-06-25\")\n",
        "dataframe = pd.DataFrame()\n",
        "dataframe['ds'] = Days\n",
        "dataframe['ds'] = dataframe['ds'].dt.date\n",
        "dataframe['y'] = df[['Sensor Value']]\n",
        "dataframe"
      ],
      "execution_count": 3,
      "outputs": [
        {
          "output_type": "execute_result",
          "data": {
            "text/html": [
              "<div>\n",
              "<style scoped>\n",
              "    .dataframe tbody tr th:only-of-type {\n",
              "        vertical-align: middle;\n",
              "    }\n",
              "\n",
              "    .dataframe tbody tr th {\n",
              "        vertical-align: top;\n",
              "    }\n",
              "\n",
              "    .dataframe thead th {\n",
              "        text-align: right;\n",
              "    }\n",
              "</style>\n",
              "<table border=\"1\" class=\"dataframe\">\n",
              "  <thead>\n",
              "    <tr style=\"text-align: right;\">\n",
              "      <th></th>\n",
              "      <th>ds</th>\n",
              "      <th>y</th>\n",
              "    </tr>\n",
              "  </thead>\n",
              "  <tbody>\n",
              "    <tr>\n",
              "      <th>0</th>\n",
              "      <td>2017-09-07</td>\n",
              "      <td>161</td>\n",
              "    </tr>\n",
              "    <tr>\n",
              "      <th>1</th>\n",
              "      <td>2017-09-08</td>\n",
              "      <td>160</td>\n",
              "    </tr>\n",
              "    <tr>\n",
              "      <th>2</th>\n",
              "      <td>2017-09-09</td>\n",
              "      <td>157</td>\n",
              "    </tr>\n",
              "    <tr>\n",
              "      <th>3</th>\n",
              "      <td>2017-09-10</td>\n",
              "      <td>153</td>\n",
              "    </tr>\n",
              "    <tr>\n",
              "      <th>4</th>\n",
              "      <td>2017-09-11</td>\n",
              "      <td>149</td>\n",
              "    </tr>\n",
              "    <tr>\n",
              "      <th>...</th>\n",
              "      <td>...</td>\n",
              "      <td>...</td>\n",
              "    </tr>\n",
              "    <tr>\n",
              "      <th>1018</th>\n",
              "      <td>2020-06-21</td>\n",
              "      <td>376</td>\n",
              "    </tr>\n",
              "    <tr>\n",
              "      <th>1019</th>\n",
              "      <td>2020-06-22</td>\n",
              "      <td>376</td>\n",
              "    </tr>\n",
              "    <tr>\n",
              "      <th>1020</th>\n",
              "      <td>2020-06-23</td>\n",
              "      <td>375</td>\n",
              "    </tr>\n",
              "    <tr>\n",
              "      <th>1021</th>\n",
              "      <td>2020-06-24</td>\n",
              "      <td>375</td>\n",
              "    </tr>\n",
              "    <tr>\n",
              "      <th>1022</th>\n",
              "      <td>2020-06-25</td>\n",
              "      <td>373</td>\n",
              "    </tr>\n",
              "  </tbody>\n",
              "</table>\n",
              "<p>1023 rows × 2 columns</p>\n",
              "</div>"
            ],
            "text/plain": [
              "              ds    y\n",
              "0     2017-09-07  161\n",
              "1     2017-09-08  160\n",
              "2     2017-09-09  157\n",
              "3     2017-09-10  153\n",
              "4     2017-09-11  149\n",
              "...          ...  ...\n",
              "1018  2020-06-21  376\n",
              "1019  2020-06-22  376\n",
              "1020  2020-06-23  375\n",
              "1021  2020-06-24  375\n",
              "1022  2020-06-25  373\n",
              "\n",
              "[1023 rows x 2 columns]"
            ]
          },
          "metadata": {
            "tags": []
          },
          "execution_count": 3
        }
      ]
    },
    {
      "cell_type": "code",
      "metadata": {
        "colab": {
          "base_uri": "https://localhost:8080/",
          "height": 282
        },
        "id": "h_ZbO8iVbTfW",
        "outputId": "653743b0-2947-484d-a357-f650748826a0"
      },
      "source": [
        "dataframe.plot()"
      ],
      "execution_count": 4,
      "outputs": [
        {
          "output_type": "execute_result",
          "data": {
            "text/plain": [
              "<matplotlib.axes._subplots.AxesSubplot at 0x7f0b5e1e5ed0>"
            ]
          },
          "metadata": {
            "tags": []
          },
          "execution_count": 4
        },
        {
          "output_type": "display_data",
          "data": {
            "image/png": "[encoded data removed]",
            "text/plain": [
              "<Figure size 432x288 with 1 Axes>"
            ]
          },
          "metadata": {
            "tags": [],
            "needs_background": "light"
          }
        }
      ]
    },
    {
      "cell_type": "code",
      "metadata": {
        "id": "2STLM0DMbTh3"
      },
      "source": [
        "from fbprophet import Prophet\n",
        "size = (70/100) * len(dataframe)\n",
        "train = dataframe[0:int(size)]\n",
        "test = dataframe[int(size):]\n",
        "model = Prophet()"
      ],
      "execution_count": 5,
      "outputs": []
    },
    {
      "cell_type": "code",
      "metadata": {
        "colab": {
          "base_uri": "https://localhost:8080/"
        },
        "id": "KR5E3-2JbTkH",
        "outputId": "2e56445c-0b52-462c-aa45-49f3018ed7b0"
      },
      "source": [
        "model.fit(train)"
      ],
      "execution_count": 6,
      "outputs": [
        {
          "output_type": "stream",
          "text": [
            "INFO:numexpr.utils:NumExpr defaulting to 2 threads.\n",
            "INFO:fbprophet:Disabling yearly seasonality. Run prophet with yearly_seasonality=True to override this.\n",
            "INFO:fbprophet:Disabling daily seasonality. Run prophet with daily_seasonality=True to override this.\n"
          ],
          "name": "stderr"
        },
        {
          "output_type": "execute_result",
          "data": {
            "text/plain": [
              "<fbprophet.forecaster.Prophet at 0x7f0b5e1b0610>"
            ]
          },
          "metadata": {
            "tags": []
          },
          "execution_count": 6
        }
      ]
    },
    {
      "cell_type": "code",
      "metadata": {
        "colab": {
          "base_uri": "https://localhost:8080/"
        },
        "id": "ehu6Psn-bTmR",
        "outputId": "56c09a4a-e9ac-4f56-c5ba-3f51b8a69ffa"
      },
      "source": [
        "model.component_modes"
      ],
      "execution_count": 7,
      "outputs": [
        {
          "output_type": "execute_result",
          "data": {
            "text/plain": [
              "{'additive': ['weekly',\n",
              "  'additive_terms',\n",
              "  'extra_regressors_additive',\n",
              "  'holidays'],\n",
              " 'multiplicative': ['multiplicative_terms', 'extra_regressors_multiplicative']}"
            ]
          },
          "metadata": {
            "tags": []
          },
          "execution_count": 7
        }
      ]
    },
    {
      "cell_type": "code",
      "metadata": {
        "colab": {
          "base_uri": "https://localhost:8080/",
          "height": 609
        },
        "id": "4ATKdfcvbToS",
        "outputId": "1433df78-d86e-4f7b-8e7d-ea8431ff228a"
      },
      "source": [
        "futureDates = model.make_future_dataframe(periods=len(test))\n",
        "predictions = model.predict(futureDates)\n",
        "predictions = predictions.tail(len(test))\n",
        "predictions"
      ],
      "execution_count": 8,
      "outputs": [
        {
          "output_type": "execute_result",
          "data": {
            "text/html": [
              "<div>\n",
              "<style scoped>\n",
              "    .dataframe tbody tr th:only-of-type {\n",
              "        vertical-align: middle;\n",
              "    }\n",
              "\n",
              "    .dataframe tbody tr th {\n",
              "        vertical-align: top;\n",
              "    }\n",
              "\n",
              "    .dataframe thead th {\n",
              "        text-align: right;\n",
              "    }\n",
              "</style>\n",
              "<table border=\"1\" class=\"dataframe\">\n",
              "  <thead>\n",
              "    <tr style=\"text-align: right;\">\n",
              "      <th></th>\n",
              "      <th>ds</th>\n",
              "      <th>trend</th>\n",
              "      <th>yhat_lower</th>\n",
              "      <th>yhat_upper</th>\n",
              "      <th>trend_lower</th>\n",
              "      <th>trend_upper</th>\n",
              "      <th>additive_terms</th>\n",
              "      <th>additive_terms_lower</th>\n",
              "      <th>additive_terms_upper</th>\n",
              "      <th>weekly</th>\n",
              "      <th>weekly_lower</th>\n",
              "      <th>weekly_upper</th>\n",
              "      <th>multiplicative_terms</th>\n",
              "      <th>multiplicative_terms_lower</th>\n",
              "      <th>multiplicative_terms_upper</th>\n",
              "      <th>yhat</th>\n",
              "    </tr>\n",
              "  </thead>\n",
              "  <tbody>\n",
              "    <tr>\n",
              "      <th>716</th>\n",
              "      <td>2019-08-24</td>\n",
              "      <td>217.644808</td>\n",
              "      <td>180.371280</td>\n",
              "      <td>256.409842</td>\n",
              "      <td>217.644808</td>\n",
              "      <td>217.644808</td>\n",
              "      <td>-1.505220</td>\n",
              "      <td>-1.505220</td>\n",
              "      <td>-1.505220</td>\n",
              "      <td>-1.505220</td>\n",
              "      <td>-1.505220</td>\n",
              "      <td>-1.505220</td>\n",
              "      <td>0.0</td>\n",
              "      <td>0.0</td>\n",
              "      <td>0.0</td>\n",
              "      <td>216.139587</td>\n",
              "    </tr>\n",
              "    <tr>\n",
              "      <th>717</th>\n",
              "      <td>2019-08-25</td>\n",
              "      <td>217.566574</td>\n",
              "      <td>180.102892</td>\n",
              "      <td>257.700497</td>\n",
              "      <td>217.566574</td>\n",
              "      <td>217.566574</td>\n",
              "      <td>-0.782536</td>\n",
              "      <td>-0.782536</td>\n",
              "      <td>-0.782536</td>\n",
              "      <td>-0.782536</td>\n",
              "      <td>-0.782536</td>\n",
              "      <td>-0.782536</td>\n",
              "      <td>0.0</td>\n",
              "      <td>0.0</td>\n",
              "      <td>0.0</td>\n",
              "      <td>216.784038</td>\n",
              "    </tr>\n",
              "    <tr>\n",
              "      <th>718</th>\n",
              "      <td>2019-08-26</td>\n",
              "      <td>217.488340</td>\n",
              "      <td>178.856645</td>\n",
              "      <td>254.364654</td>\n",
              "      <td>217.488340</td>\n",
              "      <td>217.488340</td>\n",
              "      <td>1.920243</td>\n",
              "      <td>1.920243</td>\n",
              "      <td>1.920243</td>\n",
              "      <td>1.920243</td>\n",
              "      <td>1.920243</td>\n",
              "      <td>1.920243</td>\n",
              "      <td>0.0</td>\n",
              "      <td>0.0</td>\n",
              "      <td>0.0</td>\n",
              "      <td>219.408582</td>\n",
              "    </tr>\n",
              "    <tr>\n",
              "      <th>719</th>\n",
              "      <td>2019-08-27</td>\n",
              "      <td>217.410106</td>\n",
              "      <td>180.219765</td>\n",
              "      <td>255.325398</td>\n",
              "      <td>217.410106</td>\n",
              "      <td>217.410106</td>\n",
              "      <td>1.007282</td>\n",
              "      <td>1.007282</td>\n",
              "      <td>1.007282</td>\n",
              "      <td>1.007282</td>\n",
              "      <td>1.007282</td>\n",
              "      <td>1.007282</td>\n",
              "      <td>0.0</td>\n",
              "      <td>0.0</td>\n",
              "      <td>0.0</td>\n",
              "      <td>218.417388</td>\n",
              "    </tr>\n",
              "    <tr>\n",
              "      <th>720</th>\n",
              "      <td>2019-08-28</td>\n",
              "      <td>217.331871</td>\n",
              "      <td>176.579257</td>\n",
              "      <td>255.883261</td>\n",
              "      <td>217.331871</td>\n",
              "      <td>217.331871</td>\n",
              "      <td>-0.911512</td>\n",
              "      <td>-0.911512</td>\n",
              "      <td>-0.911512</td>\n",
              "      <td>-0.911512</td>\n",
              "      <td>-0.911512</td>\n",
              "      <td>-0.911512</td>\n",
              "      <td>0.0</td>\n",
              "      <td>0.0</td>\n",
              "      <td>0.0</td>\n",
              "      <td>216.420359</td>\n",
              "    </tr>\n",
              "    <tr>\n",
              "      <th>...</th>\n",
              "      <td>...</td>\n",
              "      <td>...</td>\n",
              "      <td>...</td>\n",
              "      <td>...</td>\n",
              "      <td>...</td>\n",
              "      <td>...</td>\n",
              "      <td>...</td>\n",
              "      <td>...</td>\n",
              "      <td>...</td>\n",
              "      <td>...</td>\n",
              "      <td>...</td>\n",
              "      <td>...</td>\n",
              "      <td>...</td>\n",
              "      <td>...</td>\n",
              "      <td>...</td>\n",
              "      <td>...</td>\n",
              "    </tr>\n",
              "    <tr>\n",
              "      <th>1018</th>\n",
              "      <td>2020-06-21</td>\n",
              "      <td>194.018103</td>\n",
              "      <td>117.932516</td>\n",
              "      <td>266.356672</td>\n",
              "      <td>131.023294</td>\n",
              "      <td>256.765077</td>\n",
              "      <td>-0.782536</td>\n",
              "      <td>-0.782536</td>\n",
              "      <td>-0.782536</td>\n",
              "      <td>-0.782536</td>\n",
              "      <td>-0.782536</td>\n",
              "      <td>-0.782536</td>\n",
              "      <td>0.0</td>\n",
              "      <td>0.0</td>\n",
              "      <td>0.0</td>\n",
              "      <td>193.235567</td>\n",
              "    </tr>\n",
              "    <tr>\n",
              "      <th>1019</th>\n",
              "      <td>2020-06-22</td>\n",
              "      <td>193.939869</td>\n",
              "      <td>120.092870</td>\n",
              "      <td>268.186876</td>\n",
              "      <td>130.806554</td>\n",
              "      <td>257.283253</td>\n",
              "      <td>1.920243</td>\n",
              "      <td>1.920243</td>\n",
              "      <td>1.920243</td>\n",
              "      <td>1.920243</td>\n",
              "      <td>1.920243</td>\n",
              "      <td>1.920243</td>\n",
              "      <td>0.0</td>\n",
              "      <td>0.0</td>\n",
              "      <td>0.0</td>\n",
              "      <td>195.860111</td>\n",
              "    </tr>\n",
              "    <tr>\n",
              "      <th>1020</th>\n",
              "      <td>2020-06-23</td>\n",
              "      <td>193.861635</td>\n",
              "      <td>120.096055</td>\n",
              "      <td>266.687305</td>\n",
              "      <td>130.501756</td>\n",
              "      <td>257.567586</td>\n",
              "      <td>1.007282</td>\n",
              "      <td>1.007282</td>\n",
              "      <td>1.007282</td>\n",
              "      <td>1.007282</td>\n",
              "      <td>1.007282</td>\n",
              "      <td>1.007282</td>\n",
              "      <td>0.0</td>\n",
              "      <td>0.0</td>\n",
              "      <td>0.0</td>\n",
              "      <td>194.868917</td>\n",
              "    </tr>\n",
              "    <tr>\n",
              "      <th>1021</th>\n",
              "      <td>2020-06-24</td>\n",
              "      <td>193.783401</td>\n",
              "      <td>118.576153</td>\n",
              "      <td>271.179581</td>\n",
              "      <td>130.128106</td>\n",
              "      <td>257.707440</td>\n",
              "      <td>-0.911512</td>\n",
              "      <td>-0.911512</td>\n",
              "      <td>-0.911512</td>\n",
              "      <td>-0.911512</td>\n",
              "      <td>-0.911512</td>\n",
              "      <td>-0.911512</td>\n",
              "      <td>0.0</td>\n",
              "      <td>0.0</td>\n",
              "      <td>0.0</td>\n",
              "      <td>192.871888</td>\n",
              "    </tr>\n",
              "    <tr>\n",
              "      <th>1022</th>\n",
              "      <td>2020-06-25</td>\n",
              "      <td>193.705166</td>\n",
              "      <td>115.380532</td>\n",
              "      <td>267.259975</td>\n",
              "      <td>129.806880</td>\n",
              "      <td>258.314344</td>\n",
              "      <td>0.736864</td>\n",
              "      <td>0.736864</td>\n",
              "      <td>0.736864</td>\n",
              "      <td>0.736864</td>\n",
              "      <td>0.736864</td>\n",
              "      <td>0.736864</td>\n",
              "      <td>0.0</td>\n",
              "      <td>0.0</td>\n",
              "      <td>0.0</td>\n",
              "      <td>194.442030</td>\n",
              "    </tr>\n",
              "  </tbody>\n",
              "</table>\n",
              "<p>307 rows × 16 columns</p>\n",
              "</div>"
            ],
            "text/plain": [
              "             ds       trend  ...  multiplicative_terms_upper        yhat\n",
              "716  2019-08-24  217.644808  ...                         0.0  216.139587\n",
              "717  2019-08-25  217.566574  ...                         0.0  216.784038\n",
              "718  2019-08-26  217.488340  ...                         0.0  219.408582\n",
              "719  2019-08-27  217.410106  ...                         0.0  218.417388\n",
              "720  2019-08-28  217.331871  ...                         0.0  216.420359\n",
              "...         ...         ...  ...                         ...         ...\n",
              "1018 2020-06-21  194.018103  ...                         0.0  193.235567\n",
              "1019 2020-06-22  193.939869  ...                         0.0  195.860111\n",
              "1020 2020-06-23  193.861635  ...                         0.0  194.868917\n",
              "1021 2020-06-24  193.783401  ...                         0.0  192.871888\n",
              "1022 2020-06-25  193.705166  ...                         0.0  194.442030\n",
              "\n",
              "[307 rows x 16 columns]"
            ]
          },
          "metadata": {
            "tags": []
          },
          "execution_count": 8
        }
      ]
    },
    {
      "cell_type": "code",
      "metadata": {
        "colab": {
          "base_uri": "https://localhost:8080/"
        },
        "id": "Rg9ExiI0bTqT",
        "outputId": "763dfff4-6aa5-4b2c-c9ac-a5714a981cef"
      },
      "source": [
        "from sklearn.metrics import mean_squared_error\n",
        "mse = mean_squared_error(test[['y']],predictions[['yhat']])\n",
        "mse"
      ],
      "execution_count": 12,
      "outputs": [
        {
          "output_type": "execute_result",
          "data": {
            "text/plain": [
              "6839.542120116311"
            ]
          },
          "metadata": {
            "tags": []
          },
          "execution_count": 12
        }
      ]
    },
    {
      "cell_type": "code",
      "metadata": {
        "id": "m6TJpn8UHevV"
      },
      "source": [
        "preds = predictions['yhat'].tolist()"
      ],
      "execution_count": 10,
      "outputs": []
    },
    {
      "cell_type": "code",
      "metadata": {
        "id": "s3vq7BVjcSfs"
      },
      "source": [
        "import pickle\n",
        "import pickle\n",
        "with open('/content/smoke_model_fbprohpet.pkl', 'wb') as fid:\n",
        "    pickle.dump(model, fid)"
      ],
      "execution_count": 11,
      "outputs": []
    },
    {
      "cell_type": "code",
      "metadata": {
        "id": "6-oq8GhkbTtn"
      },
      "source": [
        "forecasting={\n",
        "    \n",
        "    'Day-1':preds[0],\n",
        "    'Day-2':preds[1],\n",
        "    'Day-3':preds[2],\n",
        "    'Day-4':preds[3],\n",
        "    'Day-5':preds[4],\n",
        "    'Day-6':preds[5],\n",
        "    'Day-7':preds[6],\n",
        "    'MSE': mse\n",
        "}"
      ],
      "execution_count": 13,
      "outputs": []
    },
    {
      "cell_type": "code",
      "metadata": {
        "id": "kYo2h6v4HweG"
      },
      "source": [
        ""
      ],
      "execution_count": null,
      "outputs": []
    },
    {
      "cell_type": "code",
      "metadata": {
        "id": "MtzNEEmdHwge"
      },
      "source": [
        "import firebase_admin\n",
        "from firebase_admin import credentials\n",
        "from firebase_admin import db\n",
        "cred = credentials.Certificate(\"../content/sensors-forecasting-fc27d-firebase-adminsdk-krgvi-403182645e.json\")\n",
        "firebase_admin.initialize_app(cred,{'databaseURL':'https://sensors-forecasting-fc27d-default-rtdb.firebaseio.com/'})\n",
        "ref = db.reference(\"/Models/fbProphet\")\n",
        "upload_ref = ref.child('Smoke')\n",
        "upload_ref.update(forecasting)"
      ],
      "execution_count": 15,
      "outputs": []
    }
  ]
}