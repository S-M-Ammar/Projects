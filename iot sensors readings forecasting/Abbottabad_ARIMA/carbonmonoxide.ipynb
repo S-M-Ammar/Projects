{
 "cells": [
  {
   "cell_type": "code",
   "execution_count": 1,
   "metadata": {},
   "outputs": [],
   "source": [
    "\n",
    "import pandas as pd\n",
    "import numpy as np\n",
    "import matplotlib.pyplot as plt\n",
    "%matplotlib inline\n",
    "plt.rcParams[\"figure.figsize\"] = (20,10)"
   ]
  },
  {
   "cell_type": "code",
   "execution_count": 2,
   "metadata": {},
   "outputs": [
    {
     "data": {
      "text/html": [
       "<div>\n",
       "<style scoped>\n",
       "    .dataframe tbody tr th:only-of-type {\n",
       "        vertical-align: middle;\n",
       "    }\n",
       "\n",
       "    .dataframe tbody tr th {\n",
       "        vertical-align: top;\n",
       "    }\n",
       "\n",
       "    .dataframe thead th {\n",
       "        text-align: right;\n",
       "    }\n",
       "</style>\n",
       "<table border=\"1\" class=\"dataframe\">\n",
       "  <thead>\n",
       "    <tr style=\"text-align: right;\">\n",
       "      <th></th>\n",
       "      <th>Sensor Value</th>\n",
       "    </tr>\n",
       "  </thead>\n",
       "  <tbody>\n",
       "    <tr>\n",
       "      <th>0</th>\n",
       "      <td>637</td>\n",
       "    </tr>\n",
       "    <tr>\n",
       "      <th>1</th>\n",
       "      <td>637</td>\n",
       "    </tr>\n",
       "    <tr>\n",
       "      <th>2</th>\n",
       "      <td>634</td>\n",
       "    </tr>\n",
       "    <tr>\n",
       "      <th>3</th>\n",
       "      <td>637</td>\n",
       "    </tr>\n",
       "    <tr>\n",
       "      <th>4</th>\n",
       "      <td>631</td>\n",
       "    </tr>\n",
       "    <tr>\n",
       "      <th>...</th>\n",
       "      <td>...</td>\n",
       "    </tr>\n",
       "    <tr>\n",
       "      <th>1018</th>\n",
       "      <td>835</td>\n",
       "    </tr>\n",
       "    <tr>\n",
       "      <th>1019</th>\n",
       "      <td>835</td>\n",
       "    </tr>\n",
       "    <tr>\n",
       "      <th>1020</th>\n",
       "      <td>831</td>\n",
       "    </tr>\n",
       "    <tr>\n",
       "      <th>1021</th>\n",
       "      <td>831</td>\n",
       "    </tr>\n",
       "    <tr>\n",
       "      <th>1022</th>\n",
       "      <td>831</td>\n",
       "    </tr>\n",
       "  </tbody>\n",
       "</table>\n",
       "<p>1023 rows × 1 columns</p>\n",
       "</div>"
      ],
      "text/plain": [
       "      Sensor Value\n",
       "0              637\n",
       "1              637\n",
       "2              634\n",
       "3              637\n",
       "4              631\n",
       "...            ...\n",
       "1018           835\n",
       "1019           835\n",
       "1020           831\n",
       "1021           831\n",
       "1022           831\n",
       "\n",
       "[1023 rows x 1 columns]"
      ]
     },
     "execution_count": 2,
     "metadata": {},
     "output_type": "execute_result"
    }
   ],
   "source": [
    "\n",
    "df = pd.read_excel(\"../data/Abbottabad/carbon monoxide.xlsx\")\n",
    "df = df[['Sensor Value']]\n",
    "df"
   ]
  },
  {
   "cell_type": "code",
   "execution_count": 3,
   "metadata": {},
   "outputs": [
    {
     "name": "stdout",
     "output_type": "stream",
     "text": [
      "<class 'pandas.core.frame.DataFrame'>\n",
      "RangeIndex: 1023 entries, 0 to 1022\n",
      "Data columns (total 1 columns):\n",
      " #   Column        Non-Null Count  Dtype\n",
      "---  ------        --------------  -----\n",
      " 0   Sensor Value  1023 non-null   int64\n",
      "dtypes: int64(1)\n",
      "memory usage: 8.1 KB\n"
     ]
    }
   ],
   "source": [
    "df.info()"
   ]
  },
  {
   "cell_type": "code",
   "execution_count": 4,
   "metadata": {},
   "outputs": [],
   "source": [
    "\n",
    "Days = pd.date_range(start=\"2017-09-07\",end=\"2020-06-25\")"
   ]
  },
  {
   "cell_type": "code",
   "execution_count": 5,
   "metadata": {},
   "outputs": [
    {
     "data": {
      "text/plain": [
       "DatetimeIndex(['2017-09-07', '2017-09-08', '2017-09-09', '2017-09-10',\n",
       "               '2017-09-11', '2017-09-12', '2017-09-13', '2017-09-14',\n",
       "               '2017-09-15', '2017-09-16',\n",
       "               ...\n",
       "               '2020-06-16', '2020-06-17', '2020-06-18', '2020-06-19',\n",
       "               '2020-06-20', '2020-06-21', '2020-06-22', '2020-06-23',\n",
       "               '2020-06-24', '2020-06-25'],\n",
       "              dtype='datetime64[ns]', length=1023, freq='D')"
      ]
     },
     "execution_count": 5,
     "metadata": {},
     "output_type": "execute_result"
    }
   ],
   "source": [
    "Days"
   ]
  },
  {
   "cell_type": "code",
   "execution_count": 6,
   "metadata": {},
   "outputs": [
    {
     "data": {
      "text/html": [
       "<div>\n",
       "<style scoped>\n",
       "    .dataframe tbody tr th:only-of-type {\n",
       "        vertical-align: middle;\n",
       "    }\n",
       "\n",
       "    .dataframe tbody tr th {\n",
       "        vertical-align: top;\n",
       "    }\n",
       "\n",
       "    .dataframe thead th {\n",
       "        text-align: right;\n",
       "    }\n",
       "</style>\n",
       "<table border=\"1\" class=\"dataframe\">\n",
       "  <thead>\n",
       "    <tr style=\"text-align: right;\">\n",
       "      <th></th>\n",
       "      <th>ds</th>\n",
       "      <th>y</th>\n",
       "    </tr>\n",
       "  </thead>\n",
       "  <tbody>\n",
       "    <tr>\n",
       "      <th>0</th>\n",
       "      <td>2017-09-07</td>\n",
       "      <td>637</td>\n",
       "    </tr>\n",
       "    <tr>\n",
       "      <th>1</th>\n",
       "      <td>2017-09-08</td>\n",
       "      <td>637</td>\n",
       "    </tr>\n",
       "    <tr>\n",
       "      <th>2</th>\n",
       "      <td>2017-09-09</td>\n",
       "      <td>634</td>\n",
       "    </tr>\n",
       "    <tr>\n",
       "      <th>3</th>\n",
       "      <td>2017-09-10</td>\n",
       "      <td>637</td>\n",
       "    </tr>\n",
       "    <tr>\n",
       "      <th>4</th>\n",
       "      <td>2017-09-11</td>\n",
       "      <td>631</td>\n",
       "    </tr>\n",
       "    <tr>\n",
       "      <th>...</th>\n",
       "      <td>...</td>\n",
       "      <td>...</td>\n",
       "    </tr>\n",
       "    <tr>\n",
       "      <th>1018</th>\n",
       "      <td>2020-06-21</td>\n",
       "      <td>835</td>\n",
       "    </tr>\n",
       "    <tr>\n",
       "      <th>1019</th>\n",
       "      <td>2020-06-22</td>\n",
       "      <td>835</td>\n",
       "    </tr>\n",
       "    <tr>\n",
       "      <th>1020</th>\n",
       "      <td>2020-06-23</td>\n",
       "      <td>831</td>\n",
       "    </tr>\n",
       "    <tr>\n",
       "      <th>1021</th>\n",
       "      <td>2020-06-24</td>\n",
       "      <td>831</td>\n",
       "    </tr>\n",
       "    <tr>\n",
       "      <th>1022</th>\n",
       "      <td>2020-06-25</td>\n",
       "      <td>831</td>\n",
       "    </tr>\n",
       "  </tbody>\n",
       "</table>\n",
       "<p>1023 rows × 2 columns</p>\n",
       "</div>"
      ],
      "text/plain": [
       "              ds    y\n",
       "0     2017-09-07  637\n",
       "1     2017-09-08  637\n",
       "2     2017-09-09  634\n",
       "3     2017-09-10  637\n",
       "4     2017-09-11  631\n",
       "...          ...  ...\n",
       "1018  2020-06-21  835\n",
       "1019  2020-06-22  835\n",
       "1020  2020-06-23  831\n",
       "1021  2020-06-24  831\n",
       "1022  2020-06-25  831\n",
       "\n",
       "[1023 rows x 2 columns]"
      ]
     },
     "execution_count": 6,
     "metadata": {},
     "output_type": "execute_result"
    }
   ],
   "source": [
    "dataframe = pd.DataFrame()\n",
    "dataframe['ds'] = Days\n",
    "dataframe['ds'] = dataframe['ds'].dt.date\n",
    "dataframe['y'] = df[['Sensor Value']]\n",
    "dataframe"
   ]
  },
  {
   "cell_type": "code",
   "execution_count": 7,
   "metadata": {},
   "outputs": [
    {
     "name": "stdout",
     "output_type": "stream",
     "text": [
      "<class 'pandas.core.frame.DataFrame'>\n",
      "RangeIndex: 1023 entries, 0 to 1022\n",
      "Data columns (total 2 columns):\n",
      " #   Column  Non-Null Count  Dtype \n",
      "---  ------  --------------  ----- \n",
      " 0   ds      1023 non-null   object\n",
      " 1   y       1023 non-null   int64 \n",
      "dtypes: int64(1), object(1)\n",
      "memory usage: 16.1+ KB\n"
     ]
    }
   ],
   "source": [
    "\n",
    "dataframe.info()"
   ]
  },
  {
   "cell_type": "code",
   "execution_count": 8,
   "metadata": {},
   "outputs": [
    {
     "data": {
      "text/plain": [
       "<matplotlib.axes._subplots.AxesSubplot at 0x234fe03dcc0>"
      ]
     },
     "execution_count": 8,
     "metadata": {},
     "output_type": "execute_result"
    },
    {
     "data": {
      "image/png": "[encoded data removed]",
      "text/plain": [
       "<Figure size 1440x720 with 1 Axes>"
      ]
     },
     "metadata": {
      "needs_background": "light"
     },
     "output_type": "display_data"
    }
   ],
   "source": [
    "dataframe.plot()"
   ]
  },
  {
   "cell_type": "code",
   "execution_count": 9,
   "metadata": {},
   "outputs": [],
   "source": [
    "from statsmodels.tsa.stattools import adfuller\n",
    "def addfuller_test(data):\n",
    "    result = adfuller(data)\n",
    "    labels = ['ADF Test Statistic','p-value','# Lags Used','# Observations Used']\n",
    "    for value,label in zip(result,labels):\n",
    "        print(label+' : '+str(value))\n",
    "    if(result[1]<= 0.05):\n",
    "        print(\"Data is stationary\")\n",
    "    else:\n",
    "        print(\"Data is non stationary\")"
   ]
  },
  {
   "cell_type": "code",
   "execution_count": 10,
   "metadata": {},
   "outputs": [
    {
     "name": "stdout",
     "output_type": "stream",
     "text": [
      "ADF Test Statistic : -2.7815212709819006\n",
      "p-value : 0.06096218815102259\n",
      "# Lags Used : 14\n",
      "# Observations Used : 1008\n",
      "Data is non stationary\n"
     ]
    }
   ],
   "source": [
    "addfuller_test(dataframe['y'])"
   ]
  },
  {
   "cell_type": "code",
   "execution_count": 11,
   "metadata": {},
   "outputs": [],
   "source": [
    "from statsmodels.graphics.tsaplots import plot_acf,plot_pacf\n",
    "from pandas.plotting import autocorrelation_plot"
   ]
  },
  {
   "cell_type": "code",
   "execution_count": 12,
   "metadata": {},
   "outputs": [
    {
     "data": {
      "image/png": "[encoded data removed]",
      "text/plain": [
       "<Figure size 1440x720 with 1 Axes>"
      ]
     },
     "execution_count": 12,
     "metadata": {},
     "output_type": "execute_result"
    },
    {
     "data": {
      "image/png": "[encoded data removed]",
      "text/plain": [
       "<Figure size 1440x720 with 1 Axes>"
      ]
     },
     "metadata": {
      "needs_background": "light"
     },
     "output_type": "display_data"
    }
   ],
   "source": [
    "plot_acf(dataframe['y'],lags=100)"
   ]
  },
  {
   "cell_type": "code",
   "execution_count": 13,
   "metadata": {},
   "outputs": [],
   "source": [
    "# q = 50"
   ]
  },
  {
   "cell_type": "code",
   "execution_count": 14,
   "metadata": {},
   "outputs": [
    {
     "data": {
      "image/png": "[encoded data removed]",
      "text/plain": [
       "<Figure size 1440x720 with 1 Axes>"
      ]
     },
     "execution_count": 14,
     "metadata": {},
     "output_type": "execute_result"
    },
    {
     "data": {
      "image/png": "[encoded data removed]",
      "text/plain": [
       "<Figure size 1440x720 with 1 Axes>"
      ]
     },
     "metadata": {
      "needs_background": "light"
     },
     "output_type": "display_data"
    }
   ],
   "source": [
    "from statsmodels.graphics.tsaplots import plot_pacf\n",
    "plot_pacf(dataframe['y'])"
   ]
  },
  {
   "cell_type": "code",
   "execution_count": 15,
   "metadata": {},
   "outputs": [],
   "source": [
    "# p= 20"
   ]
  },
  {
   "cell_type": "code",
   "execution_count": 16,
   "metadata": {},
   "outputs": [
    {
     "name": "stderr",
     "output_type": "stream",
     "text": [
      "C:\\Users\\S.M.Ammar\\AppData\\Local\\Programs\\Python\\Python37\\lib\\site-packages\\statsmodels\\base\\model.py:568: ConvergenceWarning: Maximum Likelihood optimization failed to converge. Check mle_retvals\n",
      "  ConvergenceWarning)\n"
     ]
    }
   ],
   "source": [
    "import statsmodels.api as sm \n",
    "X = dataframe['y'].values\n",
    "size = int(len(X) * 0.70)\n",
    "train, test = X[0:size], X[size:len(X)]\n",
    "history = [x for x in train]\n",
    "\n",
    "model = sm.tsa.statespace.SARIMAX(history,order=(20,0,50),seasonal_order=(0,0,0,0))\n",
    "model_fit = model.fit()"
   ]
  },
  {
   "cell_type": "code",
   "execution_count": 17,
   "metadata": {},
   "outputs": [],
   "source": [
    "preds = model_fit.forecast(steps=len(test))"
   ]
  },
  {
   "cell_type": "code",
   "execution_count": 18,
   "metadata": {},
   "outputs": [
    {
     "data": {
      "text/plain": [
       "[454.1459776379362,\n",
       " 454.0274534732892,\n",
       " 463.8289004061087,\n",
       " 474.0740411704903,\n",
       " 466.4504548924167,\n",
       " 467.70340690649317,\n",
       " 464.94255134413356,\n",
       " 468.38862154369696,\n",
       " 462.20390180461834,\n",
       " 463.92440716525005,\n",
       " 468.10450089992304,\n",
       " 463.45750530128754,\n",
       " 463.05063283004796,\n",
       " 473.39122266770147,\n",
       " 470.6973384189539,\n",
       " 471.8535955109935,\n",
       " 481.6171548027439,\n",
       " 482.3148586905904,\n",
       " 484.81650828412876,\n",
       " 479.3011708565558,\n",
       " 489.1359734923959,\n",
       " 482.9676942902368,\n",
       " 482.94824797099506,\n",
       " 486.48736486621686,\n",
       " 486.5220029339565,\n",
       " 482.3260399232468,\n",
       " 488.6399499077815,\n",
       " 487.2328080046163,\n",
       " 485.5554050296239,\n",
       " 489.32273055908144,\n",
       " 491.36427870862315,\n",
       " 493.93324862700155,\n",
       " 489.5289567063951,\n",
       " 496.4811974485452,\n",
       " 493.9289659569946,\n",
       " 491.1523737152428,\n",
       " 493.64259689146115,\n",
       " 496.13080314946603,\n",
       " 489.5041701688982,\n",
       " 493.2671609961742,\n",
       " 493.5656346794557,\n",
       " 492.67463643595016,\n",
       " 490.34800930510414,\n",
       " 493.38862610362617,\n",
       " 495.8496061099508,\n",
       " 489.5249194772492,\n",
       " 494.382161708741,\n",
       " 495.1929542929598,\n",
       " 491.3278790068748,\n",
       " 491.86411789691726,\n",
       " 495.38399508268736,\n",
       " 491.99843116702533,\n",
       " 491.48299488221267,\n",
       " 492.3878686153997,\n",
       " 495.35853792721764,\n",
       " 490.0882599076944,\n",
       " 492.61070083218794,\n",
       " 495.7046090253194,\n",
       " 491.80359471320037,\n",
       " 491.79086972950483,\n",
       " 495.0189760214539,\n",
       " 493.16355818219665,\n",
       " 490.7922251016428,\n",
       " 493.9725290000708,\n",
       " 493.69409446806645,\n",
       " 491.87336319169236,\n",
       " 490.8015474352372,\n",
       " 495.8203468629019,\n",
       " 491.83204590106607,\n",
       " 491.29413797841204,\n",
       " 494.63644051459204,\n",
       " 493.91999889838047,\n",
       " 490.7825207650575,\n",
       " 493.846562306257,\n",
       " 494.134530792938,\n",
       " 491.896408967953,\n",
       " 491.79896288786676,\n",
       " 494.3513070983159,\n",
       " 493.234488071895,\n",
       " 490.0465504052862,\n",
       " 494.65385604409425,\n",
       " 493.5778346859958,\n",
       " 491.2953115483427,\n",
       " 492.7899352461998,\n",
       " 494.965966575117,\n",
       " 491.5443059302279,\n",
       " 492.39354087711695,\n",
       " 493.9513136464483,\n",
       " 493.6545899062769,\n",
       " 490.7194820549185,\n",
       " 493.6014584626506,\n",
       " 494.36765294215576,\n",
       " 490.81168562212207,\n",
       " 492.6727060645568,\n",
       " 494.4624777770993,\n",
       " 492.27581887820895,\n",
       " 491.4843542352993,\n",
       " 494.4754586242182,\n",
       " 493.04117443067867,\n",
       " 491.83039169755,\n",
       " 492.7354433497857,\n",
       " 494.89780477577585,\n",
       " 491.15135388155113,\n",
       " 492.3175818992938,\n",
       " 494.4714570501195,\n",
       " 492.4536293834434,\n",
       " 491.31238512204845,\n",
       " 494.0381134548129,\n",
       " 493.44356802243584,\n",
       " 491.4262487661811,\n",
       " 492.9955293006656,\n",
       " 494.1109701251755,\n",
       " 492.33191412094084,\n",
       " 491.5287435067285,\n",
       " 494.83042658269756,\n",
       " 492.5217728002269,\n",
       " 491.5669024794435,\n",
       " 493.5323284995755,\n",
       " 493.91296650216736,\n",
       " 491.23895737532973,\n",
       " 492.8919972738676,\n",
       " 493.9228569060895,\n",
       " 492.4327108458275,\n",
       " 491.6451158988831,\n",
       " 494.0795437215793,\n",
       " 493.3390114117858,\n",
       " 491.1847681708217,\n",
       " 493.6652403518125,\n",
       " 493.7587336092869,\n",
       " 491.80915575635265,\n",
       " 492.3088772277896,\n",
       " 494.3359858179939,\n",
       " 492.2129826191166,\n",
       " 491.96106686016725,\n",
       " 493.44595414925027,\n",
       " 493.66786896308724,\n",
       " 491.250570285388,\n",
       " 493.1823820632296,\n",
       " 493.9927263064401,\n",
       " 491.86451114353827,\n",
       " 492.2922958769985,\n",
       " 494.08625742008337,\n",
       " 492.7194806045204,\n",
       " 491.649513992237,\n",
       " 493.65901760339096,\n",
       " 493.3724139054343,\n",
       " 491.854391802142,\n",
       " 492.4616798315239,\n",
       " 494.2632659159473,\n",
       " 491.88521769358977,\n",
       " 492.1962436944327,\n",
       " 493.8189224932803,\n",
       " 493.006248221193,\n",
       " 491.58754251761206,\n",
       " 493.48538267310744,\n",
       " 493.54116852965075,\n",
       " 491.9149595871442,\n",
       " 492.518818686714,\n",
       " 493.91184729353637,\n",
       " 492.4967491277257,\n",
       " 491.72055335648724,\n",
       " 493.90304868362927,\n",
       " 492.94038471718414,\n",
       " 491.8154109431681,\n",
       " 493.0044488307483,\n",
       " 493.8074801457783,\n",
       " 491.8467197698201,\n",
       " 492.5545003153187,\n",
       " 493.6959885772826,\n",
       " 492.79346637746266,\n",
       " 491.7344031640635,\n",
       " 493.59449956471406,\n",
       " 493.2995976580461,\n",
       " 491.7150041777452,\n",
       " 492.9457605420589,\n",
       " 493.64740982351236,\n",
       " 492.18919928458627,\n",
       " 492.171246330324,\n",
       " 493.7998798470546,\n",
       " 492.6917317436852,\n",
       " 491.99362873371956,\n",
       " 493.15938657298966,\n",
       " 493.60540810058876,\n",
       " 491.74787185334543,\n",
       " 492.79916619029035,\n",
       " 493.65627575636586,\n",
       " 492.3709770091719,\n",
       " 492.08618703841495,\n",
       " 493.6113539191352,\n",
       " 492.9164089861991,\n",
       " 491.8795543408473,\n",
       " 493.1131791685199,\n",
       " 493.4384256073038,\n",
       " 492.1138277622499,\n",
       " 492.393871376673,\n",
       " 493.81095987594773,\n",
       " 492.40280853996785,\n",
       " 492.15257422243803,\n",
       " 493.3657138536753,\n",
       " 493.17363973733194,\n",
       " 491.8452360062807,\n",
       " 493.0040548622844,\n",
       " 493.41741494907694,\n",
       " 492.24673342904686,\n",
       " 492.29999948809814,\n",
       " 493.6001436932679,\n",
       " 492.6987805926474,\n",
       " 491.9561316538272,\n",
       " 493.3499190061244,\n",
       " 493.1514618948863,\n",
       " 492.0626250138664,\n",
       " 492.70902792894464,\n",
       " 493.57614602846814,\n",
       " 492.25561492961094,\n",
       " 492.3456824855997,\n",
       " 493.36505960700845,\n",
       " 492.9274977332216,\n",
       " 491.90553041409845,\n",
       " 493.1718483663367,\n",
       " 493.2477526477446,\n",
       " 492.09973939856127,\n",
       " 492.6103070414778,\n",
       " 493.4831801983696,\n",
       " 492.48230163136054,\n",
       " 492.18187916781335,\n",
       " 493.3721810181317,\n",
       " 492.92101572015196,\n",
       " 492.0923865003796,\n",
       " 492.8701981769759,\n",
       " 493.413730095485,\n",
       " 492.10997444708255,\n",
       " 492.5444579590815,\n",
       " 493.369223511609,\n",
       " 492.6455505411391,\n",
       " 492.1030287433622,\n",
       " 493.2544694034344,\n",
       " 493.0222879585218,\n",
       " 492.1207084599694,\n",
       " 492.784775673088,\n",
       " 493.34935715880886,\n",
       " 492.34020055992926,\n",
       " 492.3356694508416,\n",
       " 493.4010190095526,\n",
       " 492.67034850930065,\n",
       " 492.17113386177004,\n",
       " 493.03247894014186,\n",
       " 493.16663684453476,\n",
       " 492.1053727876159,\n",
       " 492.7187262184214,\n",
       " 493.2762677421604,\n",
       " 492.49508708559154,\n",
       " 492.25388631901393,\n",
       " 493.2936549390098,\n",
       " 492.82396284468484,\n",
       " 492.13289791842556,\n",
       " 492.9628689307907,\n",
       " 493.15202148797846,\n",
       " 492.2514091268779,\n",
       " 492.5303015546207,\n",
       " 493.31370355240267,\n",
       " 492.5159331367124,\n",
       " 492.28711375680075,\n",
       " 493.10247885177716,\n",
       " 492.98225303862307,\n",
       " 492.1113982995104,\n",
       " 492.87243587654825,\n",
       " 493.1610092520775,\n",
       " 492.3508370309667,\n",
       " 492.4442707969293,\n",
       " 493.24849931487176,\n",
       " 492.6413872532471,\n",
       " 492.2262405407795,\n",
       " 493.0388974993416,\n",
       " 492.9839461927631,\n",
       " 492.22586435320295,\n",
       " 492.67781796070284,\n",
       " 493.2295549182206,\n",
       " 492.3788340417476,\n",
       " 492.42648073072326,\n",
       " 493.1329507928778,\n",
       " 492.77722185232557,\n",
       " 492.1896835367902,\n",
       " 492.9621067733287,\n",
       " 493.01113329161376,\n",
       " 492.2938473334631,\n",
       " 492.5824347566594,\n",
       " 493.18266992412873,\n",
       " 492.50318483911707,\n",
       " 492.3254159103195,\n",
       " 493.0975392892133,\n",
       " 492.8037745455134,\n",
       " 492.2520736558245,\n",
       " 492.8081400952505,\n",
       " 493.08831205275595,\n",
       " 492.3139819515192,\n",
       " 492.54858395713023,\n",
       " 493.100813146482,\n",
       " 492.6267724460968,\n",
       " 492.2677794059961,\n",
       " 493.0213011749764,\n",
       " 492.8628271175485,\n",
       " 492.2700539504768,\n",
       " 492.72190978220965,\n",
       " 493.0725360224044,\n",
       " 492.41009802937424,\n",
       " 492.44835125427,\n",
       " 493.085409456623]"
      ]
     },
     "execution_count": 18,
     "metadata": {},
     "output_type": "execute_result"
    }
   ],
   "source": [
    "preds = preds.tolist()\n",
    "preds"
   ]
  },
  {
   "cell_type": "code",
   "execution_count": 19,
   "metadata": {},
   "outputs": [
    {
     "data": {
      "text/plain": [
       "88371.81576823568"
      ]
     },
     "execution_count": 19,
     "metadata": {},
     "output_type": "execute_result"
    }
   ],
   "source": [
    "from math import sqrt\n",
    "from sklearn.metrics import mean_squared_error\n",
    "mse = mean_squared_error(test,preds)\n",
    "mse"
   ]
  },
  {
   "cell_type": "code",
   "execution_count": 20,
   "metadata": {},
   "outputs": [],
   "source": [
    "import pickle\n",
    "with open('carbonmonoxide_model_arima.pkl', 'wb') as fid:\n",
    "    pickle.dump(model_fit, fid)"
   ]
  },
  {
   "cell_type": "code",
   "execution_count": 21,
   "metadata": {},
   "outputs": [],
   "source": [
    "forecasting={\n",
    "    \n",
    "    'Day-1':preds[0],\n",
    "    'Day-2':preds[1],\n",
    "    'Day-3':preds[2],\n",
    "    'Day-4':preds[3],\n",
    "    'Day-5':preds[4],\n",
    "    'Day-6':preds[5],\n",
    "    'Day-7':preds[6],\n",
    "    'MSE': mse\n",
    "}"
   ]
  },
  {
   "cell_type": "code",
   "execution_count": 22,
   "metadata": {},
   "outputs": [],
   "source": [
    "import firebase_admin\n",
    "from firebase_admin import credentials\n",
    "from firebase_admin import db\n",
    "cred = credentials.Certificate(\"../config/sensors-forecasting-fc27d-firebase-adminsdk-krgvi-403182645e.json\")\n",
    "firebase_admin.initialize_app(cred,{'databaseURL':'https://sensors-forecasting-fc27d-default-rtdb.firebaseio.com/'})\n",
    "ref = db.reference(\"/Models/ARIMA\")\n",
    "upload_ref = ref.child('Carbonmonoxide')\n",
    "upload_ref.update(forecasting)"
   ]
  },
  {
   "cell_type": "code",
   "execution_count": null,
   "metadata": {},
   "outputs": [],
   "source": []
  }
 ],
 "metadata": {
  "kernelspec": {
   "display_name": "Python 3",
   "language": "python",
   "name": "python3"
  },
  "language_info": {
   "codemirror_mode": {
    "name": "ipython",
    "version": 3
   },
   "file_extension": ".py",
   "mimetype": "text/x-python",
   "name": "python",
   "nbconvert_exporter": "python",
   "pygments_lexer": "ipython3",
   "version": "3.7.2"
  }
 },
 "nbformat": 4,
 "nbformat_minor": 1
}
