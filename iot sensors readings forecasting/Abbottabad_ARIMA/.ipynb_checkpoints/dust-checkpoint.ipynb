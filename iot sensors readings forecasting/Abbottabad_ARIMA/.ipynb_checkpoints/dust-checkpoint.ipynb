{
 "cells": [
  {
   "cell_type": "code",
   "execution_count": 1,
   "metadata": {},
   "outputs": [],
   "source": [
    "import pandas as pd\n",
    "import numpy as np\n",
    "import matplotlib.pyplot as plt\n",
    "%matplotlib inline\n",
    "plt.rcParams[\"figure.figsize\"] = (20,10)"
   ]
  },
  {
   "cell_type": "code",
   "execution_count": 2,
   "metadata": {},
   "outputs": [
    {
     "data": {
      "text/html": [
       "<div>\n",
       "<style scoped>\n",
       "    .dataframe tbody tr th:only-of-type {\n",
       "        vertical-align: middle;\n",
       "    }\n",
       "\n",
       "    .dataframe tbody tr th {\n",
       "        vertical-align: top;\n",
       "    }\n",
       "\n",
       "    .dataframe thead th {\n",
       "        text-align: right;\n",
       "    }\n",
       "</style>\n",
       "<table border=\"1\" class=\"dataframe\">\n",
       "  <thead>\n",
       "    <tr style=\"text-align: right;\">\n",
       "      <th></th>\n",
       "      <th>Sensor Value</th>\n",
       "    </tr>\n",
       "  </thead>\n",
       "  <tbody>\n",
       "    <tr>\n",
       "      <th>0</th>\n",
       "      <td>0.10</td>\n",
       "    </tr>\n",
       "    <tr>\n",
       "      <th>1</th>\n",
       "      <td>0.10</td>\n",
       "    </tr>\n",
       "    <tr>\n",
       "      <th>2</th>\n",
       "      <td>0.10</td>\n",
       "    </tr>\n",
       "    <tr>\n",
       "      <th>3</th>\n",
       "      <td>0.10</td>\n",
       "    </tr>\n",
       "    <tr>\n",
       "      <th>4</th>\n",
       "      <td>0.10</td>\n",
       "    </tr>\n",
       "    <tr>\n",
       "      <th>...</th>\n",
       "      <td>...</td>\n",
       "    </tr>\n",
       "    <tr>\n",
       "      <th>1238</th>\n",
       "      <td>0.12</td>\n",
       "    </tr>\n",
       "    <tr>\n",
       "      <th>1239</th>\n",
       "      <td>0.12</td>\n",
       "    </tr>\n",
       "    <tr>\n",
       "      <th>1240</th>\n",
       "      <td>0.12</td>\n",
       "    </tr>\n",
       "    <tr>\n",
       "      <th>1241</th>\n",
       "      <td>0.13</td>\n",
       "    </tr>\n",
       "    <tr>\n",
       "      <th>1242</th>\n",
       "      <td>0.12</td>\n",
       "    </tr>\n",
       "  </tbody>\n",
       "</table>\n",
       "<p>1243 rows × 1 columns</p>\n",
       "</div>"
      ],
      "text/plain": [
       "      Sensor Value\n",
       "0             0.10\n",
       "1             0.10\n",
       "2             0.10\n",
       "3             0.10\n",
       "4             0.10\n",
       "...            ...\n",
       "1238          0.12\n",
       "1239          0.12\n",
       "1240          0.12\n",
       "1241          0.13\n",
       "1242          0.12\n",
       "\n",
       "[1243 rows x 1 columns]"
      ]
     },
     "execution_count": 2,
     "metadata": {},
     "output_type": "execute_result"
    }
   ],
   "source": [
    "df = pd.read_excel(\"../data/Abbottabad/dust.xlsx\")\n",
    "df = df[['Sensor Value']]\n",
    "df"
   ]
  },
  {
   "cell_type": "code",
   "execution_count": 3,
   "metadata": {},
   "outputs": [
    {
     "name": "stdout",
     "output_type": "stream",
     "text": [
      "<class 'pandas.core.frame.DataFrame'>\n",
      "RangeIndex: 1243 entries, 0 to 1242\n",
      "Data columns (total 1 columns):\n",
      " #   Column        Non-Null Count  Dtype  \n",
      "---  ------        --------------  -----  \n",
      " 0   Sensor Value  1243 non-null   float64\n",
      "dtypes: float64(1)\n",
      "memory usage: 9.8 KB\n"
     ]
    }
   ],
   "source": [
    "df.info()\n"
   ]
  },
  {
   "cell_type": "code",
   "execution_count": 4,
   "metadata": {},
   "outputs": [
    {
     "data": {
      "text/plain": [
       "DatetimeIndex(['2017-09-07', '2017-09-08', '2017-09-09', '2017-09-10',\n",
       "               '2017-09-11', '2017-09-12', '2017-09-13', '2017-09-14',\n",
       "               '2017-09-15', '2017-09-16',\n",
       "               ...\n",
       "               '2020-06-16', '2020-06-17', '2020-06-18', '2020-06-19',\n",
       "               '2020-06-20', '2020-06-21', '2020-06-22', '2020-06-23',\n",
       "               '2020-06-24', '2020-06-25'],\n",
       "              dtype='datetime64[ns]', length=1023, freq='D')"
      ]
     },
     "execution_count": 4,
     "metadata": {},
     "output_type": "execute_result"
    }
   ],
   "source": [
    "Days = pd.date_range(start=\"2017-09-07\",end=\"2020-06-25\")\n",
    "Days"
   ]
  },
  {
   "cell_type": "code",
   "execution_count": 5,
   "metadata": {},
   "outputs": [
    {
     "data": {
      "text/html": [
       "<div>\n",
       "<style scoped>\n",
       "    .dataframe tbody tr th:only-of-type {\n",
       "        vertical-align: middle;\n",
       "    }\n",
       "\n",
       "    .dataframe tbody tr th {\n",
       "        vertical-align: top;\n",
       "    }\n",
       "\n",
       "    .dataframe thead th {\n",
       "        text-align: right;\n",
       "    }\n",
       "</style>\n",
       "<table border=\"1\" class=\"dataframe\">\n",
       "  <thead>\n",
       "    <tr style=\"text-align: right;\">\n",
       "      <th></th>\n",
       "      <th>ds</th>\n",
       "      <th>y</th>\n",
       "    </tr>\n",
       "  </thead>\n",
       "  <tbody>\n",
       "    <tr>\n",
       "      <th>0</th>\n",
       "      <td>2017-09-07</td>\n",
       "      <td>0.10</td>\n",
       "    </tr>\n",
       "    <tr>\n",
       "      <th>1</th>\n",
       "      <td>2017-09-08</td>\n",
       "      <td>0.10</td>\n",
       "    </tr>\n",
       "    <tr>\n",
       "      <th>2</th>\n",
       "      <td>2017-09-09</td>\n",
       "      <td>0.10</td>\n",
       "    </tr>\n",
       "    <tr>\n",
       "      <th>3</th>\n",
       "      <td>2017-09-10</td>\n",
       "      <td>0.10</td>\n",
       "    </tr>\n",
       "    <tr>\n",
       "      <th>4</th>\n",
       "      <td>2017-09-11</td>\n",
       "      <td>0.10</td>\n",
       "    </tr>\n",
       "    <tr>\n",
       "      <th>...</th>\n",
       "      <td>...</td>\n",
       "      <td>...</td>\n",
       "    </tr>\n",
       "    <tr>\n",
       "      <th>1018</th>\n",
       "      <td>2020-06-21</td>\n",
       "      <td>0.14</td>\n",
       "    </tr>\n",
       "    <tr>\n",
       "      <th>1019</th>\n",
       "      <td>2020-06-22</td>\n",
       "      <td>0.12</td>\n",
       "    </tr>\n",
       "    <tr>\n",
       "      <th>1020</th>\n",
       "      <td>2020-06-23</td>\n",
       "      <td>0.13</td>\n",
       "    </tr>\n",
       "    <tr>\n",
       "      <th>1021</th>\n",
       "      <td>2020-06-24</td>\n",
       "      <td>0.17</td>\n",
       "    </tr>\n",
       "    <tr>\n",
       "      <th>1022</th>\n",
       "      <td>2020-06-25</td>\n",
       "      <td>0.14</td>\n",
       "    </tr>\n",
       "  </tbody>\n",
       "</table>\n",
       "<p>1023 rows × 2 columns</p>\n",
       "</div>"
      ],
      "text/plain": [
       "              ds     y\n",
       "0     2017-09-07  0.10\n",
       "1     2017-09-08  0.10\n",
       "2     2017-09-09  0.10\n",
       "3     2017-09-10  0.10\n",
       "4     2017-09-11  0.10\n",
       "...          ...   ...\n",
       "1018  2020-06-21  0.14\n",
       "1019  2020-06-22  0.12\n",
       "1020  2020-06-23  0.13\n",
       "1021  2020-06-24  0.17\n",
       "1022  2020-06-25  0.14\n",
       "\n",
       "[1023 rows x 2 columns]"
      ]
     },
     "execution_count": 5,
     "metadata": {},
     "output_type": "execute_result"
    }
   ],
   "source": [
    "dataframe = pd.DataFrame()\n",
    "dataframe['ds'] = Days\n",
    "dataframe['ds'] = dataframe['ds'].dt.date\n",
    "dataframe['y'] = df[['Sensor Value']]\n",
    "dataframe"
   ]
  },
  {
   "cell_type": "code",
   "execution_count": 6,
   "metadata": {},
   "outputs": [
    {
     "name": "stdout",
     "output_type": "stream",
     "text": [
      "<class 'pandas.core.frame.DataFrame'>\n",
      "RangeIndex: 1023 entries, 0 to 1022\n",
      "Data columns (total 2 columns):\n",
      " #   Column  Non-Null Count  Dtype  \n",
      "---  ------  --------------  -----  \n",
      " 0   ds      1023 non-null   object \n",
      " 1   y       1023 non-null   float64\n",
      "dtypes: float64(1), object(1)\n",
      "memory usage: 16.1+ KB\n"
     ]
    }
   ],
   "source": [
    "dataframe.info()"
   ]
  },
  {
   "cell_type": "code",
   "execution_count": 7,
   "metadata": {},
   "outputs": [
    {
     "data": {
      "text/plain": [
       "<matplotlib.axes._subplots.AxesSubplot at 0x2e3ba99dcc0>"
      ]
     },
     "execution_count": 7,
     "metadata": {},
     "output_type": "execute_result"
    },
    {
     "data": {
      "image/png": "[encoded data removed]",
      "text/plain": [
       "<Figure size 1440x720 with 1 Axes>"
      ]
     },
     "metadata": {
      "needs_background": "light"
     },
     "output_type": "display_data"
    }
   ],
   "source": [
    "dataframe.plot()"
   ]
  },
  {
   "cell_type": "code",
   "execution_count": 8,
   "metadata": {},
   "outputs": [],
   "source": [
    "from statsmodels.tsa.stattools import adfuller\n",
    "def addfuller_test(data):\n",
    "    result = adfuller(data)\n",
    "    labels = ['ADF Test Statistic','p-value','# Lags Used','# Observations Used']\n",
    "    for value,label in zip(result,labels):\n",
    "        print(label+' : '+str(value))\n",
    "    if(result[1]<= 0.05):\n",
    "        print(\"Data is stationary\")\n",
    "    else:\n",
    "        print(\"Data is non stationary\")"
   ]
  },
  {
   "cell_type": "code",
   "execution_count": 9,
   "metadata": {},
   "outputs": [
    {
     "name": "stdout",
     "output_type": "stream",
     "text": [
      "ADF Test Statistic : -11.415493894990254\n",
      "p-value : 7.079149137012947e-21\n",
      "# Lags Used : 4\n",
      "# Observations Used : 1018\n",
      "Data is stationary\n"
     ]
    }
   ],
   "source": [
    "\n",
    "addfuller_test(dataframe['y'])"
   ]
  },
  {
   "cell_type": "code",
   "execution_count": 10,
   "metadata": {},
   "outputs": [],
   "source": [
    "from statsmodels.graphics.tsaplots import plot_acf,plot_pacf\n"
   ]
  },
  {
   "cell_type": "code",
   "execution_count": 11,
   "metadata": {},
   "outputs": [
    {
     "data": {
      "image/png": "[encoded data removed]",
      "text/plain": [
       "<Figure size 1440x720 with 1 Axes>"
      ]
     },
     "execution_count": 11,
     "metadata": {},
     "output_type": "execute_result"
    },
    {
     "data": {
      "image/png": "[encoded data removed]",
      "text/plain": [
       "<Figure size 1440x720 with 1 Axes>"
      ]
     },
     "metadata": {
      "needs_background": "light"
     },
     "output_type": "display_data"
    }
   ],
   "source": [
    "plot_acf(dataframe['y'])"
   ]
  },
  {
   "cell_type": "code",
   "execution_count": 12,
   "metadata": {},
   "outputs": [],
   "source": [
    "# q=5"
   ]
  },
  {
   "cell_type": "code",
   "execution_count": 13,
   "metadata": {},
   "outputs": [
    {
     "data": {
      "image/png": "[encoded data removed]",
      "text/plain": [
       "<Figure size 1440x720 with 1 Axes>"
      ]
     },
     "execution_count": 13,
     "metadata": {},
     "output_type": "execute_result"
    },
    {
     "data": {
      "image/png": "[encoded data removed]",
      "text/plain": [
       "<Figure size 1440x720 with 1 Axes>"
      ]
     },
     "metadata": {
      "needs_background": "light"
     },
     "output_type": "display_data"
    }
   ],
   "source": [
    "plot_pacf (dataframe['y'])\n"
   ]
  },
  {
   "cell_type": "code",
   "execution_count": 14,
   "metadata": {},
   "outputs": [],
   "source": [
    "# p = 6"
   ]
  },
  {
   "cell_type": "code",
   "execution_count": 15,
   "metadata": {},
   "outputs": [
    {
     "name": "stderr",
     "output_type": "stream",
     "text": [
      "C:\\Users\\S.M.Ammar\\AppData\\Local\\Programs\\Python\\Python37\\lib\\site-packages\\statsmodels\\tsa\\arima_model.py:472: FutureWarning: \n",
      "statsmodels.tsa.arima_model.ARMA and statsmodels.tsa.arima_model.ARIMA have\n",
      "been deprecated in favor of statsmodels.tsa.arima.model.ARIMA (note the .\n",
      "between arima and model) and\n",
      "statsmodels.tsa.SARIMAX. These will be removed after the 0.12 release.\n",
      "\n",
      "statsmodels.tsa.arima.model.ARIMA makes use of the statespace framework and\n",
      "is both well tested and maintained.\n",
      "\n",
      "To silence this warning and continue using ARMA and ARIMA until they are\n",
      "removed, use:\n",
      "\n",
      "import warnings\n",
      "warnings.filterwarnings('ignore', 'statsmodels.tsa.arima_model.ARMA',\n",
      "                        FutureWarning)\n",
      "warnings.filterwarnings('ignore', 'statsmodels.tsa.arima_model.ARIMA',\n",
      "                        FutureWarning)\n",
      "\n",
      "  warnings.warn(ARIMA_DEPRECATION_WARN, FutureWarning)\n",
      "C:\\Users\\S.M.Ammar\\AppData\\Local\\Programs\\Python\\Python37\\lib\\site-packages\\statsmodels\\base\\model.py:548: HessianInversionWarning: Inverting hessian failed, no bse or cov_params available\n",
      "  'available', HessianInversionWarning)\n"
     ]
    }
   ],
   "source": [
    "from statsmodels.tsa.arima_model import ARIMA\n",
    "X = dataframe['y'].values\n",
    "size = int(len(X) * 0.70)\n",
    "train, test = X[0:size], X[size:len(X)]\n",
    "history = [x for x in train]\n",
    "\n",
    "model = ARIMA(history,order=(6,0,5))\n",
    "try:\n",
    "    model_fit = model.fit()\n",
    "except:\n",
    "    model_fit = model.fit()"
   ]
  },
  {
   "cell_type": "code",
   "execution_count": 16,
   "metadata": {},
   "outputs": [
    {
     "data": {
      "text/html": [
       "<table class=\"simpletable\">\n",
       "<caption>ARMA Model Results</caption>\n",
       "<tr>\n",
       "  <th>Dep. Variable:</th>         <td>y</td>        <th>  No. Observations:  </th>    <td>716</td>   \n",
       "</tr>\n",
       "<tr>\n",
       "  <th>Model:</th>            <td>ARMA(6, 5)</td>    <th>  Log Likelihood     </th>  <td>885.289</td> \n",
       "</tr>\n",
       "<tr>\n",
       "  <th>Method:</th>             <td>css-mle</td>     <th>  S.D. of innovations</th>   <td>0.070</td>  \n",
       "</tr>\n",
       "<tr>\n",
       "  <th>Date:</th>          <td>Sat, 22 May 2021</td> <th>  AIC                </th> <td>-1744.579</td>\n",
       "</tr>\n",
       "<tr>\n",
       "  <th>Time:</th>              <td>14:49:20</td>     <th>  BIC                </th> <td>-1685.121</td>\n",
       "</tr>\n",
       "<tr>\n",
       "  <th>Sample:</th>                <td>0</td>        <th>  HQIC               </th> <td>-1721.619</td>\n",
       "</tr>\n",
       "<tr>\n",
       "  <th></th>                       <td> </td>        <th>                     </th>     <td> </td>    \n",
       "</tr>\n",
       "</table>\n",
       "<table class=\"simpletable\">\n",
       "<tr>\n",
       "     <td></td>        <th>coef</th>     <th>std err</th>      <th>z</th>      <th>P>|z|</th>  <th>[0.025</th>    <th>0.975]</th>  \n",
       "</tr>\n",
       "<tr>\n",
       "  <th>const</th>   <td>    0.1015</td> <td>    0.003</td> <td>   34.594</td> <td> 0.000</td> <td>    0.096</td> <td>    0.107</td>\n",
       "</tr>\n",
       "<tr>\n",
       "  <th>ar.L1.y</th> <td>   -0.0078</td> <td>    0.220</td> <td>   -0.035</td> <td> 0.972</td> <td>   -0.438</td> <td>    0.423</td>\n",
       "</tr>\n",
       "<tr>\n",
       "  <th>ar.L2.y</th> <td>    0.9413</td> <td>    0.189</td> <td>    4.993</td> <td> 0.000</td> <td>    0.572</td> <td>    1.311</td>\n",
       "</tr>\n",
       "<tr>\n",
       "  <th>ar.L3.y</th> <td>    0.1249</td> <td>    0.279</td> <td>    0.448</td> <td> 0.654</td> <td>   -0.421</td> <td>    0.671</td>\n",
       "</tr>\n",
       "<tr>\n",
       "  <th>ar.L4.y</th> <td>   -0.3051</td> <td>    0.249</td> <td>   -1.224</td> <td> 0.221</td> <td>   -0.794</td> <td>    0.183</td>\n",
       "</tr>\n",
       "<tr>\n",
       "  <th>ar.L5.y</th> <td>    0.3515</td> <td>    0.175</td> <td>    2.011</td> <td> 0.044</td> <td>    0.009</td> <td>    0.694</td>\n",
       "</tr>\n",
       "<tr>\n",
       "  <th>ar.L6.y</th> <td>   -0.1175</td> <td>    0.139</td> <td>   -0.848</td> <td> 0.397</td> <td>   -0.389</td> <td>    0.154</td>\n",
       "</tr>\n",
       "<tr>\n",
       "  <th>ma.L1.y</th> <td>    0.7221</td> <td>    0.213</td> <td>    3.385</td> <td> 0.001</td> <td>    0.304</td> <td>    1.140</td>\n",
       "</tr>\n",
       "<tr>\n",
       "  <th>ma.L2.y</th> <td>   -0.4788</td> <td>    0.233</td> <td>   -2.052</td> <td> 0.040</td> <td>   -0.936</td> <td>   -0.021</td>\n",
       "</tr>\n",
       "<tr>\n",
       "  <th>ma.L3.y</th> <td>   -0.6133</td> <td>    0.251</td> <td>   -2.443</td> <td> 0.015</td> <td>   -1.105</td> <td>   -0.121</td>\n",
       "</tr>\n",
       "<tr>\n",
       "  <th>ma.L4.y</th> <td>   -0.2347</td> <td>    0.240</td> <td>   -0.978</td> <td> 0.328</td> <td>   -0.705</td> <td>    0.235</td>\n",
       "</tr>\n",
       "<tr>\n",
       "  <th>ma.L5.y</th> <td>   -0.3954</td> <td>    0.192</td> <td>   -2.059</td> <td> 0.040</td> <td>   -0.772</td> <td>   -0.019</td>\n",
       "</tr>\n",
       "</table>\n",
       "<table class=\"simpletable\">\n",
       "<caption>Roots</caption>\n",
       "<tr>\n",
       "    <td></td>   <th>            Real</th>  <th>         Imaginary</th> <th>         Modulus</th>  <th>        Frequency</th>\n",
       "</tr>\n",
       "<tr>\n",
       "  <th>AR.1</th> <td>          -0.9062</td> <td>          -0.4440j</td> <td>           1.0091</td> <td>          -0.4275</td>\n",
       "</tr>\n",
       "<tr>\n",
       "  <th>AR.2</th> <td>          -0.9062</td> <td>          +0.4440j</td> <td>           1.0091</td> <td>           0.4275</td>\n",
       "</tr>\n",
       "<tr>\n",
       "  <th>AR.3</th> <td>           1.0061</td> <td>          -0.0000j</td> <td>           1.0061</td> <td>          -0.0000</td>\n",
       "</tr>\n",
       "<tr>\n",
       "  <th>AR.4</th> <td>           0.6287</td> <td>          -1.6956j</td> <td>           1.8084</td> <td>          -0.1935</td>\n",
       "</tr>\n",
       "<tr>\n",
       "  <th>AR.5</th> <td>           0.6287</td> <td>          +1.6956j</td> <td>           1.8084</td> <td>           0.1935</td>\n",
       "</tr>\n",
       "<tr>\n",
       "  <th>AR.6</th> <td>           2.5411</td> <td>          -0.0000j</td> <td>           2.5411</td> <td>          -0.0000</td>\n",
       "</tr>\n",
       "<tr>\n",
       "  <th>MA.1</th> <td>           1.0000</td> <td>          -0.0000j</td> <td>           1.0000</td> <td>          -0.0000</td>\n",
       "</tr>\n",
       "<tr>\n",
       "  <th>MA.2</th> <td>          -0.9032</td> <td>          -0.4293j</td> <td>           1.0000</td> <td>          -0.4294</td>\n",
       "</tr>\n",
       "<tr>\n",
       "  <th>MA.3</th> <td>          -0.9032</td> <td>          +0.4293j</td> <td>           1.0000</td> <td>           0.4294</td>\n",
       "</tr>\n",
       "<tr>\n",
       "  <th>MA.4</th> <td>           0.1065</td> <td>          -1.5867j</td> <td>           1.5903</td> <td>          -0.2393</td>\n",
       "</tr>\n",
       "<tr>\n",
       "  <th>MA.5</th> <td>           0.1065</td> <td>          +1.5867j</td> <td>           1.5903</td> <td>           0.2393</td>\n",
       "</tr>\n",
       "</table>"
      ],
      "text/plain": [
       "<class 'statsmodels.iolib.summary.Summary'>\n",
       "\"\"\"\n",
       "                              ARMA Model Results                              \n",
       "==============================================================================\n",
       "Dep. Variable:                      y   No. Observations:                  716\n",
       "Model:                     ARMA(6, 5)   Log Likelihood                 885.289\n",
       "Method:                       css-mle   S.D. of innovations              0.070\n",
       "Date:                Sat, 22 May 2021   AIC                          -1744.579\n",
       "Time:                        14:49:20   BIC                          -1685.121\n",
       "Sample:                             0   HQIC                         -1721.619\n",
       "                                                                              \n",
       "==============================================================================\n",
       "                 coef    std err          z      P>|z|      [0.025      0.975]\n",
       "------------------------------------------------------------------------------\n",
       "const          0.1015      0.003     34.594      0.000       0.096       0.107\n",
       "ar.L1.y       -0.0078      0.220     -0.035      0.972      -0.438       0.423\n",
       "ar.L2.y        0.9413      0.189      4.993      0.000       0.572       1.311\n",
       "ar.L3.y        0.1249      0.279      0.448      0.654      -0.421       0.671\n",
       "ar.L4.y       -0.3051      0.249     -1.224      0.221      -0.794       0.183\n",
       "ar.L5.y        0.3515      0.175      2.011      0.044       0.009       0.694\n",
       "ar.L6.y       -0.1175      0.139     -0.848      0.397      -0.389       0.154\n",
       "ma.L1.y        0.7221      0.213      3.385      0.001       0.304       1.140\n",
       "ma.L2.y       -0.4788      0.233     -2.052      0.040      -0.936      -0.021\n",
       "ma.L3.y       -0.6133      0.251     -2.443      0.015      -1.105      -0.121\n",
       "ma.L4.y       -0.2347      0.240     -0.978      0.328      -0.705       0.235\n",
       "ma.L5.y       -0.3954      0.192     -2.059      0.040      -0.772      -0.019\n",
       "                                    Roots                                    \n",
       "=============================================================================\n",
       "                  Real          Imaginary           Modulus         Frequency\n",
       "-----------------------------------------------------------------------------\n",
       "AR.1           -0.9062           -0.4440j            1.0091           -0.4275\n",
       "AR.2           -0.9062           +0.4440j            1.0091            0.4275\n",
       "AR.3            1.0061           -0.0000j            1.0061           -0.0000\n",
       "AR.4            0.6287           -1.6956j            1.8084           -0.1935\n",
       "AR.5            0.6287           +1.6956j            1.8084            0.1935\n",
       "AR.6            2.5411           -0.0000j            2.5411           -0.0000\n",
       "MA.1            1.0000           -0.0000j            1.0000           -0.0000\n",
       "MA.2           -0.9032           -0.4293j            1.0000           -0.4294\n",
       "MA.3           -0.9032           +0.4293j            1.0000            0.4294\n",
       "MA.4            0.1065           -1.5867j            1.5903           -0.2393\n",
       "MA.5            0.1065           +1.5867j            1.5903            0.2393\n",
       "-----------------------------------------------------------------------------\n",
       "\"\"\""
      ]
     },
     "execution_count": 16,
     "metadata": {},
     "output_type": "execute_result"
    }
   ],
   "source": [
    "\n",
    "model_fit.summary()"
   ]
  },
  {
   "cell_type": "code",
   "execution_count": 17,
   "metadata": {},
   "outputs": [],
   "source": [
    "from math import sqrt\n",
    "from sklearn.metrics import mean_squared_error"
   ]
  },
  {
   "cell_type": "code",
   "execution_count": 18,
   "metadata": {},
   "outputs": [
    {
     "data": {
      "text/plain": [
       "307"
      ]
     },
     "execution_count": 18,
     "metadata": {},
     "output_type": "execute_result"
    }
   ],
   "source": [
    "len(test)"
   ]
  },
  {
   "cell_type": "code",
   "execution_count": 19,
   "metadata": {},
   "outputs": [],
   "source": [
    "preds = model_fit.forecast(steps=307)"
   ]
  },
  {
   "cell_type": "code",
   "execution_count": 20,
   "metadata": {},
   "outputs": [
    {
     "data": {
      "text/plain": [
       "[0.10195667093450825,\n",
       " 0.10238818569002217,\n",
       " 0.10989159679019894,\n",
       " 0.10745463108592358,\n",
       " 0.10996666466970699,\n",
       " 0.10932679113181677,\n",
       " 0.107849996722571,\n",
       " 0.1109027701854594,\n",
       " 0.10690479785473204,\n",
       " 0.1109893860102154,\n",
       " 0.10750615758354846,\n",
       " 0.10950357838878513,\n",
       " 0.10918547021291779,\n",
       " 0.10762329379394235,\n",
       " 0.11055328803062164,\n",
       " 0.10670693852626859,\n",
       " 0.11050797112573964,\n",
       " 0.10735391976597725,\n",
       " 0.10907046202383065,\n",
       " 0.10894960270476967,\n",
       " 0.10731682763301972,\n",
       " 0.11018007051835768,\n",
       " 0.10652710769761986,\n",
       " 0.11005742737800779,\n",
       " 0.10720303536000265,\n",
       " 0.10865895866305202,\n",
       " 0.10871422171407619,\n",
       " 0.107030575768166,\n",
       " 0.10981817138705678,\n",
       " 0.10635653238737079,\n",
       " 0.10962727787816333,\n",
       " 0.10705358243546141,\n",
       " 0.10827139053702975,\n",
       " 0.10848132791372973,\n",
       " 0.10676271426940594,\n",
       " 0.10946710250783898,\n",
       " 0.106194298847335,\n",
       " 0.10921703910113759,\n",
       " 0.1069056305774288,\n",
       " 0.1079064607954553,\n",
       " 0.10825125799299508,\n",
       " 0.10651191221765222,\n",
       " 0.10912694539749992,\n",
       " 0.10603967262872789,\n",
       " 0.10882606063908348,\n",
       " 0.10675918042232874,\n",
       " 0.10756293333989331,\n",
       " 0.10802435002107943,\n",
       " 0.10627693428240538,\n",
       " 0.10879773103874049,\n",
       " 0.10589198665839092,\n",
       " 0.10845368495644542,\n",
       " 0.10661425395698995,\n",
       " 0.10723962245977844,\n",
       " 0.10780091133751281,\n",
       " 0.10605662725708795,\n",
       " 0.1084794502081082,\n",
       " 0.10575064060867428,\n",
       " 0.10809925098341183,\n",
       " 0.1064708892275863,\n",
       " 0.10693539206559603,\n",
       " 0.10758121942991163,\n",
       " 0.10584991613886123,\n",
       " 0.10817205718825666,\n",
       " 0.10561509524045815,\n",
       " 0.10776209724893909,\n",
       " 0.10632913704854301,\n",
       " 0.10664915534376995,\n",
       " 0.1073655227210862,\n",
       " 0.10565580000664604,\n",
       " 0.10787547326751502,\n",
       " 0.10548486717486752,\n",
       " 0.10744156472600037,\n",
       " 0.10618905807082588,\n",
       " 0.10637987419602017,\n",
       " 0.10715404147833268,\n",
       " 0.10547334800363699,\n",
       " 0.10758959006560287,\n",
       " 0.10535952400582042,\n",
       " 0.10713699936834241,\n",
       " 0.10605072018812224,\n",
       " 0.10612655850368327,\n",
       " 0.10694696882625811,\n",
       " 0.10530169543076834,\n",
       " 0.10731427268253553,\n",
       " 0.10523867973970809,\n",
       " 0.10684775435932754,\n",
       " 0.1059141962542062,\n",
       " 0.10588826524022484,\n",
       " 0.10674447184277042,\n",
       " 0.10514003995907437,\n",
       " 0.10704936267137599,\n",
       " 0.10512199054824493,\n",
       " 0.10657319209209466,\n",
       " 0.10577956208596738,\n",
       " 0.10566409745348676,\n",
       " 0.10654669272000304,\n",
       " 0.1049876379673249,\n",
       " 0.10679468083649973,\n",
       " 0.10500915082040374,\n",
       " 0.1063126858996447,\n",
       " 0.10564689472802484,\n",
       " 0.10545320313748709,\n",
       " 0.10635374997381114,\n",
       " 0.10484380100988915,\n",
       " 0.10655002985994558,\n",
       " 0.10489988949934129,\n",
       " 0.10606562155278634,\n",
       " 0.10551627095625067,\n",
       " 0.1052547740119493,\n",
       " 0.10616573968721672,\n",
       " 0.10470789241849163,\n",
       " 0.10631519675920727,\n",
       " 0.10479396669028922,\n",
       " 0.10583139854317973,\n",
       " 0.10538776599889445,\n",
       " 0.10506804422618299,\n",
       " 0.10598273677479524,\n",
       " 0.10457932404036452,\n",
       " 0.10608995518048449,\n",
       " 0.10469117052552712,\n",
       " 0.10560943116799461,\n",
       " 0.1052614524553257,\n",
       " 0.10489228900246667,\n",
       " 0.10580479625649272,\n",
       " 0.10445755311426157,\n",
       " 0.10587406753197108,\n",
       " 0.10459131427275814,\n",
       " 0.1053991494319654,\n",
       " 0.10513739939369467,\n",
       " 0.1047268232326963,\n",
       " 0.10563195453074538,\n",
       " 0.10434207928487259,\n",
       " 0.10566728696222012,\n",
       " 0.10449423367346626,\n",
       " 0.10519999978188255,\n",
       " 0.10501567161004993,\n",
       " 0.1045710000407576,\n",
       " 0.10546423063804894,\n",
       " 0.10423244175535612,\n",
       " 0.10546935918900027,\n",
       " 0.1043997844981368,\n",
       " 0.10501144568781366,\n",
       " 0.1048963290326412,\n",
       " 0.10442420932185355,\n",
       " 0.10530162750729737,\n",
       " 0.10412821657698342,\n",
       " 0.1052800241843527,\n",
       " 0.10430784030556535,\n",
       " 0.10483296808460432,\n",
       " 0.10477942625627844,\n",
       " 0.10428587626887056,\n",
       " 0.105144133178286,\n",
       " 0.10402901407425275,\n",
       " 0.10509901772178228,\n",
       " 0.10421829039385401,\n",
       " 0.10466406568647137,\n",
       " 0.10466501219271065,\n",
       " 0.10415545989479352,\n",
       " 0.10499172199475819,\n",
       " 0.10393447640328192,\n",
       " 0.10492607279167575,\n",
       " 0.1041310379310956,\n",
       " 0.10450425518677366,\n",
       " 0.10455312982403102,\n",
       " 0.10403245155917856,\n",
       " 0.10484435576327113,\n",
       " 0.10384427524081227,\n",
       " 0.10476092089114254,\n",
       " 0.10404599825416751,\n",
       " 0.10435307135433183,\n",
       " 0.10444381604710752,\n",
       " 0.10391637350576287,\n",
       " 0.10470198487397302,\n",
       " 0.10375810960075305,\n",
       " 0.10460329319452484,\n",
       " 0.10396309732449502,\n",
       " 0.1042100670369697,\n",
       " 0.1043371015979822,\n",
       " 0.10380677741742643,\n",
       " 0.1045645493801228,\n",
       " 0.10367570377485542,\n",
       " 0.10445292161083022,\n",
       " 0.10388227033009326,\n",
       " 0.10407481308227119,\n",
       " 0.10423301104607535,\n",
       " 0.10370324299392247,\n",
       " 0.10443198003385155,\n",
       " 0.10359680539382392,\n",
       " 0.10430953973430661,\n",
       " 0.10380346042365322,\n",
       " 0.10394689818488567,\n",
       " 0.10413156284887681,\n",
       " 0.1036053765570547,\n",
       " 0.10430419927626564,\n",
       " 0.10352118360494542,\n",
       " 0.1041728836943109,\n",
       " 0.10372661758689897,\n",
       " 0.10382592866907785,\n",
       " 0.10403276945860392,\n",
       " 0.10351280968730174,\n",
       " 0.10418112218053048,\n",
       " 0.10344862736213756,\n",
       " 0.10404269291052534,\n",
       " 0.10365169761190442,\n",
       " 0.10371152821460253,\n",
       " 0.10393663747305676,\n",
       " 0.10342519789526512,\n",
       " 0.10406265734705429,\n",
       " 0.10337894382418206,\n",
       " 0.10391871075945118,\n",
       " 0.10357866119051845,\n",
       " 0.10360333753339468,\n",
       " 0.10384316782360692,\n",
       " 0.10334221933074685,\n",
       " 0.1039487077503178,\n",
       " 0.10331195685681355,\n",
       " 0.10380068515796362,\n",
       " 0.10350747310350275,\n",
       " 0.10350101400399764,\n",
       " 0.10375235599391693,\n",
       " 0.10326357353174213,\n",
       " 0.10383917153727282,\n",
       " 0.10324750563427419,\n",
       " 0.10368836906954781,\n",
       " 0.10343810150143605,\n",
       " 0.10340423127011243,\n",
       " 0.1036641922636069,\n",
       " 0.10318898021515968,\n",
       " 0.10373394277756368,\n",
       " 0.1031854433359155,\n",
       " 0.10358152093865679,\n",
       " 0.10337051726988009,\n",
       " 0.10331267880913457,\n",
       " 0.10357866197166189,\n",
       " 0.10311817811065223,\n",
       " 0.10363291216611305,\n",
       " 0.10312563593342837,\n",
       " 0.10347990505843989,\n",
       " 0.10330469347173332,\n",
       " 0.10322606147605493,\n",
       " 0.10349574579491161,\n",
       " 0.10305092383855331,\n",
       " 0.10353596767886396,\n",
       " 0.10306796106430638,\n",
       " 0.10338329187689041,\n",
       " 0.1032406048601194,\n",
       " 0.10314409902763633,\n",
       " 0.10341542003741387,\n",
       " 0.10298699083256745,\n",
       " 0.10344299518268209,\n",
       " 0.10301230698719399,\n",
       " 0.10329145824625176,\n",
       " 0.10317822745556528,\n",
       " 0.10306652563133754,\n",
       " 0.10333765692703684,\n",
       " 0.1029261683075489,\n",
       " 0.10335387900060433,\n",
       " 0.10295857161483514,\n",
       " 0.10320418762030917,\n",
       " 0.10311753818161848,\n",
       " 0.102993089363042,\n",
       " 0.10326242491596366,\n",
       " 0.10286826027242685,\n",
       " 0.10326850243376957,\n",
       " 0.10290666162042005,\n",
       " 0.10312127020397699,\n",
       " 0.10305851455343532,\n",
       " 0.10292355169725735,\n",
       " 0.10318968898223918,\n",
       " 0.10281308458808776,\n",
       " 0.10318674824149193,\n",
       " 0.10285649161322259,\n",
       " 0.10304250305937457,\n",
       " 0.10300113441423746,\n",
       " 0.10285768699308621,\n",
       " 0.10311941092984242,\n",
       " 0.10276047206980969,\n",
       " 0.1031084990810359,\n",
       " 0.10280798337952776,\n",
       " 0.10296769017236512,\n",
       " 0.10294537571488693,\n",
       " 0.10279528197892367,\n",
       " 0.10305154968510336,\n",
       " 0.1027102656336529,\n",
       " 0.1030336379087295,\n",
       " 0.10276106518496549,\n",
       " 0.10289664248331683,\n",
       " 0.10289121633216713,\n",
       " 0.10273613523851734,\n",
       " 0.10298606158758901,\n",
       " 0.10266231948604713,\n",
       " 0.10296204834410941,\n",
       " 0.10271567113449194,\n",
       " 0.10282917788563083,\n",
       " 0.102838633921678,\n",
       " 0.10268005670072554,\n",
       " 0.10292290067386359,\n",
       " 0.10261649835567418,\n",
       " 0.10289361499883057,\n",
       " 0.10267174058639038,\n",
       " 0.10276512119537137,\n",
       " 0.1027876058015617,\n",
       " 0.10262686713503127,\n",
       " 0.10286201895278277,\n",
       " 0.10257267676662433,\n",
       " 0.10282822377209687]"
      ]
     },
     "execution_count": 20,
     "metadata": {},
     "output_type": "execute_result"
    }
   ],
   "source": [
    "preds = preds[0]\n",
    "preds = preds.tolist()\n",
    "preds"
   ]
  },
  {
   "cell_type": "code",
   "execution_count": 21,
   "metadata": {},
   "outputs": [
    {
     "data": {
      "text/plain": [
       "0.009660378624085805"
      ]
     },
     "execution_count": 21,
     "metadata": {},
     "output_type": "execute_result"
    }
   ],
   "source": [
    "mse = mean_squared_error(test,preds)\n",
    "mse"
   ]
  },
  {
   "cell_type": "code",
   "execution_count": 22,
   "metadata": {},
   "outputs": [],
   "source": [
    "import pickle\n",
    "with open('dust_model_arima.pkl', 'wb') as fid:\n",
    "    pickle.dump(model_fit, fid)"
   ]
  },
  {
   "cell_type": "code",
   "execution_count": 24,
   "metadata": {},
   "outputs": [],
   "source": [
    "forecasting={\n",
    "    \n",
    "    'Day-1':preds[0],\n",
    "    'Day-2':preds[1],\n",
    "    'Day-3':preds[2],\n",
    "    'Day-4':preds[3],\n",
    "    'Day-5':preds[4],\n",
    "    'Day-6':preds[5],\n",
    "    'Day-7':preds[6],\n",
    "    'MSE': mse\n",
    "}"
   ]
  },
  {
   "cell_type": "code",
   "execution_count": 25,
   "metadata": {},
   "outputs": [
    {
     "data": {
      "text/plain": [
       "{'Day-1': 0.10195667093450825,\n",
       " 'Day-2': 0.10238818569002217,\n",
       " 'Day-3': 0.10989159679019894,\n",
       " 'Day-4': 0.10745463108592358,\n",
       " 'Day-5': 0.10996666466970699,\n",
       " 'Day-6': 0.10932679113181677,\n",
       " 'Day-7': 0.107849996722571,\n",
       " 'MSE': 0.009660378624085805}"
      ]
     },
     "execution_count": 25,
     "metadata": {},
     "output_type": "execute_result"
    }
   ],
   "source": [
    "forecasting"
   ]
  },
  {
   "cell_type": "code",
   "execution_count": 26,
   "metadata": {},
   "outputs": [],
   "source": [
    "import firebase_admin\n",
    "from firebase_admin import credentials\n",
    "from firebase_admin import db\n",
    "cred = credentials.Certificate(\"../config/sensors-forecasting-fc27d-firebase-adminsdk-krgvi-403182645e.json\")\n",
    "firebase_admin.initialize_app(cred,{'databaseURL':'https://sensors-forecasting-fc27d-default-rtdb.firebaseio.com/'})\n",
    "ref = db.reference(\"/Models/ARIMA\")\n",
    "upload_ref = ref.child('Dust')\n",
    "upload_ref.update(forecasting)"
   ]
  },
  {
   "cell_type": "code",
   "execution_count": null,
   "metadata": {},
   "outputs": [],
   "source": []
  }
 ],
 "metadata": {
  "kernelspec": {
   "display_name": "Python 3",
   "language": "python",
   "name": "python3"
  },
  "language_info": {
   "codemirror_mode": {
    "name": "ipython",
    "version": 3
   },
   "file_extension": ".py",
   "mimetype": "text/x-python",
   "name": "python",
   "nbconvert_exporter": "python",
   "pygments_lexer": "ipython3",
   "version": "3.7.2"
  }
 },
 "nbformat": 4,
 "nbformat_minor": 1
}
