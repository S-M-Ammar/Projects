{
 "cells": [
  {
   "cell_type": "code",
   "execution_count": 1,
   "metadata": {},
   "outputs": [],
   "source": [
    "import pandas as pd\n",
    "import numpy as np"
   ]
  },
  {
   "cell_type": "code",
   "execution_count": 2,
   "metadata": {},
   "outputs": [
    {
     "data": {
      "text/html": [
       "<div>\n",
       "<style scoped>\n",
       "    .dataframe tbody tr th:only-of-type {\n",
       "        vertical-align: middle;\n",
       "    }\n",
       "\n",
       "    .dataframe tbody tr th {\n",
       "        vertical-align: top;\n",
       "    }\n",
       "\n",
       "    .dataframe thead th {\n",
       "        text-align: right;\n",
       "    }\n",
       "</style>\n",
       "<table border=\"1\" class=\"dataframe\">\n",
       "  <thead>\n",
       "    <tr style=\"text-align: right;\">\n",
       "      <th></th>\n",
       "      <th>Unnamed: 0</th>\n",
       "      <th>dge</th>\n",
       "      <th>Type</th>\n",
       "      <th>Region</th>\n",
       "      <th>Min</th>\n",
       "      <th>Max</th>\n",
       "    </tr>\n",
       "  </thead>\n",
       "  <tbody>\n",
       "    <tr>\n",
       "      <th>0</th>\n",
       "      <td>0</td>\n",
       "      <td>Lausanne</td>\n",
       "      <td>Einfamilienhauser</td>\n",
       "      <td>Lausanne</td>\n",
       "      <td>1660</td>\n",
       "      <td>1970</td>\n",
       "    </tr>\n",
       "    <tr>\n",
       "      <th>1</th>\n",
       "      <td>1</td>\n",
       "      <td>Lausanne</td>\n",
       "      <td>Einfamilienhauser</td>\n",
       "      <td>VD</td>\n",
       "      <td>1164</td>\n",
       "      <td>1854</td>\n",
       "    </tr>\n",
       "    <tr>\n",
       "      <th>2</th>\n",
       "      <td>2</td>\n",
       "      <td>Lausanne</td>\n",
       "      <td>Einfamilienhauser</td>\n",
       "      <td>CH</td>\n",
       "      <td>985</td>\n",
       "      <td>1666</td>\n",
       "    </tr>\n",
       "    <tr>\n",
       "      <th>3</th>\n",
       "      <td>3</td>\n",
       "      <td>Lausanne</td>\n",
       "      <td>Stockwerkeigentum</td>\n",
       "      <td>Lausanne</td>\n",
       "      <td>1280</td>\n",
       "      <td>1380</td>\n",
       "    </tr>\n",
       "    <tr>\n",
       "      <th>4</th>\n",
       "      <td>4</td>\n",
       "      <td>Lausanne</td>\n",
       "      <td>Stockwerkeigentum</td>\n",
       "      <td>VD</td>\n",
       "      <td>835</td>\n",
       "      <td>1226</td>\n",
       "    </tr>\n",
       "    <tr>\n",
       "      <th>...</th>\n",
       "      <td>...</td>\n",
       "      <td>...</td>\n",
       "      <td>...</td>\n",
       "      <td>...</td>\n",
       "      <td>...</td>\n",
       "      <td>...</td>\n",
       "    </tr>\n",
       "    <tr>\n",
       "      <th>17158</th>\n",
       "      <td>17158</td>\n",
       "      <td>Verzasca</td>\n",
       "      <td>Stockwerkeigentum</td>\n",
       "      <td>TI</td>\n",
       "      <td>682</td>\n",
       "      <td>1008</td>\n",
       "    </tr>\n",
       "    <tr>\n",
       "      <th>17159</th>\n",
       "      <td>17159</td>\n",
       "      <td>Verzasca</td>\n",
       "      <td>Stockwerkeigentum</td>\n",
       "      <td>CH</td>\n",
       "      <td>695</td>\n",
       "      <td>1107</td>\n",
       "    </tr>\n",
       "    <tr>\n",
       "      <th>17160</th>\n",
       "      <td>17160</td>\n",
       "      <td>Verzasca</td>\n",
       "      <td>Mietwohnungen</td>\n",
       "      <td>Brione (Verzasca)</td>\n",
       "      <td>1310</td>\n",
       "      <td>1530</td>\n",
       "    </tr>\n",
       "    <tr>\n",
       "      <th>17161</th>\n",
       "      <td>17161</td>\n",
       "      <td>Verzasca</td>\n",
       "      <td>Mietwohnungen</td>\n",
       "      <td>TI</td>\n",
       "      <td>1350</td>\n",
       "      <td>1940</td>\n",
       "    </tr>\n",
       "    <tr>\n",
       "      <th>17162</th>\n",
       "      <td>17162</td>\n",
       "      <td>Verzasca</td>\n",
       "      <td>Mietwohnungen</td>\n",
       "      <td>CH</td>\n",
       "      <td>1460</td>\n",
       "      <td>2150</td>\n",
       "    </tr>\n",
       "  </tbody>\n",
       "</table>\n",
       "<p>17163 rows × 6 columns</p>\n",
       "</div>"
      ],
      "text/plain": [
       "       Unnamed: 0       dge               Type             Region   Min   Max\n",
       "0               0  Lausanne  Einfamilienhauser           Lausanne  1660  1970\n",
       "1               1  Lausanne  Einfamilienhauser                 VD  1164  1854\n",
       "2               2  Lausanne  Einfamilienhauser                 CH   985  1666\n",
       "3               3  Lausanne  Stockwerkeigentum           Lausanne  1280  1380\n",
       "4               4  Lausanne  Stockwerkeigentum                 VD   835  1226\n",
       "...           ...       ...                ...                ...   ...   ...\n",
       "17158       17158  Verzasca  Stockwerkeigentum                 TI   682  1008\n",
       "17159       17159  Verzasca  Stockwerkeigentum                 CH   695  1107\n",
       "17160       17160  Verzasca      Mietwohnungen  Brione (Verzasca)  1310  1530\n",
       "17161       17161  Verzasca      Mietwohnungen                 TI  1350  1940\n",
       "17162       17162  Verzasca      Mietwohnungen                 CH  1460  2150\n",
       "\n",
       "[17163 rows x 6 columns]"
      ]
     },
     "execution_count": 2,
     "metadata": {},
     "output_type": "execute_result"
    }
   ],
   "source": [
    "df = pd.read_excel('./outputFile.xlsx')\n",
    "df"
   ]
  },
  {
   "cell_type": "code",
   "execution_count": 3,
   "metadata": {},
   "outputs": [
    {
     "data": {
      "text/html": [
       "<div>\n",
       "<style scoped>\n",
       "    .dataframe tbody tr th:only-of-type {\n",
       "        vertical-align: middle;\n",
       "    }\n",
       "\n",
       "    .dataframe tbody tr th {\n",
       "        vertical-align: top;\n",
       "    }\n",
       "\n",
       "    .dataframe thead th {\n",
       "        text-align: right;\n",
       "    }\n",
       "</style>\n",
       "<table border=\"1\" class=\"dataframe\">\n",
       "  <thead>\n",
       "    <tr style=\"text-align: right;\">\n",
       "      <th></th>\n",
       "      <th>plz</th>\n",
       "      <th>dge_name</th>\n",
       "    </tr>\n",
       "  </thead>\n",
       "  <tbody>\n",
       "    <tr>\n",
       "      <th>0</th>\n",
       "      <td>1000.0</td>\n",
       "      <td>Lausanne</td>\n",
       "    </tr>\n",
       "    <tr>\n",
       "      <th>1</th>\n",
       "      <td>1008.0</td>\n",
       "      <td>Jouxtens-Mézery</td>\n",
       "    </tr>\n",
       "    <tr>\n",
       "      <th>2</th>\n",
       "      <td>1008.0</td>\n",
       "      <td>Prilly</td>\n",
       "    </tr>\n",
       "    <tr>\n",
       "      <th>3</th>\n",
       "      <td>1008.0</td>\n",
       "      <td>Renens (VD)</td>\n",
       "    </tr>\n",
       "    <tr>\n",
       "      <th>4</th>\n",
       "      <td>1009.0</td>\n",
       "      <td>Pully</td>\n",
       "    </tr>\n",
       "    <tr>\n",
       "      <th>...</th>\n",
       "      <td>...</td>\n",
       "      <td>...</td>\n",
       "    </tr>\n",
       "    <tr>\n",
       "      <th>2167</th>\n",
       "      <td>NaN</td>\n",
       "      <td>Welschenrohr-Gänsbrunnen</td>\n",
       "    </tr>\n",
       "    <tr>\n",
       "      <th>2168</th>\n",
       "      <td>NaN</td>\n",
       "      <td>Muntogna da Schons</td>\n",
       "    </tr>\n",
       "    <tr>\n",
       "      <th>2169</th>\n",
       "      <td>NaN</td>\n",
       "      <td>Verzasca</td>\n",
       "    </tr>\n",
       "    <tr>\n",
       "      <th>2170</th>\n",
       "      <td>NaN</td>\n",
       "      <td>Val de Bagnes</td>\n",
       "    </tr>\n",
       "    <tr>\n",
       "      <th>2171</th>\n",
       "      <td>NaN</td>\n",
       "      <td>Noble-Contrée</td>\n",
       "    </tr>\n",
       "  </tbody>\n",
       "</table>\n",
       "<p>2172 rows × 2 columns</p>\n",
       "</div>"
      ],
      "text/plain": [
       "         plz                  dge_name\n",
       "0     1000.0                  Lausanne\n",
       "1     1008.0           Jouxtens-Mézery\n",
       "2     1008.0                    Prilly\n",
       "3     1008.0               Renens (VD)\n",
       "4     1009.0                     Pully\n",
       "...      ...                       ...\n",
       "2167     NaN  Welschenrohr-Gänsbrunnen\n",
       "2168     NaN        Muntogna da Schons\n",
       "2169     NaN                  Verzasca\n",
       "2170     NaN             Val de Bagnes\n",
       "2171     NaN             Noble-Contrée\n",
       "\n",
       "[2172 rows x 2 columns]"
      ]
     },
     "execution_count": 3,
     "metadata": {},
     "output_type": "execute_result"
    }
   ],
   "source": [
    "df_c = pd.read_excel('./City_List.xlsx')\n",
    "df_c"
   ]
  },
  {
   "cell_type": "code",
   "execution_count": 5,
   "metadata": {},
   "outputs": [
    {
     "data": {
      "text/plain": [
       "1905"
      ]
     },
     "execution_count": 5,
     "metadata": {},
     "output_type": "execute_result"
    }
   ],
   "source": [
    "len(df['dge'].unique())"
   ]
  },
  {
   "cell_type": "code",
   "execution_count": 6,
   "metadata": {},
   "outputs": [
    {
     "data": {
      "text/plain": [
       "2172"
      ]
     },
     "execution_count": 6,
     "metadata": {},
     "output_type": "execute_result"
    }
   ],
   "source": [
    "len(df_c['dge_name'].unique())"
   ]
  },
  {
   "cell_type": "code",
   "execution_count": 7,
   "metadata": {},
   "outputs": [
    {
     "data": {
      "text/plain": [
       "267"
      ]
     },
     "execution_count": 7,
     "metadata": {},
     "output_type": "execute_result"
    }
   ],
   "source": [
    "2172-1905"
   ]
  },
  {
   "cell_type": "code",
   "execution_count": null,
   "metadata": {},
   "outputs": [],
   "source": []
  }
 ],
 "metadata": {
  "kernelspec": {
   "display_name": "Python 3",
   "language": "python",
   "name": "python3"
  },
  "language_info": {
   "codemirror_mode": {
    "name": "ipython",
    "version": 3
   },
   "file_extension": ".py",
   "mimetype": "text/x-python",
   "name": "python",
   "nbconvert_exporter": "python",
   "pygments_lexer": "ipython3",
   "version": "3.7.2"
  }
 },
 "nbformat": 4,
 "nbformat_minor": 1
}
