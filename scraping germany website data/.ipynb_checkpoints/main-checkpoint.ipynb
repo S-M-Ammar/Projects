{
 "cells": [
  {
   "cell_type": "code",
   "execution_count": 1,
   "metadata": {},
   "outputs": [],
   "source": [
    "from bs4 import BeautifulSoup\n",
    "import requests\n",
    "import csv\n",
    "import pandas as pd\n",
    "import json"
   ]
  },
  {
   "cell_type": "code",
   "execution_count": 2,
   "metadata": {},
   "outputs": [],
   "source": [
    "# !pip install beautifulsoup4\n"
   ]
  },
  {
   "cell_type": "code",
   "execution_count": 3,
   "metadata": {},
   "outputs": [],
   "source": [
    "url = 'https://www.raiffeisen.ch/oberes-rheintal/de/privatkunden/hypotheken/hypopedia/gemeindeinfo.lausanne.html'\n",
    "source = requests.get(url).text\n",
    "soup = BeautifulSoup(source,'lxml')\n",
    "category_data = soup.find_all(\"div\",{\"class\":\"fsBarChart__base\"})\n"
   ]
  },
  {
   "cell_type": "markdown",
   "metadata": {},
   "source": [
    "# Immobilienpreise und Mieten\n"
   ]
  },
  {
   "cell_type": "code",
   "execution_count": 4,
   "metadata": {},
   "outputs": [],
   "source": [
    "category_1 = soup.find_all(\"h2\", {\"class\": \"factsheet__headline\"})[0].text\n",
    "category_1 = category_1.replace('\\n',\"\")\n",
    "category_1 = category_1.strip()"
   ]
  },
  {
   "cell_type": "code",
   "execution_count": 5,
   "metadata": {},
   "outputs": [],
   "source": [
    "Einfamilienhauser = json.loads(category_data[0]['data-series'])\n",
    "Stockwerkeigentum = json.loads(category_data[1]['data-series'])\n",
    "Mietwohnungen = json.loads(category_data[2]['data-series'])"
   ]
  },
  {
   "cell_type": "code",
   "execution_count": 6,
   "metadata": {},
   "outputs": [
    {
     "data": {
      "text/plain": [
       "{'categories': [' '],\n",
       " 'series': [{'name': 'Lausanne',\n",
       "   'dashStyle': 'LongDash',\n",
       "   'data': [{'low': 1660, 'y': 1970, 'high': 1970}]},\n",
       "  {'name': 'VD',\n",
       "   'dashStyle': 'Dot',\n",
       "   'data': [{'low': 1164, 'y': 1854, 'high': 1854}]},\n",
       "  {'name': 'CH',\n",
       "   'dashStyle': 'LongDashDot',\n",
       "   'data': [{'low': 985, 'y': 1666, 'high': 1666}]}]}"
      ]
     },
     "execution_count": 6,
     "metadata": {},
     "output_type": "execute_result"
    }
   ],
   "source": [
    "Einfamilienhauser"
   ]
  },
  {
   "cell_type": "code",
   "execution_count": 7,
   "metadata": {},
   "outputs": [
    {
     "data": {
      "text/plain": [
       "{'categories': [' '],\n",
       " 'series': [{'name': 'Lausanne',\n",
       "   'dashStyle': 'LongDash',\n",
       "   'data': [{'low': 1280, 'y': 1380, 'high': 1380}]},\n",
       "  {'name': 'VD',\n",
       "   'dashStyle': 'Dot',\n",
       "   'data': [{'low': 835, 'y': 1226, 'high': 1226}]},\n",
       "  {'name': 'CH',\n",
       "   'dashStyle': 'LongDashDot',\n",
       "   'data': [{'low': 695, 'y': 1107, 'high': 1107}]}]}"
      ]
     },
     "execution_count": 7,
     "metadata": {},
     "output_type": "execute_result"
    }
   ],
   "source": [
    "Stockwerkeigentum"
   ]
  },
  {
   "cell_type": "code",
   "execution_count": 8,
   "metadata": {},
   "outputs": [
    {
     "data": {
      "text/plain": [
       "{'categories': [' '],\n",
       " 'series': [{'name': 'Lausanne',\n",
       "   'dashStyle': 'LongDash',\n",
       "   'data': [{'low': 2360, 'y': 2420, 'high': 2420}]},\n",
       "  {'name': 'VD',\n",
       "   'dashStyle': 'Dot',\n",
       "   'data': [{'low': 1790, 'y': 2620, 'high': 2620}]},\n",
       "  {'name': 'CH',\n",
       "   'dashStyle': 'LongDashDot',\n",
       "   'data': [{'low': 1460, 'y': 2150, 'high': 2150}]}]}"
      ]
     },
     "execution_count": 8,
     "metadata": {},
     "output_type": "execute_result"
    }
   ],
   "source": [
    "Mietwohnungen"
   ]
  },
  {
   "cell_type": "markdown",
   "metadata": {},
   "source": [
    "#  Wohn­ungs­markt "
   ]
  },
  {
   "cell_type": "code",
   "execution_count": 9,
   "metadata": {},
   "outputs": [],
   "source": [
    "Leerwohnungsziffer = json.loads(category_data[6]['data-series'])\n",
    "Angebot_Nachfrage = json.loads(category_data[7]['data-series'])\n",
    "Angebot_Nachfrage_nach_Typen = json.loads(category_data[8]['data-series'])"
   ]
  },
  {
   "cell_type": "code",
   "execution_count": 10,
   "metadata": {},
   "outputs": [
    {
     "data": {
      "text/plain": [
       "{'categories': [' '],\n",
       " 'series': [{'name': 'Lausanne', 'dashStyle': 'LongDash', 'data': [0.4]},\n",
       "  {'name': 'VD', 'dashStyle': 'Dot', 'data': [1.1]},\n",
       "  {'name': 'CH', 'dashStyle': 'LongDashDot', 'data': [1.7]}]}"
      ]
     },
     "execution_count": 10,
     "metadata": {},
     "output_type": "execute_result"
    }
   ],
   "source": [
    "Leerwohnungsziffer"
   ]
  },
  {
   "cell_type": "code",
   "execution_count": 11,
   "metadata": {},
   "outputs": [
    {
     "data": {
      "text/plain": [
       "{'categories': ['Lausanne', 'MS-Region', 'Kanton'],\n",
       " 'series': [{'name': 'Suchabos (gezielt im Gebiet)',\n",
       "   'dashStyle': 'LongDash',\n",
       "   'data': [0.8, 1.3, 1.4],\n",
       "   'type': 'column',\n",
       "   'colour': '#adb4c2'},\n",
       "  {'name': 'Suchabos (Umkreissuche)',\n",
       "   'dashStyle': 'Dot',\n",
       "   'data': [3.8, 2.0, 0.8],\n",
       "   'type': 'column',\n",
       "   'colour': '#aaa196'},\n",
       "  {'name': 'Angebotene Wohnungen',\n",
       "   'dashStyle': 'LongDash',\n",
       "   'data': [2.6, 2.5, 2.2],\n",
       "   'type': 'scatter',\n",
       "   'colour': '#000000'}]}"
      ]
     },
     "execution_count": 11,
     "metadata": {},
     "output_type": "execute_result"
    }
   ],
   "source": [
    "Angebot_Nachfrage\n"
   ]
  },
  {
   "cell_type": "code",
   "execution_count": 12,
   "metadata": {},
   "outputs": [
    {
     "data": {
      "text/plain": [
       "{'categories': ['1-2 Zi', '3-4 Zi', '5+ Zi'],\n",
       " 'series': [{'name': 'Nachgefragte Wohnungen',\n",
       "   'dashStyle': 'LongDash',\n",
       "   'data': [44.5, 50.0, 5.5],\n",
       "   'type': 'column',\n",
       "   'colour': '#adb4c2'},\n",
       "  {'name': 'Angebotene Wohnungen',\n",
       "   'dashStyle': 'LongDash',\n",
       "   'data': [48.4, 45.1, 6.5],\n",
       "   'type': 'scatter',\n",
       "   'colour': '#000000'}]}"
      ]
     },
     "execution_count": 12,
     "metadata": {},
     "output_type": "execute_result"
    }
   ],
   "source": [
    "Angebot_Nachfrage_nach_Typen \n"
   ]
  },
  {
   "cell_type": "markdown",
   "metadata": {},
   "source": [
    "# Bau"
   ]
  },
  {
   "cell_type": "code",
   "execution_count": 13,
   "metadata": {},
   "outputs": [
    {
     "data": {
      "text/plain": [
       "{'categories': ['Neu erstellt (2015 - 2017)', 'Bewilligt (2017 - 2019)'],\n",
       " 'series': [{'name': 'Lausanne', 'dashStyle': 'LongDash', 'data': [1.0, 0.5]},\n",
       "  {'name': 'VD', 'dashStyle': 'Dot', 'data': [1.2, 1.0]},\n",
       "  {'name': 'CH', 'dashStyle': 'LongDashDot', 'data': [1.2, 1.0]}]}"
      ]
     },
     "execution_count": 13,
     "metadata": {},
     "output_type": "execute_result"
    }
   ],
   "source": [
    "json.loads(category_data[14]['data-series'])"
   ]
  },
  {
   "cell_type": "markdown",
   "metadata": {},
   "source": [
    "# Mobilität \n"
   ]
  },
  {
   "cell_type": "code",
   "execution_count": 30,
   "metadata": {},
   "outputs": [],
   "source": [
    "x = soup.find('section',{\"class\":\"factsheet__timeToCentre\"}).find_all('a',{'class':\"fsIconlist__cityName\"})\n",
    "\n"
   ]
  },
  {
   "cell_type": "code",
   "execution_count": 31,
   "metadata": {},
   "outputs": [
    {
     "data": {
      "text/plain": [
       "[<td class=\"fsIconlist__itemData\">14</td>,\n",
       " <td class=\"fsIconlist__itemData\">18</td>,\n",
       " <td class=\"fsIconlist__itemData\">16</td>,\n",
       " <td class=\"fsIconlist__itemData\">28</td>,\n",
       " <td class=\"fsIconlist__itemData\">17</td>,\n",
       " <td class=\"fsIconlist__itemData\">25</td>,\n",
       " <td class=\"fsIconlist__itemData\">56</td>,\n",
       " <td class=\"fsIconlist__itemData\">73</td>,\n",
       " <td class=\"fsIconlist__itemData\">59</td>,\n",
       " <td class=\"fsIconlist__itemData\">72</td>,\n",
       " <td class=\"fsIconlist__itemData\">61</td>,\n",
       " <td class=\"fsIconlist__itemData\">75</td>]"
      ]
     },
     "execution_count": 31,
     "metadata": {},
     "output_type": "execute_result"
    }
   ],
   "source": [
    "y = soup.find('section',{\"class\":\"factsheet__timeToCentre\"}).find_all('td',{'class':\"fsIconlist__itemData\"})\n",
    "y"
   ]
  },
  {
   "cell_type": "code",
   "execution_count": null,
   "metadata": {},
   "outputs": [],
   "source": []
  },
  {
   "cell_type": "code",
   "execution_count": null,
   "metadata": {},
   "outputs": [],
   "source": []
  }
 ],
 "metadata": {
  "kernelspec": {
   "display_name": "Python 3",
   "language": "python",
   "name": "python3"
  },
  "language_info": {
   "codemirror_mode": {
    "name": "ipython",
    "version": 3
   },
   "file_extension": ".py",
   "mimetype": "text/x-python",
   "name": "python",
   "nbconvert_exporter": "python",
   "pygments_lexer": "ipython3",
   "version": "3.7.2"
  }
 },
 "nbformat": 4,
 "nbformat_minor": 1
}
