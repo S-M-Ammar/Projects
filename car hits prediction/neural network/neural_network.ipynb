{
  "nbformat": 4,
  "nbformat_minor": 0,
  "metadata": {
    "colab": {
      "name": "Untitled1.ipynb",
      "provenance": [],
      "collapsed_sections": []
    },
    "kernelspec": {
      "name": "python3",
      "display_name": "Python 3"
    }
  },
  "cells": [
    {
      "cell_type": "code",
      "metadata": {
        "id": "D7uw8V26sM66"
      },
      "source": [
        "from keras.callbacks import ModelCheckpoint\r\n",
        "from keras.models import Sequential\r\n",
        "from keras.layers import Dense, Activation, Flatten\r\n",
        "from sklearn.model_selection import train_test_split\r\n",
        "from sklearn.ensemble import RandomForestRegressor\r\n",
        "from sklearn.metrics import mean_absolute_error \r\n",
        "from matplotlib import pyplot as plt\r\n",
        "import seaborn as sb\r\n",
        "import matplotlib.pyplot as plt\r\n",
        "import pandas as pd\r\n",
        "import numpy as np\r\n",
        "import warnings \r\n",
        "warnings.filterwarnings('ignore')\r\n",
        "warnings.filterwarnings('ignore', category=DeprecationWarning)\r\n",
        "from xgboost import XGBRegressor"
      ],
      "execution_count": 1,
      "outputs": []
    },
    {
      "cell_type": "code",
      "metadata": {
        "id": "n2Ze2NFAso1K"
      },
      "source": [
        "df = pd.read_csv('/content/preprocessedData.csv')\r\n"
      ],
      "execution_count": 2,
      "outputs": []
    },
    {
      "cell_type": "code",
      "metadata": {
        "colab": {
          "base_uri": "https://localhost:8080/"
        },
        "id": "KrW3Fcyxwi8P",
        "outputId": "0d43d22a-f1c6-420b-9b82-58a57a3e054f"
      },
      "source": [
        "from sklearn.model_selection import train_test_split\r\n",
        "target = np.array(df['HITS'])\r\n",
        "df.drop(labels='HITS',axis=1,inplace=True)\r\n",
        "features = np.array(df)\r\n",
        "train_features, test_features, train_labels, test_labels = train_test_split(features, target, test_size = 0.25, random_state = 42)\r\n",
        "\r\n",
        "print('Training Features Shape:', train_features.shape)\r\n",
        "print('Training Labels Shape:', train_labels.shape)\r\n",
        "print('Testing Features Shape:', test_features.shape)\r\n",
        "print('Testing Labels Shape:', test_labels.shape)"
      ],
      "execution_count": 3,
      "outputs": [
        {
          "output_type": "stream",
          "text": [
            "Training Features Shape: (446802, 68)\n",
            "Training Labels Shape: (446802,)\n",
            "Testing Features Shape: (148935, 68)\n",
            "Testing Labels Shape: (148935,)\n"
          ],
          "name": "stdout"
        }
      ]
    },
    {
      "cell_type": "code",
      "metadata": {
        "colab": {
          "base_uri": "https://localhost:8080/"
        },
        "id": "dM_a4mL4y7HW",
        "outputId": "70cc94a5-c456-4283-f406-ec0b9959b215"
      },
      "source": [
        "NN_model = Sequential()\r\n",
        "\r\n",
        "# The Input Layer :\r\n",
        "NN_model.add(Dense(128, kernel_initializer='normal',input_dim = train_features.shape[1], activation='relu'))\r\n",
        "\r\n",
        "# The Hidden Layers :\r\n",
        "NN_model.add(Dense(256, kernel_initializer='normal',activation='relu'))\r\n",
        "NN_model.add(Dense(256, kernel_initializer='normal',activation='relu'))\r\n",
        "NN_model.add(Dense(256, kernel_initializer='normal',activation='relu'))\r\n",
        "NN_model.add(Dense(256, kernel_initializer='normal',activation='relu'))\r\n",
        "\r\n",
        "# The Output Layer :\r\n",
        "NN_model.add(Dense(1, kernel_initializer='normal',activation='linear'))\r\n",
        "\r\n",
        "# Compile the network :\r\n",
        "NN_model.compile(loss='mean_absolute_error', optimizer='adam', metrics=['mean_absolute_error'])\r\n",
        "NN_model.summary()"
      ],
      "execution_count": 4,
      "outputs": [
        {
          "output_type": "stream",
          "text": [
            "Model: \"sequential\"\n",
            "_________________________________________________________________\n",
            "Layer (type)                 Output Shape              Param #   \n",
            "=================================================================\n",
            "dense (Dense)                (None, 128)               8832      \n",
            "_________________________________________________________________\n",
            "dense_1 (Dense)              (None, 256)               33024     \n",
            "_________________________________________________________________\n",
            "dense_2 (Dense)              (None, 256)               65792     \n",
            "_________________________________________________________________\n",
            "dense_3 (Dense)              (None, 256)               65792     \n",
            "_________________________________________________________________\n",
            "dense_4 (Dense)              (None, 256)               65792     \n",
            "_________________________________________________________________\n",
            "dense_5 (Dense)              (None, 1)                 257       \n",
            "=================================================================\n",
            "Total params: 239,489\n",
            "Trainable params: 239,489\n",
            "Non-trainable params: 0\n",
            "_________________________________________________________________\n"
          ],
          "name": "stdout"
        }
      ]
    },
    {
      "cell_type": "code",
      "metadata": {
        "colab": {
          "base_uri": "https://localhost:8080/"
        },
        "id": "mdest73ry-sk",
        "outputId": "e9df8cd3-4d59-4328-86e4-448f53128b66"
      },
      "source": [
        "NN_model.fit(train_features, train_labels, epochs=50, batch_size=32, validation_split = 0.2)"
      ],
      "execution_count": 5,
      "outputs": [
        {
          "output_type": "stream",
          "text": [
            "Epoch 1/50\n",
            "11171/11171 [==============================] - 37s 3ms/step - loss: 1.2498 - mean_absolute_error: 1.2498 - val_loss: 0.2872 - val_mean_absolute_error: 0.2872\n",
            "Epoch 2/50\n",
            "11171/11171 [==============================] - 36s 3ms/step - loss: 0.2859 - mean_absolute_error: 0.2859 - val_loss: 0.2873 - val_mean_absolute_error: 0.2873\n",
            "Epoch 3/50\n",
            "11171/11171 [==============================] - 36s 3ms/step - loss: 0.2868 - mean_absolute_error: 0.2868 - val_loss: 0.2872 - val_mean_absolute_error: 0.2872\n",
            "Epoch 4/50\n",
            "11171/11171 [==============================] - 36s 3ms/step - loss: 0.2845 - mean_absolute_error: 0.2845 - val_loss: 0.2871 - val_mean_absolute_error: 0.2871\n",
            "Epoch 5/50\n",
            "11171/11171 [==============================] - 36s 3ms/step - loss: 0.2845 - mean_absolute_error: 0.2845 - val_loss: 0.2873 - val_mean_absolute_error: 0.2873\n",
            "Epoch 6/50\n",
            "11171/11171 [==============================] - 35s 3ms/step - loss: 0.2850 - mean_absolute_error: 0.2850 - val_loss: 0.2870 - val_mean_absolute_error: 0.2870\n",
            "Epoch 7/50\n",
            "11171/11171 [==============================] - 36s 3ms/step - loss: 0.2855 - mean_absolute_error: 0.2855 - val_loss: 0.2875 - val_mean_absolute_error: 0.2875\n",
            "Epoch 8/50\n",
            "11171/11171 [==============================] - 36s 3ms/step - loss: 0.2842 - mean_absolute_error: 0.2842 - val_loss: 0.2872 - val_mean_absolute_error: 0.2872\n",
            "Epoch 9/50\n",
            "11171/11171 [==============================] - 35s 3ms/step - loss: 0.2878 - mean_absolute_error: 0.2878 - val_loss: 0.2871 - val_mean_absolute_error: 0.2871\n",
            "Epoch 10/50\n",
            "11171/11171 [==============================] - 36s 3ms/step - loss: 0.2866 - mean_absolute_error: 0.2866 - val_loss: 0.2871 - val_mean_absolute_error: 0.2871\n",
            "Epoch 11/50\n",
            "11171/11171 [==============================] - 36s 3ms/step - loss: 0.2839 - mean_absolute_error: 0.2839 - val_loss: 0.2873 - val_mean_absolute_error: 0.2873\n",
            "Epoch 12/50\n",
            "11171/11171 [==============================] - 36s 3ms/step - loss: 0.2853 - mean_absolute_error: 0.2853 - val_loss: 0.2871 - val_mean_absolute_error: 0.2871\n",
            "Epoch 13/50\n",
            "11171/11171 [==============================] - 35s 3ms/step - loss: 0.2829 - mean_absolute_error: 0.2829 - val_loss: 0.2873 - val_mean_absolute_error: 0.2873\n",
            "Epoch 14/50\n",
            "11171/11171 [==============================] - 36s 3ms/step - loss: 0.2859 - mean_absolute_error: 0.2859 - val_loss: 0.2872 - val_mean_absolute_error: 0.2872\n",
            "Epoch 15/50\n",
            "11171/11171 [==============================] - 36s 3ms/step - loss: 0.2855 - mean_absolute_error: 0.2855 - val_loss: 0.2871 - val_mean_absolute_error: 0.2871\n",
            "Epoch 16/50\n",
            "11171/11171 [==============================] - 36s 3ms/step - loss: 0.2858 - mean_absolute_error: 0.2858 - val_loss: 0.2870 - val_mean_absolute_error: 0.2870\n",
            "Epoch 17/50\n",
            "11171/11171 [==============================] - 36s 3ms/step - loss: 0.2863 - mean_absolute_error: 0.2863 - val_loss: 0.2873 - val_mean_absolute_error: 0.2873\n",
            "Epoch 18/50\n",
            "11171/11171 [==============================] - 36s 3ms/step - loss: 0.2845 - mean_absolute_error: 0.2845 - val_loss: 0.2871 - val_mean_absolute_error: 0.2871\n",
            "Epoch 19/50\n",
            "11171/11171 [==============================] - 35s 3ms/step - loss: 0.2827 - mean_absolute_error: 0.2827 - val_loss: 0.2871 - val_mean_absolute_error: 0.2871\n",
            "Epoch 20/50\n",
            "11171/11171 [==============================] - 36s 3ms/step - loss: 0.2843 - mean_absolute_error: 0.2843 - val_loss: 0.2872 - val_mean_absolute_error: 0.2872\n",
            "Epoch 21/50\n",
            "11171/11171 [==============================] - 36s 3ms/step - loss: 0.2852 - mean_absolute_error: 0.2852 - val_loss: 0.2872 - val_mean_absolute_error: 0.2872\n",
            "Epoch 22/50\n",
            "11171/11171 [==============================] - 36s 3ms/step - loss: 0.2875 - mean_absolute_error: 0.2875 - val_loss: 0.2871 - val_mean_absolute_error: 0.2871\n",
            "Epoch 23/50\n",
            "11171/11171 [==============================] - 36s 3ms/step - loss: 0.2846 - mean_absolute_error: 0.2846 - val_loss: 0.2870 - val_mean_absolute_error: 0.2870\n",
            "Epoch 24/50\n",
            "11171/11171 [==============================] - 36s 3ms/step - loss: 0.2853 - mean_absolute_error: 0.2853 - val_loss: 0.2870 - val_mean_absolute_error: 0.2870\n",
            "Epoch 25/50\n",
            "11171/11171 [==============================] - 36s 3ms/step - loss: 0.2837 - mean_absolute_error: 0.2837 - val_loss: 0.2871 - val_mean_absolute_error: 0.2871\n",
            "Epoch 26/50\n",
            "11171/11171 [==============================] - 36s 3ms/step - loss: 0.2865 - mean_absolute_error: 0.2865 - val_loss: 0.2871 - val_mean_absolute_error: 0.2871\n",
            "Epoch 27/50\n",
            "11171/11171 [==============================] - 36s 3ms/step - loss: 0.2857 - mean_absolute_error: 0.2857 - val_loss: 0.2871 - val_mean_absolute_error: 0.2871\n",
            "Epoch 28/50\n",
            "11171/11171 [==============================] - 36s 3ms/step - loss: 0.2849 - mean_absolute_error: 0.2849 - val_loss: 0.2871 - val_mean_absolute_error: 0.2871\n",
            "Epoch 29/50\n",
            "11171/11171 [==============================] - 36s 3ms/step - loss: 0.2856 - mean_absolute_error: 0.2856 - val_loss: 0.2870 - val_mean_absolute_error: 0.2870\n",
            "Epoch 30/50\n",
            "11171/11171 [==============================] - 36s 3ms/step - loss: 0.2834 - mean_absolute_error: 0.2834 - val_loss: 0.2871 - val_mean_absolute_error: 0.2871\n",
            "Epoch 31/50\n",
            "11171/11171 [==============================] - 36s 3ms/step - loss: 0.2843 - mean_absolute_error: 0.2843 - val_loss: 0.2871 - val_mean_absolute_error: 0.2871\n",
            "Epoch 32/50\n",
            "11171/11171 [==============================] - 36s 3ms/step - loss: 0.2863 - mean_absolute_error: 0.2863 - val_loss: 0.2871 - val_mean_absolute_error: 0.2871\n",
            "Epoch 33/50\n",
            "11171/11171 [==============================] - 36s 3ms/step - loss: 0.2836 - mean_absolute_error: 0.2836 - val_loss: 0.2871 - val_mean_absolute_error: 0.2871\n",
            "Epoch 34/50\n",
            "11171/11171 [==============================] - 35s 3ms/step - loss: 0.2852 - mean_absolute_error: 0.2852 - val_loss: 0.2873 - val_mean_absolute_error: 0.2873\n",
            "Epoch 35/50\n",
            "11171/11171 [==============================] - 36s 3ms/step - loss: 0.2874 - mean_absolute_error: 0.2874 - val_loss: 0.2870 - val_mean_absolute_error: 0.2870\n",
            "Epoch 36/50\n",
            "11171/11171 [==============================] - 36s 3ms/step - loss: 0.2820 - mean_absolute_error: 0.2820 - val_loss: 0.2871 - val_mean_absolute_error: 0.2871\n",
            "Epoch 37/50\n",
            "11171/11171 [==============================] - 36s 3ms/step - loss: 0.2845 - mean_absolute_error: 0.2845 - val_loss: 0.2872 - val_mean_absolute_error: 0.2872\n",
            "Epoch 38/50\n",
            "11171/11171 [==============================] - 36s 3ms/step - loss: 0.2854 - mean_absolute_error: 0.2854 - val_loss: 0.2870 - val_mean_absolute_error: 0.2870\n",
            "Epoch 39/50\n",
            "11171/11171 [==============================] - 36s 3ms/step - loss: 0.2842 - mean_absolute_error: 0.2842 - val_loss: 0.2870 - val_mean_absolute_error: 0.2870\n",
            "Epoch 40/50\n",
            "11171/11171 [==============================] - 36s 3ms/step - loss: 0.2848 - mean_absolute_error: 0.2848 - val_loss: 0.2870 - val_mean_absolute_error: 0.2870\n",
            "Epoch 41/50\n",
            "11171/11171 [==============================] - 36s 3ms/step - loss: 0.2825 - mean_absolute_error: 0.2825 - val_loss: 0.2870 - val_mean_absolute_error: 0.2870\n",
            "Epoch 42/50\n",
            "11171/11171 [==============================] - 36s 3ms/step - loss: 0.2852 - mean_absolute_error: 0.2852 - val_loss: 0.2872 - val_mean_absolute_error: 0.2872\n",
            "Epoch 43/50\n",
            "11171/11171 [==============================] - 36s 3ms/step - loss: 0.2854 - mean_absolute_error: 0.2854 - val_loss: 0.2871 - val_mean_absolute_error: 0.2871\n",
            "Epoch 44/50\n",
            "11171/11171 [==============================] - 36s 3ms/step - loss: 0.2851 - mean_absolute_error: 0.2851 - val_loss: 0.2872 - val_mean_absolute_error: 0.2872\n",
            "Epoch 45/50\n",
            "11171/11171 [==============================] - 36s 3ms/step - loss: 0.2850 - mean_absolute_error: 0.2850 - val_loss: 0.2872 - val_mean_absolute_error: 0.2872\n",
            "Epoch 46/50\n",
            "11171/11171 [==============================] - 36s 3ms/step - loss: 0.2863 - mean_absolute_error: 0.2863 - val_loss: 0.2871 - val_mean_absolute_error: 0.2871\n",
            "Epoch 47/50\n",
            "11171/11171 [==============================] - 36s 3ms/step - loss: 0.2872 - mean_absolute_error: 0.2872 - val_loss: 0.2870 - val_mean_absolute_error: 0.2870\n",
            "Epoch 48/50\n",
            "11171/11171 [==============================] - 36s 3ms/step - loss: 0.2860 - mean_absolute_error: 0.2860 - val_loss: 0.2871 - val_mean_absolute_error: 0.2871\n",
            "Epoch 49/50\n",
            "11171/11171 [==============================] - 36s 3ms/step - loss: 0.2848 - mean_absolute_error: 0.2848 - val_loss: 0.2872 - val_mean_absolute_error: 0.2872\n",
            "Epoch 50/50\n",
            "11171/11171 [==============================] - 36s 3ms/step - loss: 0.2833 - mean_absolute_error: 0.2833 - val_loss: 0.2871 - val_mean_absolute_error: 0.2871\n"
          ],
          "name": "stdout"
        },
        {
          "output_type": "execute_result",
          "data": {
            "text/plain": [
              "<tensorflow.python.keras.callbacks.History at 0x7fab4f272278>"
            ]
          },
          "metadata": {
            "tags": []
          },
          "execution_count": 5
        }
      ]
    },
    {
      "cell_type": "code",
      "metadata": {
        "id": "juHgflzxJr6w",
        "colab": {
          "base_uri": "https://localhost:8080/"
        },
        "outputId": "3623e082-7c2d-4397-c630-5132754f72b3"
      },
      "source": [
        "model_json = NN_model.to_json()\r\n",
        "with open(\"/content/nn_model.json\", \"w\") as json_file:\r\n",
        "    json_file.write(model_json)\r\n",
        "# serialize weights to HDF5\r\n",
        "NN_model.save_weights(\"/content/nn_model.h5\")\r\n",
        "print(\"Saved model to disk\")"
      ],
      "execution_count": 8,
      "outputs": [
        {
          "output_type": "stream",
          "text": [
            "Saved model to disk\n"
          ],
          "name": "stdout"
        }
      ]
    },
    {
      "cell_type": "code",
      "metadata": {
        "colab": {
          "base_uri": "https://localhost:8080/"
        },
        "id": "7K6q8zaHuVk9",
        "outputId": "8ed325c3-933c-4e5d-c274-7280d7a8a06a"
      },
      "source": [
        "preds = NN_model.predict(test_features)\r\n",
        "from sklearn.metrics import mean_squared_error\r\n",
        "mean_squared_error(test_labels, preds)"
      ],
      "execution_count": 10,
      "outputs": [
        {
          "output_type": "execute_result",
          "data": {
            "text/plain": [
              "0.9460722749268206"
            ]
          },
          "metadata": {
            "tags": []
          },
          "execution_count": 10
        }
      ]
    }
  ]
}