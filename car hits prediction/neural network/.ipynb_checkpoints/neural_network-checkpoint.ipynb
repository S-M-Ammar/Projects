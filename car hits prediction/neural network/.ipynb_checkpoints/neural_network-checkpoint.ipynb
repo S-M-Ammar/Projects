{
 "cells": [
  {
   "cell_type": "code",
   "execution_count": 1,
   "metadata": {
    "id": "D7uw8V26sM66"
   },
   "outputs": [],
   "source": [
    "from keras.callbacks import ModelCheckpoint\n",
    "from keras.models import Sequential\n",
    "from keras.layers import Dense, Activation, Flatten\n",
    "from sklearn.model_selection import train_test_split\n",
    "from sklearn.ensemble import RandomForestRegressor\n",
    "from sklearn.metrics import mean_absolute_error \n",
    "from matplotlib import pyplot as plt\n",
    "import seaborn as sb\n",
    "import matplotlib.pyplot as plt\n",
    "import pandas as pd\n",
    "import numpy as np\n",
    "import warnings \n",
    "warnings.filterwarnings('ignore')\n",
    "warnings.filterwarnings('ignore', category=DeprecationWarning)\n",
    "from xgboost import XGBRegressor"
   ]
  },
  {
   "cell_type": "code",
   "execution_count": 2,
   "metadata": {
    "id": "n2Ze2NFAso1K"
   },
   "outputs": [],
   "source": [
    "df = pd.read_csv('/content/preprocessedData.csv')\n"
   ]
  },
  {
   "cell_type": "code",
   "execution_count": 3,
   "metadata": {
    "colab": {
     "base_uri": "https://localhost:8080/"
    },
    "id": "KrW3Fcyxwi8P",
    "outputId": "0d43d22a-f1c6-420b-9b82-58a57a3e054f"
   },
   "outputs": [
    {
     "name": "stdout",
     "output_type": "stream",
     "text": [
      "Training Features Shape: (446802, 68)\n",
      "Training Labels Shape: (446802,)\n",
      "Testing Features Shape: (148935, 68)\n",
      "Testing Labels Shape: (148935,)\n"
     ]
    }
   ],
   "source": [
    "from sklearn.model_selection import train_test_split\n",
    "target = np.array(df['HITS'])\n",
    "df.drop(labels='HITS',axis=1,inplace=True)\n",
    "features = np.array(df)\n",
    "train_features, test_features, train_labels, test_labels = train_test_split(features, target, test_size = 0.25, random_state = 42)\n",
    "\n",
    "print('Training Features Shape:', train_features.shape)\n",
    "print('Training Labels Shape:', train_labels.shape)\n",
    "print('Testing Features Shape:', test_features.shape)\n",
    "print('Testing Labels Shape:', test_labels.shape)"
   ]
  },
  {
   "cell_type": "code",
   "execution_count": 4,
   "metadata": {
    "colab": {
     "base_uri": "https://localhost:8080/"
    },
    "id": "dM_a4mL4y7HW",
    "outputId": "70cc94a5-c456-4283-f406-ec0b9959b215"
   },
   "outputs": [
    {
     "name": "stdout",
     "output_type": "stream",
     "text": [
      "Model: \"sequential\"\n",
      "_________________________________________________________________\n",
      "Layer (type)                 Output Shape              Param #   \n",
      "=================================================================\n",
      "dense (Dense)                (None, 128)               8832      \n",
      "_________________________________________________________________\n",
      "dense_1 (Dense)              (None, 256)               33024     \n",
      "_________________________________________________________________\n",
      "dense_2 (Dense)              (None, 256)               65792     \n",
      "_________________________________________________________________\n",
      "dense_3 (Dense)              (None, 256)               65792     \n",
      "_________________________________________________________________\n",
      "dense_4 (Dense)              (None, 256)               65792     \n",
      "_________________________________________________________________\n",
      "dense_5 (Dense)              (None, 1)                 257       \n",
      "=================================================================\n",
      "Total params: 239,489\n",
      "Trainable params: 239,489\n",
      "Non-trainable params: 0\n",
      "_________________________________________________________________\n"
     ]
    }
   ],
   "source": [
    "NN_model = Sequential()\n",
    "\n",
    "# The Input Layer :\n",
    "NN_model.add(Dense(128, kernel_initializer='normal',input_dim = train_features.shape[1], activation='relu'))\n",
    "\n",
    "# The Hidden Layers :\n",
    "NN_model.add(Dense(256, kernel_initializer='normal',activation='relu'))\n",
    "NN_model.add(Dense(256, kernel_initializer='normal',activation='relu'))\n",
    "NN_model.add(Dense(256, kernel_initializer='normal',activation='relu'))\n",
    "NN_model.add(Dense(256, kernel_initializer='normal',activation='relu'))\n",
    "\n",
    "# The Output Layer :\n",
    "NN_model.add(Dense(1, kernel_initializer='normal',activation='linear'))\n",
    "\n",
    "# Compile the network :\n",
    "NN_model.compile(loss='mean_absolute_error', optimizer='adam', metrics=['mean_absolute_error'])\n",
    "NN_model.summary()"
   ]
  },
  {
   "cell_type": "code",
   "execution_count": 5,
   "metadata": {
    "colab": {
     "base_uri": "https://localhost:8080/"
    },
    "id": "mdest73ry-sk",
    "outputId": "e9df8cd3-4d59-4328-86e4-448f53128b66"
   },
   "outputs": [
    {
     "name": "stdout",
     "output_type": "stream",
     "text": [
      "Epoch 1/50\n",
      "11171/11171 [==============================] - 37s 3ms/step - loss: 1.2498 - mean_absolute_error: 1.2498 - val_loss: 0.2872 - val_mean_absolute_error: 0.2872\n",
      "Epoch 2/50\n",
      "11171/11171 [==============================] - 36s 3ms/step - loss: 0.2859 - mean_absolute_error: 0.2859 - val_loss: 0.2873 - val_mean_absolute_error: 0.2873\n",
      "Epoch 3/50\n",
      "11171/11171 [==============================] - 36s 3ms/step - loss: 0.2868 - mean_absolute_error: 0.2868 - val_loss: 0.2872 - val_mean_absolute_error: 0.2872\n",
      "Epoch 4/50\n",
      "11171/11171 [==============================] - 36s 3ms/step - loss: 0.2845 - mean_absolute_error: 0.2845 - val_loss: 0.2871 - val_mean_absolute_error: 0.2871\n",
      "Epoch 5/50\n",
      "11171/11171 [==============================] - 36s 3ms/step - loss: 0.2845 - mean_absolute_error: 0.2845 - val_loss: 0.2873 - val_mean_absolute_error: 0.2873\n",
      "Epoch 6/50\n",
      "11171/11171 [==============================] - 35s 3ms/step - loss: 0.2850 - mean_absolute_error: 0.2850 - val_loss: 0.2870 - val_mean_absolute_error: 0.2870\n",
      "Epoch 7/50\n",
      "11171/11171 [==============================] - 36s 3ms/step - loss: 0.2855 - mean_absolute_error: 0.2855 - val_loss: 0.2875 - val_mean_absolute_error: 0.2875\n",
      "Epoch 8/50\n",
      "11171/11171 [==============================] - 36s 3ms/step - loss: 0.2842 - mean_absolute_error: 0.2842 - val_loss: 0.2872 - val_mean_absolute_error: 0.2872\n",
      "Epoch 9/50\n",
      "11171/11171 [==============================] - 35s 3ms/step - loss: 0.2878 - mean_absolute_error: 0.2878 - val_loss: 0.2871 - val_mean_absolute_error: 0.2871\n",
      "Epoch 10/50\n",
      "11171/11171 [==============================] - 36s 3ms/step - loss: 0.2866 - mean_absolute_error: 0.2866 - val_loss: 0.2871 - val_mean_absolute_error: 0.2871\n",
      "Epoch 11/50\n",
      "11171/11171 [==============================] - 36s 3ms/step - loss: 0.2839 - mean_absolute_error: 0.2839 - val_loss: 0.2873 - val_mean_absolute_error: 0.2873\n",
      "Epoch 12/50\n",
      "11171/11171 [==============================] - 36s 3ms/step - loss: 0.2853 - mean_absolute_error: 0.2853 - val_loss: 0.2871 - val_mean_absolute_error: 0.2871\n",
      "Epoch 13/50\n",
      "11171/11171 [==============================] - 35s 3ms/step - loss: 0.2829 - mean_absolute_error: 0.2829 - val_loss: 0.2873 - val_mean_absolute_error: 0.2873\n",
      "Epoch 14/50\n",
      "11171/11171 [==============================] - 36s 3ms/step - loss: 0.2859 - mean_absolute_error: 0.2859 - val_loss: 0.2872 - val_mean_absolute_error: 0.2872\n",
      "Epoch 15/50\n",
      "11171/11171 [==============================] - 36s 3ms/step - loss: 0.2855 - mean_absolute_error: 0.2855 - val_loss: 0.2871 - val_mean_absolute_error: 0.2871\n",
      "Epoch 16/50\n",
      "11171/11171 [==============================] - 36s 3ms/step - loss: 0.2858 - mean_absolute_error: 0.2858 - val_loss: 0.2870 - val_mean_absolute_error: 0.2870\n",
      "Epoch 17/50\n",
      "11171/11171 [==============================] - 36s 3ms/step - loss: 0.2863 - mean_absolute_error: 0.2863 - val_loss: 0.2873 - val_mean_absolute_error: 0.2873\n",
      "Epoch 18/50\n",
      "11171/11171 [==============================] - 36s 3ms/step - loss: 0.2845 - mean_absolute_error: 0.2845 - val_loss: 0.2871 - val_mean_absolute_error: 0.2871\n",
      "Epoch 19/50\n",
      "11171/11171 [==============================] - 35s 3ms/step - loss: 0.2827 - mean_absolute_error: 0.2827 - val_loss: 0.2871 - val_mean_absolute_error: 0.2871\n",
      "Epoch 20/50\n",
      "11171/11171 [==============================] - 36s 3ms/step - loss: 0.2843 - mean_absolute_error: 0.2843 - val_loss: 0.2872 - val_mean_absolute_error: 0.2872\n",
      "Epoch 21/50\n",
      "11171/11171 [==============================] - 36s 3ms/step - loss: 0.2852 - mean_absolute_error: 0.2852 - val_loss: 0.2872 - val_mean_absolute_error: 0.2872\n",
      "Epoch 22/50\n",
      "11171/11171 [==============================] - 36s 3ms/step - loss: 0.2875 - mean_absolute_error: 0.2875 - val_loss: 0.2871 - val_mean_absolute_error: 0.2871\n",
      "Epoch 23/50\n",
      "11171/11171 [==============================] - 36s 3ms/step - loss: 0.2846 - mean_absolute_error: 0.2846 - val_loss: 0.2870 - val_mean_absolute_error: 0.2870\n",
      "Epoch 24/50\n",
      "11171/11171 [==============================] - 36s 3ms/step - loss: 0.2853 - mean_absolute_error: 0.2853 - val_loss: 0.2870 - val_mean_absolute_error: 0.2870\n",
      "Epoch 25/50\n",
      "11171/11171 [==============================] - 36s 3ms/step - loss: 0.2837 - mean_absolute_error: 0.2837 - val_loss: 0.2871 - val_mean_absolute_error: 0.2871\n",
      "Epoch 26/50\n",
      "11171/11171 [==============================] - 36s 3ms/step - loss: 0.2865 - mean_absolute_error: 0.2865 - val_loss: 0.2871 - val_mean_absolute_error: 0.2871\n",
      "Epoch 27/50\n",
      "11171/11171 [==============================] - 36s 3ms/step - loss: 0.2857 - mean_absolute_error: 0.2857 - val_loss: 0.2871 - val_mean_absolute_error: 0.2871\n",
      "Epoch 28/50\n",
      "11171/11171 [==============================] - 36s 3ms/step - loss: 0.2849 - mean_absolute_error: 0.2849 - val_loss: 0.2871 - val_mean_absolute_error: 0.2871\n",
      "Epoch 29/50\n",
      "11171/11171 [==============================] - 36s 3ms/step - loss: 0.2856 - mean_absolute_error: 0.2856 - val_loss: 0.2870 - val_mean_absolute_error: 0.2870\n",
      "Epoch 30/50\n",
      "11171/11171 [==============================] - 36s 3ms/step - loss: 0.2834 - mean_absolute_error: 0.2834 - val_loss: 0.2871 - val_mean_absolute_error: 0.2871\n",
      "Epoch 31/50\n",
      "11171/11171 [==============================] - 36s 3ms/step - loss: 0.2843 - mean_absolute_error: 0.2843 - val_loss: 0.2871 - val_mean_absolute_error: 0.2871\n",
      "Epoch 32/50\n",
      "11171/11171 [==============================] - 36s 3ms/step - loss: 0.2863 - mean_absolute_error: 0.2863 - val_loss: 0.2871 - val_mean_absolute_error: 0.2871\n",
      "Epoch 33/50\n",
      "11171/11171 [==============================] - 36s 3ms/step - loss: 0.2836 - mean_absolute_error: 0.2836 - val_loss: 0.2871 - val_mean_absolute_error: 0.2871\n",
      "Epoch 34/50\n",
      "11171/11171 [==============================] - 35s 3ms/step - loss: 0.2852 - mean_absolute_error: 0.2852 - val_loss: 0.2873 - val_mean_absolute_error: 0.2873\n",
      "Epoch 35/50\n",
      "11171/11171 [==============================] - 36s 3ms/step - loss: 0.2874 - mean_absolute_error: 0.2874 - val_loss: 0.2870 - val_mean_absolute_error: 0.2870\n",
      "Epoch 36/50\n",
      "11171/11171 [==============================] - 36s 3ms/step - loss: 0.2820 - mean_absolute_error: 0.2820 - val_loss: 0.2871 - val_mean_absolute_error: 0.2871\n",
      "Epoch 37/50\n",
      "11171/11171 [==============================] - 36s 3ms/step - loss: 0.2845 - mean_absolute_error: 0.2845 - val_loss: 0.2872 - val_mean_absolute_error: 0.2872\n",
      "Epoch 38/50\n",
      "11171/11171 [==============================] - 36s 3ms/step - loss: 0.2854 - mean_absolute_error: 0.2854 - val_loss: 0.2870 - val_mean_absolute_error: 0.2870\n",
      "Epoch 39/50\n",
      "11171/11171 [==============================] - 36s 3ms/step - loss: 0.2842 - mean_absolute_error: 0.2842 - val_loss: 0.2870 - val_mean_absolute_error: 0.2870\n",
      "Epoch 40/50\n",
      "11171/11171 [==============================] - 36s 3ms/step - loss: 0.2848 - mean_absolute_error: 0.2848 - val_loss: 0.2870 - val_mean_absolute_error: 0.2870\n",
      "Epoch 41/50\n",
      "11171/11171 [==============================] - 36s 3ms/step - loss: 0.2825 - mean_absolute_error: 0.2825 - val_loss: 0.2870 - val_mean_absolute_error: 0.2870\n",
      "Epoch 42/50\n",
      "11171/11171 [==============================] - 36s 3ms/step - loss: 0.2852 - mean_absolute_error: 0.2852 - val_loss: 0.2872 - val_mean_absolute_error: 0.2872\n",
      "Epoch 43/50\n",
      "11171/11171 [==============================] - 36s 3ms/step - loss: 0.2854 - mean_absolute_error: 0.2854 - val_loss: 0.2871 - val_mean_absolute_error: 0.2871\n",
      "Epoch 44/50\n",
      "11171/11171 [==============================] - 36s 3ms/step - loss: 0.2851 - mean_absolute_error: 0.2851 - val_loss: 0.2872 - val_mean_absolute_error: 0.2872\n",
      "Epoch 45/50\n",
      "11171/11171 [==============================] - 36s 3ms/step - loss: 0.2850 - mean_absolute_error: 0.2850 - val_loss: 0.2872 - val_mean_absolute_error: 0.2872\n",
      "Epoch 46/50\n",
      "11171/11171 [==============================] - 36s 3ms/step - loss: 0.2863 - mean_absolute_error: 0.2863 - val_loss: 0.2871 - val_mean_absolute_error: 0.2871\n",
      "Epoch 47/50\n",
      "11171/11171 [==============================] - 36s 3ms/step - loss: 0.2872 - mean_absolute_error: 0.2872 - val_loss: 0.2870 - val_mean_absolute_error: 0.2870\n",
      "Epoch 48/50\n",
      "11171/11171 [==============================] - 36s 3ms/step - loss: 0.2860 - mean_absolute_error: 0.2860 - val_loss: 0.2871 - val_mean_absolute_error: 0.2871\n",
      "Epoch 49/50\n",
      "11171/11171 [==============================] - 36s 3ms/step - loss: 0.2848 - mean_absolute_error: 0.2848 - val_loss: 0.2872 - val_mean_absolute_error: 0.2872\n",
      "Epoch 50/50\n",
      "11171/11171 [==============================] - 36s 3ms/step - loss: 0.2833 - mean_absolute_error: 0.2833 - val_loss: 0.2871 - val_mean_absolute_error: 0.2871\n"
     ]
    },
    {
     "data": {
      "text/plain": [
       "<tensorflow.python.keras.callbacks.History at 0x7fab4f272278>"
      ]
     },
     "execution_count": 5,
     "metadata": {
      "tags": []
     },
     "output_type": "execute_result"
    }
   ],
   "source": [
    "NN_model.fit(train_features, train_labels, epochs=50, batch_size=32, validation_split = 0.2)"
   ]
  },
  {
   "cell_type": "code",
   "execution_count": 8,
   "metadata": {
    "colab": {
     "base_uri": "https://localhost:8080/"
    },
    "id": "juHgflzxJr6w",
    "outputId": "3623e082-7c2d-4397-c630-5132754f72b3"
   },
   "outputs": [
    {
     "name": "stdout",
     "output_type": "stream",
     "text": [
      "Saved model to disk\n"
     ]
    }
   ],
   "source": [
    "model_json = NN_model.to_json()\n",
    "with open(\"/content/nn_model.json\", \"w\") as json_file:\n",
    "    json_file.write(model_json)\n",
    "# serialize weights to HDF5\n",
    "NN_model.save_weights(\"/content/nn_model.h5\")\n",
    "print(\"Saved model to disk\")"
   ]
  },
  {
   "cell_type": "code",
   "execution_count": 10,
   "metadata": {
    "colab": {
     "base_uri": "https://localhost:8080/"
    },
    "id": "7K6q8zaHuVk9",
    "outputId": "8ed325c3-933c-4e5d-c274-7280d7a8a06a"
   },
   "outputs": [
    {
     "data": {
      "text/plain": [
       "0.9460722749268206"
      ]
     },
     "execution_count": 10,
     "metadata": {
      "tags": []
     },
     "output_type": "execute_result"
    }
   ],
   "source": [
    "preds = NN_model.predict(test_features)\n",
    "from sklearn.metrics import mean_squared_error\n",
    "mean_squared_error(test_labels, preds)"
   ]
  }
 ],
 "metadata": {
  "colab": {
   "collapsed_sections": [],
   "name": "Untitled1.ipynb",
   "provenance": []
  },
  "kernelspec": {
   "display_name": "Python 3",
   "language": "python",
   "name": "python3"
  },
  "language_info": {
   "codemirror_mode": {
    "name": "ipython",
    "version": 3
   },
   "file_extension": ".py",
   "mimetype": "text/x-python",
   "name": "python",
   "nbconvert_exporter": "python",
   "pygments_lexer": "ipython3",
   "version": "3.7.2"
  }
 },
 "nbformat": 4,
 "nbformat_minor": 1
}
